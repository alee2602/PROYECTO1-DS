{
 "cells": [
  {
   "cell_type": "markdown",
   "id": "7397e556",
   "metadata": {},
   "source": [
    "# **Proyecto 1 - Data Science**<br>**Importación y Análisis de datos**\n",
    "\n",
    "- Paula Barillas - 22764\n",
    "- Derek Arreaga - 22537\n",
    "- Mónica Salvatierra - 22249\n",
    "\n",
    "Link del repositorio: https://github.com/alee2602/PROYECTO1-DS\n"
   ]
  },
  {
   "cell_type": "markdown",
   "id": "0b09e772",
   "metadata": {},
   "source": [
    "En este cuaderno documenta la obtención, transformación y exploración de datos obtenidos del sitio web del [Mineduc](https://www.mineduc.gob.gt/BUSCAESTABLECIMIENTO_GE/), los cuales describen un grupo de centros de educación en Guatemala."
   ]
  },
  {
   "cell_type": "markdown",
   "id": "00dfae17",
   "metadata": {},
   "source": [
    "## **1. Obtención y formato de datos**"
   ]
  },
  {
   "cell_type": "markdown",
   "id": "5924bbdf",
   "metadata": {},
   "source": [
    "Los datos obtenidos se encontraban en formato `.xls`, por lo que se realizó el script [generate-csvfiles.py](scripts/generate-csvfiles.py), el cúal junto a las librerías **`bs4`** y **`pandas`**, se convierte cada archivo `.xls` a `.csv`.\n",
    "\n",
    "Desde la carpeta raíz del proyecto\n",
    "\n",
    "```bash\n",
    "    cd scripts\n",
    "    python generate-csvfiles.py\n",
    "```\n",
    "\n",
    "Luego de eso ya tendremos todos los archivos `.xls` de la carpeta [data/raw](data/raw), convertidos a formato `.csv` en la carpeta [data/csv](data/csv)"
   ]
  },
  {
   "cell_type": "markdown",
   "id": "937f0422",
   "metadata": {},
   "source": [
    "## **2. Importación y unificación de datos**"
   ]
  },
  {
   "cell_type": "code",
   "execution_count": 49,
   "id": "bf1448d6",
   "metadata": {},
   "outputs": [
    {
     "data": {
      "text/html": [
       "<div>\n",
       "<style scoped>\n",
       "    .dataframe tbody tr th:only-of-type {\n",
       "        vertical-align: middle;\n",
       "    }\n",
       "\n",
       "    .dataframe tbody tr th {\n",
       "        vertical-align: top;\n",
       "    }\n",
       "\n",
       "    .dataframe thead th {\n",
       "        text-align: right;\n",
       "    }\n",
       "</style>\n",
       "<table border=\"1\" class=\"dataframe\">\n",
       "  <thead>\n",
       "    <tr style=\"text-align: right;\">\n",
       "      <th></th>\n",
       "      <th>CODIGO</th>\n",
       "      <th>DISTRITO</th>\n",
       "      <th>DEPARTAMENTO</th>\n",
       "      <th>MUNICIPIO</th>\n",
       "      <th>ESTABLECIMIENTO</th>\n",
       "      <th>DIRECCION</th>\n",
       "      <th>TELEFONO</th>\n",
       "      <th>SUPERVISOR</th>\n",
       "      <th>DIRECTOR</th>\n",
       "      <th>NIVEL</th>\n",
       "      <th>SECTOR</th>\n",
       "      <th>AREA</th>\n",
       "      <th>STATUS</th>\n",
       "      <th>MODALIDAD</th>\n",
       "      <th>JORNADA</th>\n",
       "      <th>PLAN</th>\n",
       "      <th>DEPARTAMENTAL</th>\n",
       "    </tr>\n",
       "  </thead>\n",
       "  <tbody>\n",
       "    <tr>\n",
       "      <th>0</th>\n",
       "      <td>16-01-0138-46</td>\n",
       "      <td>16-031</td>\n",
       "      <td>ALTA VERAPAZ</td>\n",
       "      <td>COBAN</td>\n",
       "      <td>COLEGIO  COBAN</td>\n",
       "      <td>KM.2 SALIDA A SAN JUAN CHAMELCO ZONA 8</td>\n",
       "      <td>77945104</td>\n",
       "      <td>PATRICIO NAJARRO ASENCIO</td>\n",
       "      <td>GUSTAVO ADOLFO SIERRA POP</td>\n",
       "      <td>DIVERSIFICADO</td>\n",
       "      <td>PRIVADO</td>\n",
       "      <td>URBANA</td>\n",
       "      <td>ABIERTA</td>\n",
       "      <td>MONOLINGUE</td>\n",
       "      <td>MATUTINA</td>\n",
       "      <td>DIARIO(REGULAR)</td>\n",
       "      <td>ALTA VERAPAZ</td>\n",
       "    </tr>\n",
       "    <tr>\n",
       "      <th>1</th>\n",
       "      <td>16-01-0139-46</td>\n",
       "      <td>16-031</td>\n",
       "      <td>ALTA VERAPAZ</td>\n",
       "      <td>COBAN</td>\n",
       "      <td>COLEGIO PARTICULAR MIXTO  VERAPAZ</td>\n",
       "      <td>KM 209.5 ENTRADA A LA CIUDAD</td>\n",
       "      <td>77367402</td>\n",
       "      <td>PATRICIO NAJARRO ASENCIO</td>\n",
       "      <td>GILMA DOLORES GUAY PAZ DE LEAL</td>\n",
       "      <td>DIVERSIFICADO</td>\n",
       "      <td>PRIVADO</td>\n",
       "      <td>URBANA</td>\n",
       "      <td>ABIERTA</td>\n",
       "      <td>MONOLINGUE</td>\n",
       "      <td>MATUTINA</td>\n",
       "      <td>DIARIO(REGULAR)</td>\n",
       "      <td>ALTA VERAPAZ</td>\n",
       "    </tr>\n",
       "    <tr>\n",
       "      <th>2</th>\n",
       "      <td>16-01-0140-46</td>\n",
       "      <td>16-031</td>\n",
       "      <td>ALTA VERAPAZ</td>\n",
       "      <td>COBAN</td>\n",
       "      <td>COLEGIO \"LA INMACULADA\"</td>\n",
       "      <td>7A. AVENIDA 11-109 ZONA 6</td>\n",
       "      <td>78232301</td>\n",
       "      <td>PATRICIO NAJARRO ASENCIO</td>\n",
       "      <td>VIRGINIA  SOLANO SERRANO</td>\n",
       "      <td>DIVERSIFICADO</td>\n",
       "      <td>PRIVADO</td>\n",
       "      <td>URBANA</td>\n",
       "      <td>ABIERTA</td>\n",
       "      <td>MONOLINGUE</td>\n",
       "      <td>MATUTINA</td>\n",
       "      <td>DIARIO(REGULAR)</td>\n",
       "      <td>ALTA VERAPAZ</td>\n",
       "    </tr>\n",
       "    <tr>\n",
       "      <th>3</th>\n",
       "      <td>16-01-0141-46</td>\n",
       "      <td>16-005</td>\n",
       "      <td>ALTA VERAPAZ</td>\n",
       "      <td>COBAN</td>\n",
       "      <td>ESCUELA NACIONAL DE CIENCIAS COMERCIALES</td>\n",
       "      <td>2A CALLE 11-10 ZONA 2</td>\n",
       "      <td>79514215</td>\n",
       "      <td>NORA LILIANA FIGUEROA HERNÁNDEZ</td>\n",
       "      <td>HÉCTOR ROLANDO CHUN POOU</td>\n",
       "      <td>DIVERSIFICADO</td>\n",
       "      <td>OFICIAL</td>\n",
       "      <td>URBANA</td>\n",
       "      <td>ABIERTA</td>\n",
       "      <td>MONOLINGUE</td>\n",
       "      <td>MATUTINA</td>\n",
       "      <td>DIARIO(REGULAR)</td>\n",
       "      <td>ALTA VERAPAZ</td>\n",
       "    </tr>\n",
       "    <tr>\n",
       "      <th>4</th>\n",
       "      <td>16-01-0142-46</td>\n",
       "      <td>16-005</td>\n",
       "      <td>ALTA VERAPAZ</td>\n",
       "      <td>COBAN</td>\n",
       "      <td>INSTITUTO NORMAL MIXTO DEL NORTE 'EMILIO ROSAL...</td>\n",
       "      <td>3A AVE 6-23 ZONA 11</td>\n",
       "      <td>79521468</td>\n",
       "      <td>NORA LILIANA FIGUEROA HERNÁNDEZ</td>\n",
       "      <td>VICTOR HUGO DOMÍNGUEZ REYES</td>\n",
       "      <td>DIVERSIFICADO</td>\n",
       "      <td>OFICIAL</td>\n",
       "      <td>URBANA</td>\n",
       "      <td>ABIERTA</td>\n",
       "      <td>BILINGUE</td>\n",
       "      <td>VESPERTINA</td>\n",
       "      <td>DIARIO(REGULAR)</td>\n",
       "      <td>ALTA VERAPAZ</td>\n",
       "    </tr>\n",
       "  </tbody>\n",
       "</table>\n",
       "</div>"
      ],
      "text/plain": [
       "          CODIGO DISTRITO  DEPARTAMENTO MUNICIPIO  \\\n",
       "0  16-01-0138-46   16-031  ALTA VERAPAZ     COBAN   \n",
       "1  16-01-0139-46   16-031  ALTA VERAPAZ     COBAN   \n",
       "2  16-01-0140-46   16-031  ALTA VERAPAZ     COBAN   \n",
       "3  16-01-0141-46   16-005  ALTA VERAPAZ     COBAN   \n",
       "4  16-01-0142-46   16-005  ALTA VERAPAZ     COBAN   \n",
       "\n",
       "                                     ESTABLECIMIENTO  \\\n",
       "0                                     COLEGIO  COBAN   \n",
       "1                  COLEGIO PARTICULAR MIXTO  VERAPAZ   \n",
       "2                            COLEGIO \"LA INMACULADA\"   \n",
       "3           ESCUELA NACIONAL DE CIENCIAS COMERCIALES   \n",
       "4  INSTITUTO NORMAL MIXTO DEL NORTE 'EMILIO ROSAL...   \n",
       "\n",
       "                                DIRECCION  TELEFONO  \\\n",
       "0  KM.2 SALIDA A SAN JUAN CHAMELCO ZONA 8  77945104   \n",
       "1            KM 209.5 ENTRADA A LA CIUDAD  77367402   \n",
       "2               7A. AVENIDA 11-109 ZONA 6  78232301   \n",
       "3                   2A CALLE 11-10 ZONA 2  79514215   \n",
       "4                     3A AVE 6-23 ZONA 11  79521468   \n",
       "\n",
       "                        SUPERVISOR                        DIRECTOR  \\\n",
       "0         PATRICIO NAJARRO ASENCIO       GUSTAVO ADOLFO SIERRA POP   \n",
       "1         PATRICIO NAJARRO ASENCIO  GILMA DOLORES GUAY PAZ DE LEAL   \n",
       "2         PATRICIO NAJARRO ASENCIO        VIRGINIA  SOLANO SERRANO   \n",
       "3  NORA LILIANA FIGUEROA HERNÁNDEZ        HÉCTOR ROLANDO CHUN POOU   \n",
       "4  NORA LILIANA FIGUEROA HERNÁNDEZ     VICTOR HUGO DOMÍNGUEZ REYES   \n",
       "\n",
       "           NIVEL   SECTOR    AREA   STATUS   MODALIDAD     JORNADA  \\\n",
       "0  DIVERSIFICADO  PRIVADO  URBANA  ABIERTA  MONOLINGUE    MATUTINA   \n",
       "1  DIVERSIFICADO  PRIVADO  URBANA  ABIERTA  MONOLINGUE    MATUTINA   \n",
       "2  DIVERSIFICADO  PRIVADO  URBANA  ABIERTA  MONOLINGUE    MATUTINA   \n",
       "3  DIVERSIFICADO  OFICIAL  URBANA  ABIERTA  MONOLINGUE    MATUTINA   \n",
       "4  DIVERSIFICADO  OFICIAL  URBANA  ABIERTA    BILINGUE  VESPERTINA   \n",
       "\n",
       "              PLAN DEPARTAMENTAL  \n",
       "0  DIARIO(REGULAR)  ALTA VERAPAZ  \n",
       "1  DIARIO(REGULAR)  ALTA VERAPAZ  \n",
       "2  DIARIO(REGULAR)  ALTA VERAPAZ  \n",
       "3  DIARIO(REGULAR)  ALTA VERAPAZ  \n",
       "4  DIARIO(REGULAR)  ALTA VERAPAZ  "
      ]
     },
     "execution_count": 49,
     "metadata": {},
     "output_type": "execute_result"
    }
   ],
   "source": [
    "import pandas as pd\n",
    "import unicodedata\n",
    "import os\n",
    "import re\n",
    "\n",
    "df = pd.read_csv('data/csv/altaverapaz.csv')\n",
    "df.head()"
   ]
  },
  {
   "cell_type": "markdown",
   "id": "965fa540",
   "metadata": {},
   "source": [
    "Primero se importó únicamente **1** archivo para visualizar las columnas que tendrán nuestros archivos, las cuáles son:\n",
    "\n",
    "**'CODIGO'**, **'DISTRITO'**, **'DEPARTAMENTO'**, **'MUNICIPIO'**, **'ESTABLECIMIENTO'**, **'DIRECCION'**, **'TELEFONO'**, **'SUPERVISOR'**, **'DIRECTOR'**, **'NIVEL'**, **'SECTOR'**, **'AREA'**, **'STATUS'**, **'MODALIDAD'**, **'JORNADA'**, **'PLAN'**, **'DEPARTAMENTAL'**\n",
    "\n",
    "Ahora importaremos todos los archivos y los concatenaremos en un solo **df** para poder analizarlos correctamente."
   ]
  },
  {
   "cell_type": "code",
   "execution_count": 50,
   "id": "ab8af38c",
   "metadata": {},
   "outputs": [
    {
     "name": "stdout",
     "output_type": "stream",
     "text": [
      "Leyendo altaverapaz.csv con 294 centros educativos\n",
      "Leyendo bajaverapaz.csv con 94 centros educativos\n",
      "Leyendo chimaltenango.csv con 300 centros educativos\n",
      "Leyendo chiquimula.csv con 136 centros educativos\n",
      "Leyendo ciudadcapital.csv con 860 centros educativos\n",
      "Leyendo elprogreso.csv con 97 centros educativos\n",
      "Leyendo escuintla.csv con 393 centros educativos\n",
      "Leyendo guatemala.csv con 1036 centros educativos\n",
      "Leyendo huehuetenango.csv con 295 centros educativos\n",
      "Leyendo izabal.csv con 273 centros educativos\n",
      "Leyendo jalapa.csv con 121 centros educativos\n",
      "Leyendo jutiapa.csv con 296 centros educativos\n",
      "Leyendo peten.csv con 270 centros educativos\n",
      "Leyendo quetzaltenango.csv con 365 centros educativos\n",
      "Leyendo quiche.csv con 184 centros educativos\n",
      "Leyendo retalhuleu.csv con 272 centros educativos\n",
      "Leyendo sacatepequez.csv con 206 centros educativos\n",
      "Leyendo sanmarcos.csv con 431 centros educativos\n",
      "Leyendo santarosa.csv con 133 centros educativos\n",
      "Leyendo solola.csv con 111 centros educativos\n",
      "Leyendo suchitepequez.csv con 296 centros educativos\n",
      "Leyendo totonicapan.csv con 51 centros educativos\n",
      "Leyendo zacapa.csv con 70 centros educativos\n"
     ]
    }
   ],
   "source": [
    "import pandas as pd\n",
    "import os\n",
    "\n",
    "columnas = ['CODIGO', 'DISTRITO', 'DEPARTAMENTO', 'MUNICIPIO', 'ESTABLECIMIENTO', \n",
    "            'DIRECCION', 'TELEFONO', 'SUPERVISOR', 'DIRECTOR', 'NIVEL', 'SECTOR', \n",
    "            'AREA', 'STATUS', 'MODALIDAD', 'JORNADA', 'PLAN', 'DEPARTAMENTAL']\n",
    "\n",
    "carpeta = 'data/csv/'\n",
    "dfs = []\n",
    "\n",
    "for archivo in os.listdir(carpeta):\n",
    "    if archivo.endswith('.csv'):\n",
    "        ruta_completa = os.path.join(carpeta, archivo)\n",
    "        temp_df = pd.read_csv(ruta_completa)\n",
    "        print(f'Leyendo {archivo} con {temp_df.shape[0]} centros educativos')\n",
    "        dfs.append(pd.read_csv(ruta_completa))\n",
    "\n",
    "df = pd.concat(dfs, ignore_index=True)\n"
   ]
  },
  {
   "cell_type": "markdown",
   "id": "f5d66e63",
   "metadata": {},
   "source": [
    "### Obtener valores de columnas generales"
   ]
  },
  {
   "cell_type": "code",
   "execution_count": 51,
   "id": "e35fec77",
   "metadata": {},
   "outputs": [
    {
     "name": "stdout",
     "output_type": "stream",
     "text": [
      "Datos únicos de la columna NIVEL:\n",
      "['DIVERSIFICADO']\n",
      "Datos únicos de la columna SECTOR:\n",
      "['PRIVADO' 'OFICIAL' 'MUNICIPAL' 'COOPERATIVA']\n",
      "Datos únicos de la columna AREA:\n",
      "['URBANA' 'RURAL' 'SIN ESPECIFICAR']\n",
      "Datos únicos de la columna STATUS:\n",
      "['ABIERTA']\n",
      "Datos únicos de la columna MODALIDAD:\n",
      "['MONOLINGUE' 'BILINGUE']\n",
      "Datos únicos de la columna JORNADA:\n",
      "['MATUTINA' 'VESPERTINA' 'DOBLE' 'NOCTURNA' 'SIN JORNADA' 'INTERMEDIA']\n",
      "Datos únicos de la columna PLAN:\n",
      "['DIARIO(REGULAR)' 'FIN DE SEMANA' 'A DISTANCIA' 'SEMIPRESENCIAL'\n",
      " 'SEMIPRESENCIAL (FIN DE SEMANA)' 'SEMIPRESENCIAL (UN DÍA A LA SEMANA)'\n",
      " 'VIRTUAL A DISTANCIA' 'SEMIPRESENCIAL (DOS DÍAS A LA SEMANA)' 'SABATINO'\n",
      " 'INTERCALADO' 'DOMINICAL' 'MIXTO']\n",
      "Datos únicos de la columna DEPARTAMENTAL:\n",
      "['ALTA VERAPAZ' 'BAJA VERAPAZ' 'CHIMALTENANGO' 'CHIQUIMULA'\n",
      " 'GUATEMALA NORTE' 'GUATEMALA ORIENTE' 'GUATEMALA OCCIDENTE'\n",
      " 'GUATEMALA SUR' 'EL PROGRESO' 'ESCUINTLA' 'HUEHUETENANGO' 'IZABAL'\n",
      " 'JALAPA' 'JUTIAPA' 'PETÉN' 'QUETZALTENANGO' 'QUICHÉ' 'QUICHÉ NORTE'\n",
      " 'RETALHULEU' 'SACATEPÉQUEZ' 'SAN MARCOS' 'SANTA ROSA' 'SOLOLÁ'\n",
      " 'SUCHITEPÉQUEZ' 'TOTONICAPÁN' 'ZACAPA']\n"
     ]
    }
   ],
   "source": [
    "for col in ['NIVEL', 'SECTOR', 'AREA', 'STATUS', 'MODALIDAD', 'JORNADA', 'PLAN', 'DEPARTAMENTAL']:\n",
    "    print(f'Datos únicos de la columna {col}:\\n{df[col].unique()}')"
   ]
  },
  {
   "cell_type": "code",
   "execution_count": 52,
   "id": "533e1912",
   "metadata": {},
   "outputs": [
    {
     "data": {
      "text/plain": [
       "(6584, 17)"
      ]
     },
     "execution_count": 52,
     "metadata": {},
     "output_type": "execute_result"
    }
   ],
   "source": [
    "df.shape"
   ]
  },
  {
   "cell_type": "markdown",
   "id": "ce9f722b",
   "metadata": {},
   "source": [
    "## **3. Descripción general del dataset**"
   ]
  },
  {
   "cell_type": "markdown",
   "id": "f310057f",
   "metadata": {},
   "source": [
    "A continuación, se describen los datos obtenidos del sitio web del [Mineduc](https://www.mineduc.gob.gt/BUSCAESTABLECIMIENTO_GE/):\n",
    "\n",
    "Los datos corresponden a los **6584** centros educativos a nivel nacional que imparten **educación diversificada**. Están organizados en **23 archivos CSV**, uno por cada **departamento** de Guatemala. Cada archivo contiene **17 columnas** con información relevante sobre los establecimientos:\n",
    "\n",
    "\n",
    "* `CODIGO`: Identificador único del establecimiento, con el formato `XX-XX-XXXX-XX`.\n",
    "\n",
    "  * **Primer bloque (`XX`)**: Código del departamento (ej. `18` para Izabal).\n",
    "  * **Segundo bloque (`XX`)**: Código del municipio dentro del departamento.\n",
    "  * **Tercer bloque (`XXXX`)**: Identificador interno del centro educativo.\n",
    "  * **Cuarto bloque (`XX`)**: Es siempre `46`, posiblemente indica el nivel educativo (diversificado) o el sistema de codificación actual del Mineduc.\n",
    "\n",
    "* `DISTRITO`: Código del distrito escolar al que pertenece el establecimiento. Tiene el formato `XX-XXX`, donde el primer número corresponde al departamento, y los últimos tres identifican las zonas operativas o educativas regionales dentro del departamento. **Ejemplo:** `18-007` y `18-008` son distritos distintos dentro de Izabal.\n",
    "\n",
    "* `DEPARTAMENTO`: Nombre del departamento (ej. `IZABAL`).\n",
    "\n",
    "* `MUNICIPIO`: Municipio donde se ubica el establecimiento (ej. `PUERTO BARRIOS`).\n",
    "\n",
    "* `ESTABLECIMIENTO`: Nombre oficial del centro educativo. Puede incluir el tipo (`COLEGIO`, `ESCUELA`, `INSTITUTO`) y detalles como mixto, cristiano, etc.\n",
    "\n",
    "* `DIRECCIÓN`: Ubicación del centro.\n",
    "\n",
    "* `TELEFONO`: Número telefónico del establecimiento, si está disponible.\n",
    "\n",
    "* `SUPERVISOR`: Nombre del supervisor distrital asignado al establecimiento.\n",
    "\n",
    "* `DIRECTOR`: Nombre del director o responsable del centro educativo.\n",
    "\n",
    "* `NIVEL`: Máximo nivel educativo ofrecido. En este caso todos son `DIVERSIFICADO`.\n",
    "\n",
    "* `SECTOR`: Define el sector del establecimiento, puede ser:\n",
    "    - **PRIVADO**\n",
    "    - **OFICIAL**\n",
    "    - **MUNICIPAL**\n",
    "    - **COOPERATIVA**\n",
    "\n",
    "* `AREA`: Área geográfica según categorización del Mineduc: **URBANA**, **RURAL** o **SIN ESPECIFICAR**.\n",
    "\n",
    "* `STATUS`: Estado de funcionamiento del centro educativo. En estos datos, el valor para todos es `ABIERTA`.\n",
    "\n",
    "* `MODALIDAD`: Tipo de modalidad educativa: `MONOLINGUE` o `BILINGUE`.\n",
    "\n",
    "* `JORNADA`: Jornada en que opera el centro: **MATUTINA**, **VESPERTINA**, **DOBLE**, **NOCTURNA**, **SIN JORNADA**, **INTERMEDIA**.\n",
    "\n",
    "* `PLAN`: Plan educativo implementado:\n",
    "    - **DIARIO(REGULAR)**\n",
    "    - **FIN DE SEMANA**\n",
    "    - **A DISTANCIA**\n",
    "    - **SEMIPRESENCIAL**\n",
    "    - **SEMIPRESENCIAL (FIN DE SEMANA)**\n",
    "    - **SEMIPRESENCIAL (UN DÍA A LA SEMANA)**\n",
    "    - **VIRTUAL A DISTANCIA**\n",
    "    - **SEMIPRESENCIAL (DOS DÍAS A LA SEMANA)**\n",
    "    - **SABATINO**\n",
    "    - **INTERCALADO**\n",
    "    - **DOMINICAL**\n",
    "    - **MIXTO**\n",
    "\n",
    "* `DEPARTAMENTAL`: Nombre del departamento al que pertenece el centro educativo. En algunos casos, describe subdivisiones regionales dentro de departamentos con alta densidad de establecimientos, como **GUATEMALA NORTE**, **GUATEMALA ORIENTE**, **GUATEMALA OCCIDENTE**, **GUATEMALA SUR**, o distinciones como **QUICHÉ** y **QUICHÉ NORTE**."
   ]
  },
  {
   "cell_type": "markdown",
   "id": "2d3a629a",
   "metadata": {},
   "source": [
    "## **4. Variables que requieren limpieza**"
   ]
  },
  {
   "cell_type": "markdown",
   "id": "872ff08d",
   "metadata": {},
   "source": [
    "### Inspección inicial del estado de los datos"
   ]
  },
  {
   "cell_type": "code",
   "execution_count": 53,
   "id": "f9745b61",
   "metadata": {},
   "outputs": [
    {
     "name": "stdout",
     "output_type": "stream",
     "text": [
      "Dimensiones: (6584, 17)\n",
      "Columnas: ['CODIGO', 'DISTRITO', 'DEPARTAMENTO', 'MUNICIPIO', 'ESTABLECIMIENTO', 'DIRECCION', 'TELEFONO', 'SUPERVISOR', 'DIRECTOR', 'NIVEL', 'SECTOR', 'AREA', 'STATUS', 'MODALIDAD', 'JORNADA', 'PLAN', 'DEPARTAMENTAL']\n",
      "Valores nulos por columna:\n",
      " CODIGO              0\n",
      "DISTRITO            0\n",
      "DEPARTAMENTO        0\n",
      "MUNICIPIO           0\n",
      "ESTABLECIMIENTO     0\n",
      "DIRECCION           2\n",
      "TELEFONO           45\n",
      "SUPERVISOR          0\n",
      "DIRECTOR           23\n",
      "NIVEL               0\n",
      "SECTOR              0\n",
      "AREA                0\n",
      "STATUS              0\n",
      "MODALIDAD           0\n",
      "JORNADA             0\n",
      "PLAN                0\n",
      "DEPARTAMENTAL       0\n",
      "dtype: int64\n",
      "Tipos de datos:\n",
      " CODIGO             object\n",
      "DISTRITO           object\n",
      "DEPARTAMENTO       object\n",
      "MUNICIPIO          object\n",
      "ESTABLECIMIENTO    object\n",
      "DIRECCION          object\n",
      "TELEFONO           object\n",
      "SUPERVISOR         object\n",
      "DIRECTOR           object\n",
      "NIVEL              object\n",
      "SECTOR             object\n",
      "AREA               object\n",
      "STATUS             object\n",
      "MODALIDAD          object\n",
      "JORNADA            object\n",
      "PLAN               object\n",
      "DEPARTAMENTAL      object\n",
      "dtype: object\n"
     ]
    },
    {
     "data": {
      "text/html": [
       "<div>\n",
       "<style scoped>\n",
       "    .dataframe tbody tr th:only-of-type {\n",
       "        vertical-align: middle;\n",
       "    }\n",
       "\n",
       "    .dataframe tbody tr th {\n",
       "        vertical-align: top;\n",
       "    }\n",
       "\n",
       "    .dataframe thead th {\n",
       "        text-align: right;\n",
       "    }\n",
       "</style>\n",
       "<table border=\"1\" class=\"dataframe\">\n",
       "  <thead>\n",
       "    <tr style=\"text-align: right;\">\n",
       "      <th></th>\n",
       "      <th>CODIGO</th>\n",
       "      <th>DISTRITO</th>\n",
       "      <th>DEPARTAMENTO</th>\n",
       "      <th>MUNICIPIO</th>\n",
       "      <th>ESTABLECIMIENTO</th>\n",
       "      <th>DIRECCION</th>\n",
       "      <th>TELEFONO</th>\n",
       "      <th>SUPERVISOR</th>\n",
       "      <th>DIRECTOR</th>\n",
       "      <th>NIVEL</th>\n",
       "      <th>SECTOR</th>\n",
       "      <th>AREA</th>\n",
       "      <th>STATUS</th>\n",
       "      <th>MODALIDAD</th>\n",
       "      <th>JORNADA</th>\n",
       "      <th>PLAN</th>\n",
       "      <th>DEPARTAMENTAL</th>\n",
       "    </tr>\n",
       "  </thead>\n",
       "  <tbody>\n",
       "    <tr>\n",
       "      <th>5190</th>\n",
       "      <td>11-03-0022-46</td>\n",
       "      <td>11-018</td>\n",
       "      <td>RETALHULEU</td>\n",
       "      <td>SANTA CRUZ MULUA</td>\n",
       "      <td>COLEGIO MIXTO SANTA CRUZ</td>\n",
       "      <td>2DA. AVENIDA Y 5TA. CALLE, ZONA 1</td>\n",
       "      <td>56245235.0</td>\n",
       "      <td>MIRTA ALIDA CASTELLANOS MARROQUIN</td>\n",
       "      <td>RUBY YAQUELIN GÓMEZ MEJÍA</td>\n",
       "      <td>DIVERSIFICADO</td>\n",
       "      <td>PRIVADO</td>\n",
       "      <td>URBANA</td>\n",
       "      <td>ABIERTA</td>\n",
       "      <td>MONOLINGUE</td>\n",
       "      <td>MATUTINA</td>\n",
       "      <td>DIARIO(REGULAR)</td>\n",
       "      <td>RETALHULEU</td>\n",
       "    </tr>\n",
       "    <tr>\n",
       "      <th>3373</th>\n",
       "      <td>13-09-0046-46</td>\n",
       "      <td>13-022</td>\n",
       "      <td>HUEHUETENANGO</td>\n",
       "      <td>SAN ILDEFONSO IXTAHUACAN</td>\n",
       "      <td>COLEGIO EVANGÉLICO MIXTO PRIVADO \"EMANUEL\"</td>\n",
       "      <td>CABECERA MUNICIPAL</td>\n",
       "      <td>57548166</td>\n",
       "      <td>ANDRÉS TOMÁS LEÓN ANDRÉS GASPAR</td>\n",
       "      <td>MARLEN MILENA YAQUE RAMÍREZ</td>\n",
       "      <td>DIVERSIFICADO</td>\n",
       "      <td>PRIVADO</td>\n",
       "      <td>URBANA</td>\n",
       "      <td>ABIERTA</td>\n",
       "      <td>MONOLINGUE</td>\n",
       "      <td>VESPERTINA</td>\n",
       "      <td>DIARIO(REGULAR)</td>\n",
       "      <td>HUEHUETENANGO</td>\n",
       "    </tr>\n",
       "    <tr>\n",
       "      <th>2995</th>\n",
       "      <td>01-15-0759-46</td>\n",
       "      <td>01-411</td>\n",
       "      <td>GUATEMALA</td>\n",
       "      <td>VILLA NUEVA</td>\n",
       "      <td>LICEO TECNOLÓGICO MAHANAIM</td>\n",
       "      <td>8A. CALLE 5-96 ZONA 1</td>\n",
       "      <td>53461370</td>\n",
       "      <td>JUAN ENRIQUE MARTINEZ SOLANO</td>\n",
       "      <td>TANIA ELIZABETH BAJÁN CHAJÓN</td>\n",
       "      <td>DIVERSIFICADO</td>\n",
       "      <td>PRIVADO</td>\n",
       "      <td>URBANA</td>\n",
       "      <td>ABIERTA</td>\n",
       "      <td>MONOLINGUE</td>\n",
       "      <td>SIN JORNADA</td>\n",
       "      <td>SEMIPRESENCIAL (FIN DE SEMANA)</td>\n",
       "      <td>GUATEMALA SUR</td>\n",
       "    </tr>\n",
       "    <tr>\n",
       "      <th>3779</th>\n",
       "      <td>21-01-0104-46</td>\n",
       "      <td>21-002</td>\n",
       "      <td>JALAPA</td>\n",
       "      <td>JALAPA</td>\n",
       "      <td>INSTITUTO NORMAL CENTROAMERICANO  PARA VARONES</td>\n",
       "      <td>CALLE TRANSITO ROJAS, 4-82, ZONA 2, BARRIO SAN...</td>\n",
       "      <td>40645842</td>\n",
       "      <td>JORGE ADELINO PEREZ UCELO</td>\n",
       "      <td>LISI KARINA ESCOBAR ESPINOZA</td>\n",
       "      <td>DIVERSIFICADO</td>\n",
       "      <td>OFICIAL</td>\n",
       "      <td>URBANA</td>\n",
       "      <td>ABIERTA</td>\n",
       "      <td>MONOLINGUE</td>\n",
       "      <td>MATUTINA</td>\n",
       "      <td>DIARIO(REGULAR)</td>\n",
       "      <td>JALAPA</td>\n",
       "    </tr>\n",
       "    <tr>\n",
       "      <th>4509</th>\n",
       "      <td>09-01-0334-46</td>\n",
       "      <td>09-006</td>\n",
       "      <td>QUETZALTENANGO</td>\n",
       "      <td>QUETZALTENANGO</td>\n",
       "      <td>COLEGIO PRIVADO \"BELLAS ARTES\"</td>\n",
       "      <td>11 CALLE 9-79 ZONA 1 QUETZALTENANGO</td>\n",
       "      <td>77683473</td>\n",
       "      <td>PEDRO GERÓNIMO SARAT CHAJ</td>\n",
       "      <td>FRANCISCO ROMÁN BETHANCOURT MALDONADO</td>\n",
       "      <td>DIVERSIFICADO</td>\n",
       "      <td>PRIVADO</td>\n",
       "      <td>URBANA</td>\n",
       "      <td>ABIERTA</td>\n",
       "      <td>MONOLINGUE</td>\n",
       "      <td>MATUTINA</td>\n",
       "      <td>DIARIO(REGULAR)</td>\n",
       "      <td>QUETZALTENANGO</td>\n",
       "    </tr>\n",
       "  </tbody>\n",
       "</table>\n",
       "</div>"
      ],
      "text/plain": [
       "             CODIGO DISTRITO    DEPARTAMENTO                 MUNICIPIO  \\\n",
       "5190  11-03-0022-46   11-018      RETALHULEU          SANTA CRUZ MULUA   \n",
       "3373  13-09-0046-46   13-022   HUEHUETENANGO  SAN ILDEFONSO IXTAHUACAN   \n",
       "2995  01-15-0759-46   01-411       GUATEMALA               VILLA NUEVA   \n",
       "3779  21-01-0104-46   21-002          JALAPA                    JALAPA   \n",
       "4509  09-01-0334-46   09-006  QUETZALTENANGO            QUETZALTENANGO   \n",
       "\n",
       "                                     ESTABLECIMIENTO  \\\n",
       "5190                        COLEGIO MIXTO SANTA CRUZ   \n",
       "3373      COLEGIO EVANGÉLICO MIXTO PRIVADO \"EMANUEL\"   \n",
       "2995                      LICEO TECNOLÓGICO MAHANAIM   \n",
       "3779  INSTITUTO NORMAL CENTROAMERICANO  PARA VARONES   \n",
       "4509                  COLEGIO PRIVADO \"BELLAS ARTES\"   \n",
       "\n",
       "                                              DIRECCION    TELEFONO  \\\n",
       "5190                  2DA. AVENIDA Y 5TA. CALLE, ZONA 1  56245235.0   \n",
       "3373                                 CABECERA MUNICIPAL    57548166   \n",
       "2995                              8A. CALLE 5-96 ZONA 1    53461370   \n",
       "3779  CALLE TRANSITO ROJAS, 4-82, ZONA 2, BARRIO SAN...    40645842   \n",
       "4509                11 CALLE 9-79 ZONA 1 QUETZALTENANGO    77683473   \n",
       "\n",
       "                             SUPERVISOR  \\\n",
       "5190  MIRTA ALIDA CASTELLANOS MARROQUIN   \n",
       "3373    ANDRÉS TOMÁS LEÓN ANDRÉS GASPAR   \n",
       "2995       JUAN ENRIQUE MARTINEZ SOLANO   \n",
       "3779          JORGE ADELINO PEREZ UCELO   \n",
       "4509          PEDRO GERÓNIMO SARAT CHAJ   \n",
       "\n",
       "                                   DIRECTOR          NIVEL   SECTOR    AREA  \\\n",
       "5190              RUBY YAQUELIN GÓMEZ MEJÍA  DIVERSIFICADO  PRIVADO  URBANA   \n",
       "3373            MARLEN MILENA YAQUE RAMÍREZ  DIVERSIFICADO  PRIVADO  URBANA   \n",
       "2995           TANIA ELIZABETH BAJÁN CHAJÓN  DIVERSIFICADO  PRIVADO  URBANA   \n",
       "3779           LISI KARINA ESCOBAR ESPINOZA  DIVERSIFICADO  OFICIAL  URBANA   \n",
       "4509  FRANCISCO ROMÁN BETHANCOURT MALDONADO  DIVERSIFICADO  PRIVADO  URBANA   \n",
       "\n",
       "       STATUS   MODALIDAD      JORNADA                            PLAN  \\\n",
       "5190  ABIERTA  MONOLINGUE     MATUTINA                 DIARIO(REGULAR)   \n",
       "3373  ABIERTA  MONOLINGUE   VESPERTINA                 DIARIO(REGULAR)   \n",
       "2995  ABIERTA  MONOLINGUE  SIN JORNADA  SEMIPRESENCIAL (FIN DE SEMANA)   \n",
       "3779  ABIERTA  MONOLINGUE     MATUTINA                 DIARIO(REGULAR)   \n",
       "4509  ABIERTA  MONOLINGUE     MATUTINA                 DIARIO(REGULAR)   \n",
       "\n",
       "       DEPARTAMENTAL  \n",
       "5190      RETALHULEU  \n",
       "3373   HUEHUETENANGO  \n",
       "2995   GUATEMALA SUR  \n",
       "3779          JALAPA  \n",
       "4509  QUETZALTENANGO  "
      ]
     },
     "execution_count": 53,
     "metadata": {},
     "output_type": "execute_result"
    }
   ],
   "source": [
    "# Tamaño y columnas\n",
    "print(\"Dimensiones:\", df.shape)\n",
    "print(\"Columnas:\", df.columns.tolist())\n",
    "\n",
    "# Revisar nulos\n",
    "print(\"Valores nulos por columna:\\n\", df.isnull().sum())\n",
    "\n",
    "# Tipos de datos\n",
    "print(\"Tipos de datos:\\n\", df.dtypes)\n",
    "\n",
    "df.sample(5)\n"
   ]
  },
  {
   "cell_type": "markdown",
   "id": "5f48b9fa",
   "metadata": {},
   "source": [
    "Como se puede observar, todas las columnas son de tipo `object`, por lo que para la limpieza de todas las columnas se eliminarán espacios extremos y convertir a mayúsculas."
   ]
  },
  {
   "cell_type": "markdown",
   "id": "f634739e",
   "metadata": {},
   "source": [
    "### Limpiar columnas tipo texto: eliminar espacios extremos y convertir a mayúsculas"
   ]
  },
  {
   "cell_type": "code",
   "execution_count": 54,
   "id": "d9c22e89",
   "metadata": {},
   "outputs": [],
   "source": [
    "\n",
    "for col in df.select_dtypes(include=\"object\").columns:\n",
    "    df[col] = df[col].astype(str).str.strip().str.upper()\n"
   ]
  },
  {
   "cell_type": "markdown",
   "id": "0ac23d54",
   "metadata": {},
   "source": [
    "En este paso se estandarizó todo el texto de las columnas tipo cadena. Esto se realizó con el propósito de evitar inconsistencias causadas por diferencias en mayúsculas y minúsculas, y por espacios innecesarios al inicio o final de los campos. Esta limpieza permite mejorar la detección de duplicados, corregir errores ortográficos y facilitar futuras agrupaciones."
   ]
  },
  {
   "cell_type": "markdown",
   "id": "3332315e",
   "metadata": {},
   "source": [
    "Ahora con todas las columnas sin inconcistencias por diferencia de caracteres, se procede a analizar todas las columnas una por una."
   ]
  },
  {
   "cell_type": "markdown",
   "id": "3cb022e0",
   "metadata": {},
   "source": [
    "### **1. CÓDIGO**"
   ]
  },
  {
   "cell_type": "markdown",
   "id": "fee3471d",
   "metadata": {},
   "source": [
    "**Ver ejemplos distintos de códigos (únicos)**"
   ]
  },
  {
   "cell_type": "code",
   "execution_count": 55,
   "id": "3ddd2fc1",
   "metadata": {},
   "outputs": [
    {
     "data": {
      "text/plain": [
       "5161    11-01-1406-46\n",
       "2805    01-14-0187-46\n",
       "3327    13-04-0112-46\n",
       "3531    18-01-0320-46\n",
       "6333    10-08-0026-46\n",
       "3821    21-01-0417-46\n",
       "4152    22-14-0080-46\n",
       "1851    05-01-0459-46\n",
       "6414    10-15-0040-46\n",
       "4523    09-01-0384-46\n",
       "5442    03-09-0056-46\n",
       "1793    05-01-0253-46\n",
       "1584    00-18-0223-46\n",
       "1691    02-01-0062-46\n",
       "5891    12-29-0029-46\n",
       "3172    01-17-0315-46\n",
       "1988    05-05-0077-46\n",
       "4179    22-16-0031-46\n",
       "2851    01-15-0119-46\n",
       "552     04-03-0260-46\n",
       "Name: CODIGO, dtype: object"
      ]
     },
     "execution_count": 55,
     "metadata": {},
     "output_type": "execute_result"
    }
   ],
   "source": [
    "df[\"CODIGO\"].sample(20, random_state=1)"
   ]
  },
  {
   "cell_type": "markdown",
   "id": "12bd12f4",
   "metadata": {},
   "source": [
    "**Ver longitud del identificador de cada establecimiento**"
   ]
  },
  {
   "cell_type": "code",
   "execution_count": 56,
   "id": "7c08ef54",
   "metadata": {},
   "outputs": [
    {
     "data": {
      "text/plain": [
       "LARGO_CODIGO\n",
       "13    6584\n",
       "Name: count, dtype: int64"
      ]
     },
     "execution_count": 56,
     "metadata": {},
     "output_type": "execute_result"
    }
   ],
   "source": [
    "\n",
    "df[\"LARGO_CODIGO\"] = df[\"CODIGO\"].astype(str).str.len()\n",
    "df[\"LARGO_CODIGO\"].value_counts().sort_index()\n",
    "\n"
   ]
  },
  {
   "cell_type": "markdown",
   "id": "96cb3122",
   "metadata": {},
   "source": [
    "Se evaluó la estructura de los códigos institucionales para garantizar su consistencia. Esto permitió detectar posibles errores de codificación o registros atípicos. No existen variaciones en el formato ni en la cantidad de dígitos en cada código."
   ]
  },
  {
   "cell_type": "code",
   "execution_count": 57,
   "id": "c0f76077",
   "metadata": {},
   "outputs": [],
   "source": [
    "df = df.drop(\"LARGO_CODIGO\", axis=1)"
   ]
  },
  {
   "cell_type": "markdown",
   "id": "b997a469",
   "metadata": {},
   "source": [
    "### **2. DISTRITO**"
   ]
  },
  {
   "cell_type": "markdown",
   "id": "327ad214",
   "metadata": {},
   "source": [
    "**Ver ejemplos distintos de códigos de cada distrito (únicos)**"
   ]
  },
  {
   "cell_type": "code",
   "execution_count": 58,
   "id": "dadf6bcc",
   "metadata": {},
   "outputs": [
    {
     "data": {
      "text/plain": [
       "5161    11-017\n",
       "2805    01-411\n",
       "3327    13-012\n",
       "3531    18-008\n",
       "6333    10-009\n",
       "3821    21-004\n",
       "4152    22-023\n",
       "1851    05-033\n",
       "6414    10-021\n",
       "4523    09-006\n",
       "5442    03-006\n",
       "1793    05-033\n",
       "1584    01-403\n",
       "1691    02-021\n",
       "5891    12-053\n",
       "3172    01-641\n",
       "1988    05-031\n",
       "4179    22-026\n",
       "2851    01-214\n",
       "552     04-033\n",
       "Name: DISTRITO, dtype: object"
      ]
     },
     "execution_count": 58,
     "metadata": {},
     "output_type": "execute_result"
    }
   ],
   "source": [
    "df[\"DISTRITO\"].sample(20, random_state=1)"
   ]
  },
  {
   "cell_type": "markdown",
   "id": "c36c7502",
   "metadata": {},
   "source": [
    "**Ver longitud del identificador de cada distrito**"
   ]
  },
  {
   "cell_type": "code",
   "execution_count": 59,
   "id": "ca7668a4",
   "metadata": {},
   "outputs": [
    {
     "data": {
      "text/plain": [
       "LARGO_DISTRITO\n",
       "6    6584\n",
       "Name: count, dtype: int64"
      ]
     },
     "execution_count": 59,
     "metadata": {},
     "output_type": "execute_result"
    }
   ],
   "source": [
    "df[\"LARGO_DISTRITO\"] = df[\"DISTRITO\"].astype(str).str.len()\n",
    "df[\"LARGO_DISTRITO\"].value_counts().sort_index()\n"
   ]
  },
  {
   "cell_type": "markdown",
   "id": "57a16eee",
   "metadata": {},
   "source": [
    "Se evaluó la estructura de los identificadores de cada distrito para garantizar su consistencia. Esto permitió detectar posibles errores de codificación o registros atípicos. No existen variaciones en el formato ni en la cantidad de dígitos en cada identificador del distrito"
   ]
  },
  {
   "cell_type": "code",
   "execution_count": 60,
   "id": "f2da5667",
   "metadata": {},
   "outputs": [],
   "source": [
    "df = df.drop(\"LARGO_DISTRITO\", axis=1)"
   ]
  },
  {
   "cell_type": "markdown",
   "id": "a789e836",
   "metadata": {},
   "source": [
    "### **3. DEPARTAMENTO**"
   ]
  },
  {
   "cell_type": "markdown",
   "id": "7d9e7d64",
   "metadata": {},
   "source": [
    "**Eliminar espacios inconsistentes y cualquier acentuación**"
   ]
  },
  {
   "cell_type": "code",
   "execution_count": 61,
   "id": "34d7f25e",
   "metadata": {},
   "outputs": [],
   "source": [
    "def limpiar_departamento(nombre):\n",
    "    nombre = unicodedata.normalize(\"NFKD\", nombre)\n",
    "    nombre = ''.join(c for c in nombre if not unicodedata.combining(c))\n",
    "    return nombre\n",
    "\n",
    "df[\"DEPARTAMENTO\"] = df[\"DEPARTAMENTO\"].apply(limpiar_departamento)"
   ]
  },
  {
   "cell_type": "markdown",
   "id": "382e690d",
   "metadata": {},
   "source": [
    "**Obtener los valores únicos**"
   ]
  },
  {
   "cell_type": "code",
   "execution_count": 62,
   "id": "54769172",
   "metadata": {},
   "outputs": [
    {
     "name": "stdout",
     "output_type": "stream",
     "text": [
      "Departamentos únicos encontrados:\n",
      "['ALTA VERAPAZ' 'BAJA VERAPAZ' 'CHIMALTENANGO' 'CHIQUIMULA'\n",
      " 'CIUDAD CAPITAL' 'EL PROGRESO' 'ESCUINTLA' 'GUATEMALA' 'HUEHUETENANGO'\n",
      " 'IZABAL' 'JALAPA' 'JUTIAPA' 'PETEN' 'QUETZALTENANGO' 'QUICHE'\n",
      " 'RETALHULEU' 'SACATEPEQUEZ' 'SAN MARCOS' 'SANTA ROSA' 'SOLOLA'\n",
      " 'SUCHITEPEQUEZ' 'TOTONICAPAN' 'ZACAPA']\n"
     ]
    }
   ],
   "source": [
    "print(\"Departamentos únicos encontrados:\")\n",
    "print(df[\"DEPARTAMENTO\"].sort_values().unique())"
   ]
  },
  {
   "cell_type": "markdown",
   "id": "00ce658e",
   "metadata": {},
   "source": [
    "**Validar contra la lista de departamentos**"
   ]
  },
  {
   "cell_type": "markdown",
   "id": "cb43b2d3",
   "metadata": {},
   "source": [
    "Tanto para los departamentos como para los municipios, se extrajeron datos del [Instituto Nacional de Estadística Guatemala](https://www.ine.gob.gt) para comparar los valores de las columnas con los valores reales.\n",
    "\n",
    "En el caso de los departamentos sabemos que **`CIUDAD CAPITAL`** es tomada como un departamento debido a la gran cantidad de insituciones que tiene, por lo que lo tomaremos como válido."
   ]
  },
  {
   "cell_type": "code",
   "execution_count": 63,
   "id": "d5693bca",
   "metadata": {},
   "outputs": [
    {
     "name": "stdout",
     "output_type": "stream",
     "text": [
      " Departamentos no oficiales encontrados:\n",
      "set()\n"
     ]
    }
   ],
   "source": [
    "departamentos_oficiales = pd.read_csv('data/extra/departamentos.csv')[\"DEPARTAMENTO\"].str.upper().apply(limpiar_departamento).tolist()\n",
    "\n",
    "departamentos_oficiales.append(\"CIUDAD CAPITAL\")\n",
    "\n",
    "departamentos_encontrados = set(df[\"DEPARTAMENTO\"].unique())\n",
    "departamentos_invalidos = departamentos_encontrados - set(departamentos_oficiales)\n",
    "\n",
    "print(\" Departamentos no oficiales encontrados:\")\n",
    "print(departamentos_invalidos)\n"
   ]
  },
  {
   "cell_type": "markdown",
   "id": "2095eac9",
   "metadata": {},
   "source": [
    "Se normalizó el campo `DEPARTAMENTO` mediante la conversión a mayúsculas, eliminación de espacios y tildes. Posteriormente, se comparó contra la lista oficial de departamentos de Guatemala para detectar valores inválidos. Los errores se corrigen si se deben a variantes tipográficas; si no, se analizan individualmente."
   ]
  },
  {
   "cell_type": "markdown",
   "id": "a0418b69",
   "metadata": {},
   "source": [
    "## **MUNICIPIO**"
   ]
  },
  {
   "cell_type": "markdown",
   "id": "e688ef80",
   "metadata": {},
   "source": [
    "### **Eliminar espacios inconsistentes y cualquier acentuación**"
   ]
  },
  {
   "cell_type": "code",
   "execution_count": 64,
   "id": "c9f57e67",
   "metadata": {},
   "outputs": [],
   "source": [
    "def limpiar_municipio(nombre):\n",
    "    nombre = unicodedata.normalize(\"NFKD\", nombre)\n",
    "    nombre = ''.join(c for c in nombre if not unicodedata.combining(c))\n",
    "    nombre = \" \".join(nombre.split())  \n",
    "    return nombre\n",
    "\n",
    "df[\"MUNICIPIO\"] = df[\"MUNICIPIO\"].apply(limpiar_municipio)"
   ]
  },
  {
   "cell_type": "markdown",
   "id": "418f2a77",
   "metadata": {},
   "source": [
    "### **Revisar valores únicos**"
   ]
  },
  {
   "cell_type": "code",
   "execution_count": 65,
   "id": "e3b7d985",
   "metadata": {},
   "outputs": [
    {
     "name": "stdout",
     "output_type": "stream",
     "text": [
      "Cantidad de municipios distintos: 343\n",
      "['ACATENANGO' 'AGUA BLANCA' 'AGUACATAN' 'ALOTENANGO' 'AMATITLAN'\n",
      " 'ANTIGUA GUATEMALA' 'ASUNCION MITA' 'ATESCATEMPA' 'AYUTLA' 'BARBERENA'\n",
      " 'CABANAS' 'CABRICAN' 'CAJOLA' 'CAMOTAN' 'CANILLA' 'CANTEL' 'CASILLAS'\n",
      " 'CATARINA' 'CHAHAL' 'CHAJUL' 'CHAMPERICO' 'CHIANTLA' 'CHICACAO'\n",
      " 'CHICAMAN' 'CHICHE' 'CHIMALTENANGO' 'CHINAUTLA' 'CHINIQUE' 'CHIQUIMULA'\n",
      " 'CHIQUIMULILLA']\n"
     ]
    }
   ],
   "source": [
    "print(\"Cantidad de municipios distintos:\", df[\"MUNICIPIO\"].nunique())\n",
    "print(df[\"MUNICIPIO\"].sort_values().unique()[:30])  \n"
   ]
  },
  {
   "cell_type": "markdown",
   "id": "3b277062",
   "metadata": {},
   "source": [
    "**Validar contra la lista de municipios**"
   ]
  },
  {
   "cell_type": "markdown",
   "id": "9f8dbfff",
   "metadata": {},
   "source": [
    "Se utilizarán nuevamente los datos del [Instituto Nacional de Estadística Guatemala](https://www.ine.gob.gt) para comparar los valores de las columnas con los valores reales."
   ]
  },
  {
   "cell_type": "code",
   "execution_count": 66,
   "id": "06607358",
   "metadata": {},
   "outputs": [
    {
     "name": "stdout",
     "output_type": "stream",
     "text": [
      " Municipios no oficiales encontrados:\n",
      "{'PETATAN', 'PACHALUN', 'LA TINTA'}\n"
     ]
    }
   ],
   "source": [
    "municipios_oficiales = pd.read_csv('data/extra/municipios.csv')[\"MUNICIPIO\"].str.upper().apply(limpiar_municipio).tolist()\n",
    "\n",
    "\n",
    "municipios_encontrados = set(df['MUNICIPIO'].unique()) - {mun for mun in df['MUNICIPIO'].unique() if mun.startswith('ZONA')}\n",
    "municipios_invalidos = municipios_encontrados - set(municipios_oficiales)\n",
    "\n",
    "print(\" Municipios no oficiales encontrados:\")\n",
    "print(municipios_invalidos)\n"
   ]
  },
  {
   "cell_type": "markdown",
   "id": "22694679",
   "metadata": {},
   "source": [
    "Al comparar los municipios del resultado con los del listado oficial, se encontró que es debido a faltas otrográficas o por ser la versión corta del nombre del municipio:\n",
    "\n",
    "| Valor encontrado | Valor Real |\n",
    "| --- | --- |\n",
    "| PETATAN | SANTIAGO PETATAN |\n",
    "| LA TINTA | SANTA CATALINA LA TINTA |\n",
    "| PACHALUN | PACHALUM |\n",
    "\n",
    "\n",
    "Para la limpieza se recomienda reemplazar por el nombre completo para mantener información oficial valiosa."
   ]
  },
  {
   "cell_type": "markdown",
   "id": "df4955d9",
   "metadata": {},
   "source": [
    "**Ver municipios repetidos escritos diferente dentro de un mismo departamento**"
   ]
  },
  {
   "cell_type": "code",
   "execution_count": 67,
   "id": "9f7f4a27",
   "metadata": {},
   "outputs": [
    {
     "name": "stdout",
     "output_type": "stream",
     "text": [
      "Total de combinaciones DEPARTAMENTO-MUNICIPIO: 348\n"
     ]
    }
   ],
   "source": [
    "# Agrupar por DEPARTAMENTO y MUNICIPIO\n",
    "municipios_por_depto = df.groupby([\"DEPARTAMENTO\", \"MUNICIPIO\"]).size().reset_index(name=\"conteo\")\n",
    "\n",
    "# Ver si hay municipios con nombres similares dentro del mismo departamento\n",
    "print(\"Total de combinaciones DEPARTAMENTO-MUNICIPIO:\", len(municipios_por_depto))\n"
   ]
  },
  {
   "cell_type": "markdown",
   "id": "599b60b6",
   "metadata": {},
   "source": [
    "**Verificar combinaciones de municipios con departamentos**"
   ]
  },
  {
   "cell_type": "code",
   "execution_count": 68,
   "id": "bc7606e1",
   "metadata": {},
   "outputs": [
    {
     "name": "stdout",
     "output_type": "stream",
     "text": [
      "Instituciones con combinaciones incorrectas guardadas en 'data/errores_combinaciones.csv': 31\n"
     ]
    }
   ],
   "source": [
    "import pandas as pd\n",
    "\n",
    "# Cargar DataFrames\n",
    "municipios_oficiales = pd.read_csv('data/extra/municipios.csv')\n",
    "departamentos_oficiales = pd.read_csv('data/extra/departamentos.csv')\n",
    "\n",
    "# Normalizar DEPARTAMENTO en instituciones (quitar acentos, mayúsculas)\n",
    "import unicodedata\n",
    "df['DEPARTAMENTO'] = df['DEPARTAMENTO'].apply(\n",
    "    lambda x: ''.join(c for c in unicodedata.normalize('NFKD', str(x)) if not unicodedata.combining(c))\n",
    ").str.upper()\n",
    "\n",
    "# Extraer códigos de departamento y municipio del CODIGO (16-01-0138-46 -> 1601)\n",
    "df['CODIGO_DEP_MUN'] = df['CODIGO'].str.split('-').str[0] + df['CODIGO'].str.split('-').str[1]\n",
    "\n",
    "# Crear diccionario de códigos a departamentos y municipios\n",
    "dep_map = dict(zip(departamentos_oficiales['CODIGO'].astype(str).str.zfill(2), departamentos_oficiales['DEPARTAMENTO'].str.upper().apply(limpiar_departamento)))\n",
    "mun_map = dict(zip(municipios_oficiales['CODIGO'].astype(str).str.zfill(4), municipios_oficiales['MUNICIPIO'].str.upper().apply(limpiar_municipio)))\n",
    "\n",
    "# Verificar combinaciones\n",
    "def verificar_combinacion(row):\n",
    "    cod_dep = row['CODIGO_DEP_MUN'][:2]  # Primeros 2 dígitos (departamento)\n",
    "    cod_mun = row['CODIGO_DEP_MUN']  # Los 4 dígitos (departamento + municipio)\n",
    "    dep = row['DEPARTAMENTO']\n",
    "    mun = row['MUNICIPIO'].upper()\n",
    "    \n",
    "    # Caso especial: CIUDAD CAPITAL\n",
    "    if dep == 'CIUDAD CAPITAL' and mun.startswith('ZONA'):\n",
    "        return True\n",
    "    \n",
    "    # Verificar departamento\n",
    "    dep_oficial = dep_map.get(cod_dep)\n",
    "    if dep_oficial != dep:\n",
    "        return False\n",
    "    \n",
    "    # Verificar municipio\n",
    "    mun_oficial = mun_map.get(cod_mun)\n",
    "    return mun_oficial == mun\n",
    "\n",
    "# Identificar combinaciones incorrectas\n",
    "df['ES_VALIDO'] = df.apply(verificar_combinacion, axis=1)\n",
    "df_errores = df[~df['ES_VALIDO']].copy()\n",
    "\n",
    "df_errores.to_csv('limpieza/errores_combinaciones.csv', index=False, encoding='utf-8-sig')\n",
    "print(f\"Instituciones con combinaciones incorrectas guardadas en 'data/errores_combinaciones.csv': {len(df_errores)}\")"
   ]
  },
  {
   "cell_type": "markdown",
   "id": "d58ba548",
   "metadata": {},
   "source": [
    "Se normalizaron los municipios, eliminando tildes y espacios innecesarios. Esto permitió identificar errores ortográficos comunes y garantizar consistencia entre registros. Luego se validó que cada municipio pertenezca al listado oficial de municipios oficiales.\n",
    "\n",
    "En el caso de los municipios llamados **`ZONA N`**, sabemos que son de **`CIUDAD CAPITAL`** por lo que se realizó una condición especial para esos valores.\n",
    "\n",
    "De último se verificaron las combinaciones de `MUNICIPIO` + `DEPARTAMENTO` para asegurarse de que los valores asignados tengan sentido. Como resultado se obtuvieron **31** filas con error de combinación, al analizar el csv generado ([errores_combinaciones.csv](limpieza/errores_combinaciones.csv)) se encontró que los únicos errores era para los mismos municipios que tienen faltas ortográficas."
   ]
  },
  {
   "cell_type": "markdown",
   "id": "bc372a21",
   "metadata": {},
   "source": [
    "### **ESTABLECIMIENTO**"
   ]
  },
  {
   "cell_type": "markdown",
   "id": "4272b9e1",
   "metadata": {},
   "source": [
    "**Crear una columna auxiliar ESTABLECIMIENTO_LIMPIO**\n",
    "\n",
    "Su objetivo es estandarizar nombres para facilitar detección de duplicados y variantes de una misma institución, colegio, entre otros."
   ]
  },
  {
   "cell_type": "code",
   "execution_count": 69,
   "id": "acfc1fb6",
   "metadata": {},
   "outputs": [
    {
     "name": "stdout",
     "output_type": "stream",
     "text": [
      "                                        ESTABLECIMIENTO  \\\n",
      "4495                               COLEGIO JOHN HARVARD   \n",
      "2239                  LICEO INMACULADO CORAZÓN DE MARÍA   \n",
      "6288  INSTITUTO PRIVADO MIXTO PROFESIONAL  VISION ED...   \n",
      "4550  CENTRO DE EDUCACIÓN EXTRAESCOLAR -CEEX- QUETZA...   \n",
      "2578                                 LICEO BUENOS AIRES   \n",
      "3627              INSTITUTO PRIVADO MIXTO \"SAN ANTONIO\"   \n",
      "4161                 COLEGIO PARTICULAR MIXTO  SAN JOSE   \n",
      "254           INSTITUTO TECNICO VOCACIONAL  SAN AGUSTIN   \n",
      "3579           PROGRAMA DE EDUCACION ALTERNATIVA PRONEA   \n",
      "972      INSTITUTO TECNOLÓGICO DIGITALES COMERCIALES II   \n",
      "\n",
      "                                 ESTABLECIMIENTO_LIMPIO  \n",
      "4495                               COLEGIO JOHN HARVARD  \n",
      "2239                  LICEO INMACULADO CORAZÓN DE MARÍA  \n",
      "6288  INSTITUTO PRIVADO MIXTO PROFESIONAL VISION EDU...  \n",
      "4550  CENTRO DE EDUCACIÓN EXTRAESCOLAR -CEEX- QUETZA...  \n",
      "2578                                 LICEO BUENOS AIRES  \n",
      "3627                INSTITUTO PRIVADO MIXTO SAN ANTONIO  \n",
      "4161                  COLEGIO PARTICULAR MIXTO SAN JOSE  \n",
      "254            INSTITUTO TECNICO VOCACIONAL SAN AGUSTIN  \n",
      "3579           PROGRAMA DE EDUCACION ALTERNATIVA PRONEA  \n",
      "972      INSTITUTO TECNOLÓGICO DIGITALES COMERCIALES II  \n"
     ]
    }
   ],
   "source": [
    "\n",
    "def limpiar_nombre_establecimiento(nombre):\n",
    "    nombre = str(nombre).strip().upper()\n",
    "    \n",
    "    # Eliminar todas las comillas dobles y simples en cualquier parte\n",
    "    nombre = nombre.replace('\"', '').replace(\"'\", \"\")\n",
    "    \n",
    "    # Quitar espacios múltiples\n",
    "    nombre = \" \".join(nombre.split())\n",
    "    \n",
    "    return nombre\n",
    "\n",
    "df[\"ESTABLECIMIENTO_LIMPIO\"] = df[\"ESTABLECIMIENTO\"].apply(limpiar_nombre_establecimiento)\n",
    "\n",
    "print(df[[\"ESTABLECIMIENTO\", \"ESTABLECIMIENTO_LIMPIO\"]].drop_duplicates().sample(10))"
   ]
  },
  {
   "cell_type": "markdown",
   "id": "f98fca61",
   "metadata": {},
   "source": [
    "### **Visualizar algunos ejemplos de variaciones en nombres de establecimientos para su estandarización**"
   ]
  },
  {
   "cell_type": "code",
   "execution_count": 70,
   "id": "e423db95",
   "metadata": {},
   "outputs": [],
   "source": [
    "#%pip install rapid fuzz"
   ]
  },
  {
   "cell_type": "code",
   "execution_count": 71,
   "id": "508530e0",
   "metadata": {},
   "outputs": [
    {
     "name": "stdout",
     "output_type": "stream",
     "text": [
      "\n",
      "Grupo 1:\n",
      "→ Base: ESCUELA NACIONAL DE CIENCIAS COMERCIALES\n",
      "   - ESCUELA NACIONAL DE CIENCIAS COMERCIALES NO.2\n",
      "   - ESCUELA NACIONAL DE CIENCIAS COMERCIALES NO.5\n",
      "   - ESCUELA NACIONAL DE CIENCIAS COMERCIALES NO. 3\n",
      "   - ESCUELA NACIONAL CENTRAL DE CIENCIAS COMERCIALES\n",
      "   - ESCUELA NACIONAL DE CIENCIAS COMERCIALES AMERICA\n",
      "   - ESCUELA DE CIENCIAS COMERCIALES NOCTURNA\n",
      "\n",
      "Grupo 2:\n",
      "→ Base: INSTITUTO NACIONAL DE EDUCACION DIVERSIFICADA\n",
      "   - INSTITUTO NACIONAL DE EDUCACIÓN DIVERSIFICADA\n",
      "   - INSTITUTO NACIONAL DE EDUCACIÒN DIVERSIFICADA\n",
      "   - INSTITUTO NACIONAL DE EDUCACION DIVERSIFICADO\n",
      "   - INSTITUTO NACIONAL DE EDUCACIÓN DIVERSIFICADO\n",
      "   - INSTITUTO NACIONAL DE EDUCACION DIVERSIFICADA INED\n",
      "   - INSTITUTO NACIONAL DE EDUCACION DIVERSIFICADA, INED\n",
      "   - INSTITUTO NACIONAL DE EDUCACION DIVERSIFICADA ITZAPA\n",
      "   - INSTITUTO NACIONAL DE EDUCACION DIVERSIFICADA -INED-\n",
      "   - INSTITUTO NACIONAL DE EDUCACION DIVERSIFICADA PUENTE\n",
      "\n",
      "Grupo 3:\n",
      "→ Base: COLEGIO CRISTIANO BILINGUE VERBO\n",
      "   - COLEGIO CRISTIANO BILINGÜE VERBO\n",
      "\n",
      "Grupo 4:\n",
      "→ Base: INSTITUTO MIXTO DE EDUCACION BILINGUE INTERCULTURAL -IMEBI-\n",
      "   - INSTITUTO MIXTO DE EDUCACIÓN BILINGÜE INTERCULTURAL -IMEBI-\n",
      "\n",
      "Grupo 5:\n",
      "→ Base: COLEGIO PRIVADO MIXTO TECNOLÓGICO EN INFORMÁTICA\n",
      "   - COLEGIO PRIVADO MIXTO TECNOLÓGICO EN INFORMATICA\n",
      "   - COLEGIO PRIVADO MIXTO TECNOLOGICO EN INFORMATICA\n"
     ]
    }
   ],
   "source": [
    "from rapidfuzz import process, fuzz\n",
    "\n",
    "# Obtener todos los nombres únicos\n",
    "nombres_unicos = df[\"ESTABLECIMIENTO_LIMPIO\"].dropna().unique()\n",
    "\n",
    "# Diccionario para guardar grupos similares\n",
    "grupos_similares = {}\n",
    "\n",
    "# Umbral de similitud \n",
    "umbral = 90\n",
    "\n",
    "# Recorrer nombres y buscar similares\n",
    "for nombre in nombres_unicos:\n",
    "    similares = process.extract(nombre, nombres_unicos, scorer=fuzz.token_sort_ratio, limit=10)\n",
    "    # Filtrar solo los que superan el umbral y no sean el mismo nombre exacto\n",
    "    similares = [s for s, score, _ in similares if s != nombre and score >= umbral]\n",
    "    if similares:\n",
    "        grupos_similares[nombre] = similares\n",
    "\n",
    "# Mostrar ejemplos de grupos similares encontrados\n",
    "for i, (base, grupo) in enumerate(grupos_similares.items()):\n",
    "    print(f\"\\nGrupo {i+1}:\")\n",
    "    print(f\"→ Base: {base}\")\n",
    "    for g in grupo:\n",
    "        print(f\"   - {g}\")\n",
    "    if i == 4:  # Mostrar solo primeros 5 grupos\n",
    "        break\n",
    "\n"
   ]
  },
  {
   "cell_type": "markdown",
   "id": "a0cf1333",
   "metadata": {},
   "source": [
    "Como se puede observar, si hay algunos nombres de establecimientos que están escritos de diferente manera. Es decir, hay variaciones en cuanto a tíldes, espacios, uso de guiones, entre otros caracteres para representar a un mismo establecimiento, independientemente de si se encuentra en algún otro departamento o municipio. Por ende, se busca generar un csv para poder observar de cerca todas esas variaciones y estandarizar el nombre de los establecimientos."
   ]
  },
  {
   "cell_type": "code",
   "execution_count": 72,
   "id": "27f87442",
   "metadata": {},
   "outputs": [
    {
     "name": "stdout",
     "output_type": "stream",
     "text": [
      "Archivo exportado como 'establecimientos_similares.csv'\n"
     ]
    }
   ],
   "source": [
    "# Convertir los grupos a lista de pares\n",
    "pares = []\n",
    "for base, similares in grupos_similares.items():\n",
    "    for s in similares:\n",
    "        pares.append((base, s))\n",
    "\n",
    "df_similares = pd.DataFrame(pares, columns=[\"Nombre_Base\", \"Nombre_Similar\"])\n",
    "df_similares.to_csv(\"limpieza/establecimientos_similares.csv\", index=False)\n",
    "print(\"Archivo exportado como 'establecimientos_similares.csv'\")\n"
   ]
  },
  {
   "cell_type": "markdown",
   "id": "0d4fac90",
   "metadata": {},
   "source": [
    "Al analizar varios de los grupos, se puede notar que hay varias faltas ortográficas que se suelen repetir como las siguientes:\n",
    "\n",
    "| Falta | Correcto |\n",
    "|---|---|\n",
    "|\"EDCACION\"|\"EDUCACION\"|\n",
    "|\"NACIONA\"|\"NACIONAL\"|\n",
    "|\"COLEGO\"|\"COLEGIO\"|\n",
    "\n",
    "Por ello, en la limpieza se deberá de hacer un `.replace()` para corregir las faltas usuales.\n"
   ]
  },
  {
   "cell_type": "markdown",
   "id": "b3fec02f",
   "metadata": {},
   "source": [
    "## **DIRECCIÓN**"
   ]
  },
  {
   "cell_type": "code",
   "execution_count": 73,
   "id": "9a1d5f7e",
   "metadata": {},
   "outputs": [
    {
     "data": {
      "text/plain": [
       "0              KM.2 SALIDA A SAN JUAN CHAMELCO ZONA 8\n",
       "1                        KM 209.5 ENTRADA A LA CIUDAD\n",
       "2                           7A. AVENIDA 11-109 ZONA 6\n",
       "3                               2A CALLE 11-10 ZONA 2\n",
       "4                                 3A AVE 6-23 ZONA 11\n",
       "5                                5A. CALLE 1-9 ZONA 3\n",
       "6                              11 AVENIDA 5-17 ZONA 4\n",
       "7    DIAGONAL 08 8-05 ZONA 8, BARRIO CANTÓN LAS CASAS\n",
       "8                                  12 AV. 2-12 ZONA 1\n",
       "9                              5TA. CALLE 2-23 ZONA 4\n",
       "Name: DIRECCION, dtype: object"
      ]
     },
     "execution_count": 73,
     "metadata": {},
     "output_type": "execute_result"
    }
   ],
   "source": [
    "df[\"DIRECCION\"].head(10)"
   ]
  },
  {
   "cell_type": "markdown",
   "id": "874f3479",
   "metadata": {},
   "source": [
    "Como se puede observar a simple vista, hay distintas maneras de escribir direcciones, en primer lugar para escribir **KM**, algunos lo escriben con un `.` después de la abreviatura. El mismo caso con las **Avenidas**. Es por eso que se planea realizar un proceso de limpieza y estandarización conservador para asegurarse no cambiar mucho las direcciones."
   ]
  },
  {
   "cell_type": "markdown",
   "id": "a123f706",
   "metadata": {},
   "source": [
    "## **TELEFONO**"
   ]
  },
  {
   "cell_type": "code",
   "execution_count": 74,
   "id": "c8c26df6",
   "metadata": {},
   "outputs": [
    {
     "data": {
      "text/plain": [
       "array([ 8,  3, 17,  7,  6, 26, 10,  9,  2,  1, 18, 16])"
      ]
     },
     "execution_count": 74,
     "metadata": {},
     "output_type": "execute_result"
    }
   ],
   "source": [
    "df[\"TELEFONO\"].dropna().str.len().unique()"
   ]
  },
  {
   "cell_type": "code",
   "execution_count": 75,
   "id": "8fa007c4",
   "metadata": {},
   "outputs": [
    {
     "name": "stdout",
     "output_type": "stream",
     "text": [
      "Longitud 8: ['77945104', '77367402', '78232301', '79514215', '79521468', '57101061', '79522555', '77930045', '79545566', '79514754', '79514754', '79521468', '79521468', '79522793', '51922050', '79510413', '79511103', '77945181', '53530198', '79417300', '79510413', '30367501', '57565646', '77259205', '57655184', '53331646', '77367652', '30621374', '79514754', '57101061', '79521190', '33509500', '48979726', '79529830', '77930803', '55564568', '51922050', '45587767', '79513898', '79521302', '77256954', '79521765', '79511459', '59584790', '79529830', '79513896', '79417346', '37058145', '33857209', '33622052']\n",
      "Longitud 3: ['NAN', 'NAN', 'NAN', 'NAN', 'NAN', 'NAN', 'NAN', 'NAN', 'NAN', 'NAN', 'NAN', 'NAN', 'NAN', 'NAN', 'NAN', 'NAN', 'NAN', 'NAN', 'NAN', 'NAN', 'NAN', 'NAN', 'NAN', 'NAN', 'NAN', 'NAN', 'NAN', 'NAN', 'NAN', 'NAN', 'NAN', 'NAN', 'NAN', 'NAN', 'NAN', 'NAN', 'NAN', 'NAN', 'NAN', 'NAN', 'NAN', 'NAN', 'NAN', 'NAN', 'NAN']\n",
      "Longitud 17: ['79504027-79504028', '79540830-79540909', '79540830-79540909', '79649696-78739432', '78739432-79649696', '78739432-79649696', '78739432-79649696', '78880429-78880419', '24342036-24123888', '24314989-24310955', '24314989-24310955', '66355887-66312603', '79484391-41051885', '45261770-46007362', '79480085-50307050', '79480085-50307050', '79524680-79524680', '53886336-53886336', '79497500-78209540', '31089418-53230377', '42601313-79476691', '42601313-79476691', '53660792-55969273', '53660792-55969273', '79477890-79477891', '79224958-79223033', '31193946-46843572', '52660000-78323083', '56769964-77663283', '77663283-77663283', '77375333-42470723', '77375333-42470723']\n",
      "Longitud 7: ['4085613', '4225675', '2232068', '2223228', '2232379', '5899624', '2437011', '5510735', '5364736', '5388633', '4167076', '3127247']\n",
      "Longitud 6: ['783928', '3033.0', '533290']\n",
      "Longitud 26: ['78392709-78396701-78396702']\n",
      "Longitud 10: ['79422150.0', '79420395.0', '41942927.0', '79420290.0', '79420116.0', '79425959.0', '59799216.0', '79420425.0', '79420328.0', '79420232.0', '79422349.0', '41007884.0', '79424111.0', '79421747.0', '44043628.0', '41795225.0', '79425959.0', '37590030.0', '44043628.0', '79422500.0', '79420290.0', '79425429.0', '41795225.0', '58123452.0', '42415701.0', '55543693.0', '31712671.0', '40104955.0', '56170043.0', '41007884.0', '79424111.0', '41795225.0', '79421528.0', '53947190.0', '58123452.0', '55974817.0', '79427427.0', '79420425.0', '44043628.0', '79427427.0', '79424111.0', '51309580.0', '42580713.0', '51989697.0', '33874323.0', '55223225.0', '79465751.0', '79465395.0', '79465220.0', '79465220.0']\n",
      "Longitud 9: ['4215928.0', '7844007.0', '7844007.0', '4140069.0', '5899378.0']\n",
      "Longitud 2: ['40']\n",
      "Longitud 1: ['0']\n",
      "Longitud 18: ['4210394058993785.0', '4210394058993780.0', '4281099156375310.0']\n",
      "Longitud 16: ['56769964-7766328']\n"
     ]
    }
   ],
   "source": [
    "for length in df[\"TELEFONO\"].dropna().str.len().unique():\n",
    "    print(f\"Longitud {length}:\", df[df[\"TELEFONO\"].str.len() == length][\"TELEFONO\"].head(50).tolist())"
   ]
  },
  {
   "cell_type": "markdown",
   "id": "d653ed83",
   "metadata": {},
   "source": [
    "**Estrategia de limpieza de teléfonos**\n",
    "\n",
    "- **Conversión a cadena y estandarización de nulos:**  \n",
    "  Convertir los valores a cadenas. Los valores vacíos o con contenido no numérico (como `'NAN'`) tratarlos como `\"NO DISPONIBLE\"`.\n",
    "\n",
    "- **Separación por delimitadores comunes:**  \n",
    "  Para identificar múltiples teléfonos en una misma celda, utilizar delimitadores comunes como guiones (`-`), barras (`/`) o comas (`,`), para separar así posibles números concatenados.\n",
    "\n",
    "- **Eliminación de caracteres no numéricos:**  \n",
    "  Limpiar todos los caracteres no numéricos de cada fragmento, para conservar únicamente los dígitos. Esto incluye la eliminación de guiones, espacios, puntos decimales (`.0`) y otros símbolos.\n",
    "\n",
    "- **Normalización y validación por longitud:**  \n",
    "  Considerar como válidos solo los números con exactamente 8 dígitos (formato estándar en Guatemala).  \n",
    "  - Si un número tiene más de 8 dígitos pero menos de 13, se deben de conservar los últimos 8.  \n",
    "  - Si un fragmento tiene menos de 8 o más de 12 dígitos, descartarlo como inválido.\n",
    "\n",
    "- **Asignación a columnas:**  \n",
    "  Extraer hasta tres números válidos por registro y se asignaron a las columnas `TELEFONO_LIMPIO`, `TELEFONO_2_LIMPIO` y `TELEFONO_3_LIMPIO`.  \n",
    "  Si no se encuentran números válidos, se debe de registrar como `\"NO DISPONIBLE\"` en todas las columnas correspondientes.\n"
   ]
  },
  {
   "cell_type": "markdown",
   "id": "1d8c5e2d",
   "metadata": {},
   "source": [
    "### **SUPERVISOR**"
   ]
  },
  {
   "cell_type": "markdown",
   "id": "e87eeb2c",
   "metadata": {},
   "source": [
    "**Limpieza de espacios y acentuaciones en el nombre de los supervisores, además de una validación de posibles valores nulos**"
   ]
  },
  {
   "cell_type": "code",
   "execution_count": 76,
   "id": "bf389849",
   "metadata": {},
   "outputs": [],
   "source": [
    "def limpiar_supervisor(nombre):\n",
    "    if pd.isnull(nombre):\n",
    "        return \"NO REGISTRADO\"\n",
    "    \n",
    "    \n",
    "    # Eliminar tildes y caracteres especiales\n",
    "    nombre = unicodedata.normalize('NFKD', nombre)\n",
    "    nombre = ''.join(c for c in nombre if not unicodedata.combining(c))\n",
    "    \n",
    "    nombre = re.sub(r'\\s+', ' ', nombre)\n",
    "\n",
    "    return nombre\n",
    "\n",
    "df[\"SUPERVISOR_LIMPIO\"] = df[\"SUPERVISOR\"].apply(limpiar_supervisor)\n"
   ]
  },
  {
   "cell_type": "markdown",
   "id": "ac772358",
   "metadata": {},
   "source": [
    "**Obtener nombres únicos de cada supervisor**"
   ]
  },
  {
   "cell_type": "code",
   "execution_count": 77,
   "id": "50c9f718",
   "metadata": {},
   "outputs": [
    {
     "name": "stdout",
     "output_type": "stream",
     "text": [
      "Supervisores distintos: 590\n"
     ]
    },
    {
     "data": {
      "text/plain": [
       "SUPERVISOR_LIMPIO\n",
       "MIGUEL ANGEL ARMAS ROCHA                          190\n",
       "CARLOS HUMBERTO GONZALEZ DE LEON                  171\n",
       "JUAN ENRIQUE MARTINEZ SOLANO                      106\n",
       "REMY ARTURO SINAY GUDIEL                           94\n",
       "ELSA YADIRA MARTINEZ PEREZ                         84\n",
       "IDALIA DEL ROSARIO LOPEZ SANDOVAL DE PAIZ          81\n",
       "MILTON ALONSO ALVAREZ FUENTES                      81\n",
       "ELENA ELIZABETH SUCHITE GARNICA DE QUINTANILLA     78\n",
       "LUDVIN RICARDO URRUTIA LORENTI                     77\n",
       "JUAN FRANCISCO GODOY DAVILA                        74\n",
       "Name: count, dtype: int64"
      ]
     },
     "execution_count": 77,
     "metadata": {},
     "output_type": "execute_result"
    }
   ],
   "source": [
    "print(\"Supervisores distintos:\", df[\"SUPERVISOR_LIMPIO\"].nunique())\n",
    "df[\"SUPERVISOR_LIMPIO\"].value_counts().head(10)\n"
   ]
  },
  {
   "cell_type": "markdown",
   "id": "d9b6d78e",
   "metadata": {},
   "source": [
    "**Aplicar Fuzzy matching para detectar nombres parecidos y descartar errores tipográficos**"
   ]
  },
  {
   "cell_type": "code",
   "execution_count": 78,
   "id": "545122b0",
   "metadata": {},
   "outputs": [],
   "source": [
    "\n",
    "nombres_unicos = df[\"SUPERVISOR_LIMPIO\"].dropna().unique()\n",
    "\n",
    "grupos_similares = []\n",
    "\n",
    "for nombre in nombres_unicos:\n",
    "    similares = process.extract(nombre, nombres_unicos, scorer=fuzz.token_sort_ratio, limit=10)\n",
    "    for s, score, _ in similares:\n",
    "        if s != nombre and score >= 90:\n",
    "            grupos_similares.append((nombre, s, score))\n",
    "\n",
    "df_fuzzy_supervisores = pd.DataFrame(grupos_similares, columns=[\"SUPERVISOR_BASE\", \"SUPERVISOR_SIMILAR\", \"SIMILITUD\"])\n",
    "df_fuzzy_supervisores = df_fuzzy_supervisores.drop_duplicates(subset=[\"SUPERVISOR_BASE\", \"SUPERVISOR_SIMILAR\"])\n"
   ]
  },
  {
   "cell_type": "code",
   "execution_count": 79,
   "id": "b18b91e5",
   "metadata": {},
   "outputs": [
    {
     "name": "stdout",
     "output_type": "stream",
     "text": [
      "Archivo exportado como 'supervisores_similares.csv'\n"
     ]
    }
   ],
   "source": [
    "df_fuzzy_supervisores.to_csv(\"limpieza/supervisores_similares.csv\", index=False)\n",
    "print(\"Archivo exportado como 'supervisores_similares.csv'\")"
   ]
  },
  {
   "cell_type": "markdown",
   "id": "10e4706d",
   "metadata": {},
   "source": [
    "Para los supervisores se notó que hay nombres repetidos muy similares, los cuales pueden ser un error de ingreso de datos. Es por eso que se recomienda mediante un diccionario, reemplazar los valores con faltas por los nombres bien escritos."
   ]
  },
  {
   "cell_type": "markdown",
   "id": "11fd62bb",
   "metadata": {},
   "source": [
    "### **DIRECTOR**"
   ]
  },
  {
   "cell_type": "markdown",
   "id": "1a0707b8",
   "metadata": {},
   "source": [
    "**Limpieza de espacios y acentuaciones en el nombre de los directores, además de una validación de posibles valores nulos**"
   ]
  },
  {
   "cell_type": "code",
   "execution_count": 80,
   "id": "06d1c197",
   "metadata": {},
   "outputs": [],
   "source": [
    "def limpiar_director(nombre):\n",
    "    if pd.isnull(nombre):\n",
    "        return \"NO REGISTRADO\"\n",
    "    \n",
    "    \n",
    "    # Eliminar tildes y caracteres especiales\n",
    "    nombre = unicodedata.normalize('NFKD', nombre)\n",
    "    nombre = ''.join(c for c in nombre if not unicodedata.combining(c))\n",
    "    \n",
    "    nombre = re.sub(r'\\s+', ' ', nombre)\n",
    "\n",
    "    return nombre\n",
    "\n",
    "df[\"DIRECTOR_LIMPIO\"] = df[\"DIRECTOR\"].apply(limpiar_director)\n"
   ]
  },
  {
   "cell_type": "markdown",
   "id": "1ec27a99",
   "metadata": {},
   "source": [
    "**Obtener nombres únicos de cada supervisor**"
   ]
  },
  {
   "cell_type": "code",
   "execution_count": 81,
   "id": "371ed2b2",
   "metadata": {},
   "outputs": [
    {
     "name": "stdout",
     "output_type": "stream",
     "text": [
      "Directores distintos: 3816\n"
     ]
    },
    {
     "data": {
      "text/plain": [
       "DIRECTOR_LIMPIO\n",
       "NAN                                 23\n",
       "MARIA DOLORES PEREZ TUCHAN          10\n",
       "HECTOR REYNALDO GOMEZ AGUILAR        9\n",
       "SONIA JOSEFINA MORALES CAXAJ         8\n",
       "MARCO TULIO VARGAS ALVARADO          8\n",
       "FRANCISCO REVOLORIO LOPEZ            8\n",
       "RONI ERNESTO RECINOS ESTRADA         8\n",
       "SILVIA MARLENI ALVARADO GUARDADO     8\n",
       "MELVIN RAFAEL REYES LOPEZ            8\n",
       "SANDRA NOEMI ORTIZ ESTRADA           7\n",
       "Name: count, dtype: int64"
      ]
     },
     "execution_count": 81,
     "metadata": {},
     "output_type": "execute_result"
    }
   ],
   "source": [
    "print(\"Directores distintos:\", df[\"DIRECTOR_LIMPIO\"].nunique())\n",
    "df[\"DIRECTOR_LIMPIO\"].value_counts().head(10)\n"
   ]
  },
  {
   "cell_type": "markdown",
   "id": "c3269083",
   "metadata": {},
   "source": [
    "**Aplicar Fuzzy matching para detectar nombres parecidos y descartar errores tipográficos**"
   ]
  },
  {
   "cell_type": "code",
   "execution_count": 82,
   "id": "e3ead374",
   "metadata": {},
   "outputs": [],
   "source": [
    "df[\"DIRECTOR_LIMPIO\"] = df[\"DIRECTOR_LIMPIO\"].str.strip()\n",
    "df[\"DIRECTOR_LIMPIO\"] = df[\"DIRECTOR_LIMPIO\"].str.replace(\"`\", \"'\", regex=False)\n",
    "df[\"DIRECTOR_LIMPIO\"] = df[\"DIRECTOR_LIMPIO\"].str.replace('\"', '', regex=False)\n",
    "df[\"DIRECTOR_LIMPIO\"] = df[\"DIRECTOR_LIMPIO\"].str.replace(\" +\", \" \", regex=True)\n"
   ]
  },
  {
   "cell_type": "code",
   "execution_count": 83,
   "id": "280c0e6e",
   "metadata": {},
   "outputs": [],
   "source": [
    "\n",
    "nombres_unicos = df[\"DIRECTOR_LIMPIO\"].dropna().unique()\n",
    "\n",
    "grupos_similares = []\n",
    "\n",
    "for nombre in nombres_unicos:\n",
    "    similares = process.extract(nombre, nombres_unicos, scorer=fuzz.token_sort_ratio, limit=10)\n",
    "    for s, score, _ in similares:\n",
    "        if s != nombre and score >= 90:\n",
    "            grupos_similares.append((nombre, s, score))\n",
    "\n",
    "df_fuzzy_supervisores = pd.DataFrame(grupos_similares, columns=[\"DIRECTOR_BASE\", \"DIRECTOR_SIMILAR\", \"SIMILITUD\"])\n",
    "df_fuzzy_supervisores = df_fuzzy_supervisores.drop_duplicates(subset=[\"DIRECTOR_BASE\", \"DIRECTOR_SIMILAR\"])\n"
   ]
  },
  {
   "cell_type": "code",
   "execution_count": 84,
   "id": "680cf1de",
   "metadata": {},
   "outputs": [
    {
     "name": "stdout",
     "output_type": "stream",
     "text": [
      "Archivo exportado como 'directores_similares.csv'\n"
     ]
    }
   ],
   "source": [
    "df_fuzzy_supervisores.to_csv(\"limpieza/directores_similares.csv\", index=False)\n",
    "print(\"Archivo exportado como 'directores_similares.csv'\")\n"
   ]
  },
  {
   "cell_type": "code",
   "execution_count": 85,
   "id": "3b866379",
   "metadata": {},
   "outputs": [
    {
     "data": {
      "text/html": [
       "<div>\n",
       "<style scoped>\n",
       "    .dataframe tbody tr th:only-of-type {\n",
       "        vertical-align: middle;\n",
       "    }\n",
       "\n",
       "    .dataframe tbody tr th {\n",
       "        vertical-align: top;\n",
       "    }\n",
       "\n",
       "    .dataframe thead th {\n",
       "        text-align: right;\n",
       "    }\n",
       "</style>\n",
       "<table border=\"1\" class=\"dataframe\">\n",
       "  <thead>\n",
       "    <tr style=\"text-align: right;\">\n",
       "      <th></th>\n",
       "      <th>DIRECTOR_BASE</th>\n",
       "      <th>DIRECTOR_SIMILAR</th>\n",
       "      <th>SIMILITUD</th>\n",
       "    </tr>\n",
       "  </thead>\n",
       "  <tbody>\n",
       "    <tr>\n",
       "      <th>0</th>\n",
       "      <td>MARTA NORIEGA</td>\n",
       "      <td>MARTA NOREIGA</td>\n",
       "      <td>92.307692</td>\n",
       "    </tr>\n",
       "    <tr>\n",
       "      <th>1</th>\n",
       "      <td>MARTA NOREIGA</td>\n",
       "      <td>MARTA NORIEGA</td>\n",
       "      <td>92.307692</td>\n",
       "    </tr>\n",
       "    <tr>\n",
       "      <th>2</th>\n",
       "      <td>BRAYAN ONELL GAITAN RODRIGUEZ</td>\n",
       "      <td>BRYAN O'NELL GAITAN RODRIGUEZ</td>\n",
       "      <td>96.551724</td>\n",
       "    </tr>\n",
       "    <tr>\n",
       "      <th>3</th>\n",
       "      <td>BRYAN O'NELL GAITAN RODRIGUEZ</td>\n",
       "      <td>BRAYAN ONELL GAITAN RODRIGUEZ</td>\n",
       "      <td>96.551724</td>\n",
       "    </tr>\n",
       "    <tr>\n",
       "      <th>4</th>\n",
       "      <td>JULIO ENRIQUE JUAREZ SILVESTRE</td>\n",
       "      <td>JULIO ENRIQUE JAREZ SILVESTRE</td>\n",
       "      <td>98.305085</td>\n",
       "    </tr>\n",
       "  </tbody>\n",
       "</table>\n",
       "</div>"
      ],
      "text/plain": [
       "                    DIRECTOR_BASE               DIRECTOR_SIMILAR  SIMILITUD\n",
       "0                   MARTA NORIEGA                  MARTA NOREIGA  92.307692\n",
       "1                   MARTA NOREIGA                  MARTA NORIEGA  92.307692\n",
       "2   BRAYAN ONELL GAITAN RODRIGUEZ  BRYAN O'NELL GAITAN RODRIGUEZ  96.551724\n",
       "3   BRYAN O'NELL GAITAN RODRIGUEZ  BRAYAN ONELL GAITAN RODRIGUEZ  96.551724\n",
       "4  JULIO ENRIQUE JUAREZ SILVESTRE  JULIO ENRIQUE JAREZ SILVESTRE  98.305085"
      ]
     },
     "execution_count": 85,
     "metadata": {},
     "output_type": "execute_result"
    }
   ],
   "source": [
    "df_fuzzy_supervisores.head()"
   ]
  },
  {
   "cell_type": "markdown",
   "id": "693888f9",
   "metadata": {},
   "source": [
    "Al igual que con los directores, también se encontraron varios nombres de supervisores repetidos muy similares, los cuales pueden ser un error de ingreso de datos. Es por eso que se recomienda mediante un diccionario, reemplazar los valores con faltas por los nombres bien escritos.."
   ]
  },
  {
   "cell_type": "markdown",
   "id": "f7b1df62",
   "metadata": {},
   "source": [
    "### **Variables Categóricas**"
   ]
  },
  {
   "cell_type": "markdown",
   "id": "b28f80bc",
   "metadata": {},
   "source": [
    "Se recorren las columnas categóricas para obtener los valores distintos de cada una."
   ]
  },
  {
   "cell_type": "code",
   "execution_count": 86,
   "id": "212f3c52",
   "metadata": {},
   "outputs": [
    {
     "name": "stdout",
     "output_type": "stream",
     "text": [
      "Valores distintos para: PLAN : 12\n",
      "PLAN\n",
      "DIARIO(REGULAR)                          4039\n",
      "FIN DE SEMANA                            1308\n",
      "SEMIPRESENCIAL (FIN DE SEMANA)            489\n",
      "SEMIPRESENCIAL (UN DÍA A LA SEMANA)       409\n",
      "A DISTANCIA                               116\n",
      "SEMIPRESENCIAL                             99\n",
      "SEMIPRESENCIAL (DOS DÍAS A LA SEMANA)      62\n",
      "VIRTUAL A DISTANCIA                        52\n",
      "SABATINO                                    5\n",
      "INTERCALADO                                 2\n",
      "DOMINICAL                                   2\n",
      "MIXTO                                       1\n",
      "Name: count, dtype: int64\n",
      "Valores distintos para: AREA : 3\n",
      "AREA\n",
      "URBANA             5237\n",
      "RURAL              1346\n",
      "SIN ESPECIFICAR       1\n",
      "Name: count, dtype: int64\n",
      "Valores distintos para: STATUS : 1\n",
      "STATUS\n",
      "ABIERTA    6584\n",
      "Name: count, dtype: int64\n",
      "Valores distintos para: JORNADA : 6\n",
      "JORNADA\n",
      "DOBLE          1952\n",
      "VESPERTINA     1834\n",
      "MATUTINA       1681\n",
      "SIN JORNADA    1000\n",
      "NOCTURNA        104\n",
      "INTERMEDIA       13\n",
      "Name: count, dtype: int64\n",
      "Valores distintos para: MODALIDAD : 2\n",
      "MODALIDAD\n",
      "MONOLINGUE    6375\n",
      "BILINGUE       209\n",
      "Name: count, dtype: int64\n",
      "Valores distintos para: SECTOR : 4\n",
      "SECTOR\n",
      "PRIVADO        5403\n",
      "OFICIAL         874\n",
      "COOPERATIVA     213\n",
      "MUNICIPAL        94\n",
      "Name: count, dtype: int64\n",
      "Valores distintos para: DEPARTAMENTAL : 26\n",
      "DEPARTAMENTAL\n",
      "GUATEMALA OCCIDENTE    551\n",
      "GUATEMALA NORTE        536\n",
      "GUATEMALA SUR          528\n",
      "SAN MARCOS             431\n",
      "ESCUINTLA              393\n",
      "QUETZALTENANGO         365\n",
      "CHIMALTENANGO          300\n",
      "SUCHITEPÉQUEZ          296\n",
      "JUTIAPA                296\n",
      "HUEHUETENANGO          295\n",
      "ALTA VERAPAZ           294\n",
      "GUATEMALA ORIENTE      281\n",
      "IZABAL                 273\n",
      "RETALHULEU             272\n",
      "PETÉN                  270\n",
      "SACATEPÉQUEZ           206\n",
      "QUICHÉ                 144\n",
      "CHIQUIMULA             136\n",
      "SANTA ROSA             133\n",
      "JALAPA                 121\n",
      "SOLOLÁ                 111\n",
      "EL PROGRESO             97\n",
      "BAJA VERAPAZ            94\n",
      "ZACAPA                  70\n",
      "TOTONICAPÁN             51\n",
      "QUICHÉ NORTE            40\n",
      "Name: count, dtype: int64\n",
      "Valores distintos para: NIVEL : 1\n",
      "NIVEL\n",
      "DIVERSIFICADO    6584\n",
      "Name: count, dtype: int64\n"
     ]
    }
   ],
   "source": [
    "variables_categoricas = {\"NIVEL\",\"SECTOR\",\"AREA\",\"STATUS\",\"MODALIDAD\",\"JORNADA\",\"PLAN\",\"DEPARTAMENTAL\"}\n",
    "\n",
    "for col in variables_categoricas:\n",
    "    # Verificar valores distintos\n",
    "    print(f\"Valores distintos para: {col} : {df[col].nunique()}\")\n",
    "    print(df[col].value_counts().head(27))\n"
   ]
  },
  {
   "cell_type": "markdown",
   "id": "5bb556ea",
   "metadata": {},
   "source": [
    "Al analizar las distintas categorías de cada columna, se encontró que no hay categorías mal escritas o incongruentes. Como única observación, se recomienda estandarizar todos los valores para evitar tildes o caracteres especiales."
   ]
  },
  {
   "cell_type": "markdown",
   "id": "397f54b8",
   "metadata": {},
   "source": [
    "## **Plan de Acción**"
   ]
  },
  {
   "cell_type": "markdown",
   "id": "0881b93a",
   "metadata": {},
   "source": [
    "Tras analizar detenidamente todos los datos, se llegó a una conclusión de los pasos que consideramos necesarios para generar un dataset lo más limpio posible.\n",
    "\n",
    "Así se planificará y ejecutará el proceso completo de limpieza de datos, con el objetivo de estandarizar todas las columnas del dataset original para su posterior análisis:"
   ]
  },
  {
   "cell_type": "markdown",
   "id": "9811adc4",
   "metadata": {},
   "source": [
    "1. **Unificación de datos:** Se unificarán los datasets utilizando el script [`union_datos.py`](../scripts/union_datos.py), consolidando toda la información en un único archivo base.\n",
    "\n",
    "2. **Duplicación de columnas:** Se duplicarán las columnas originales para aplicar procesos de limpieza sin perder los valores crudos.\n",
    "\n",
    "3. **Limpieza de columnas de texto:** Se eliminarán espacios en blanco al inicio y al final de las cadenas, y se convertirán los textos a mayúsculas. Para los campos `DEPARTAMENTO` y `MUNICIPIO`, se verificará que sus valores correspondan con los datos oficiales del [Instituto Nacional de Estadística de Guatemala](https://www.ine.gob.gt). \n",
    "\n",
    "4. **Normalización de nombres de establecimientos:** En la columna `ESTABLECIMIENTO` se eliminarán caracteres especiales como comillas (`\"`, `'`) y guiones (`-`), y se corregirán errores ortográficos comunes.\n",
    "\n",
    "5. **Estandarización de direcciones:** Dado que las direcciones suelen presentar un alto grado de variabilidad, se aplicará una estrategia conservadora de limpieza para unificar la nomenclatura de calles, avenidas y otros elementos comunes.\n",
    "\n",
    "6. **Procesamiento de teléfonos:** Se detectarán y tratarán valores con más de 8 dígitos. En casos particulares (por ejemplo, cadenas de 17 o 26 dígitos), se extraerán números adicionales en columnas separadas. Los números inválidos o ausentes se reemplazarán por `\"NO DISPONIBLE\"`.\n",
    "\n",
    "7. **Corrección de nombres de personas:** Para los campos `SUPERVISOR` y `DIRECTOR`, se eliminarán tildes y espacios múltiples, y se corregirán inconsistencias en la escritura de nombres.\n",
    "\n",
    "8. **Exportación final:** Una vez completado el proceso de limpieza, se exportará el dataset limpio a la siguiente ruta: [`limpieza/output/datos_limpios.csv`](/limpieza/output/datos_limpios.csv)."
   ]
  }
 ],
 "metadata": {
  "kernelspec": {
   "display_name": "Python 3",
   "language": "python",
   "name": "python3"
  },
  "language_info": {
   "codemirror_mode": {
    "name": "ipython",
    "version": 3
   },
   "file_extension": ".py",
   "mimetype": "text/x-python",
   "name": "python",
   "nbconvert_exporter": "python",
   "pygments_lexer": "ipython3",
   "version": "3.13.3"
  }
 },
 "nbformat": 4,
 "nbformat_minor": 5
}
