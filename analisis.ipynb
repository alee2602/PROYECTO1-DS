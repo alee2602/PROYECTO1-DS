{
 "cells": [
  {
   "cell_type": "markdown",
   "id": "7397e556",
   "metadata": {},
   "source": [
    "# Avances del Proyecto 1"
   ]
  },
  {
   "cell_type": "markdown",
   "id": "937f0422",
   "metadata": {},
   "source": [
    "## Importación y unificación de datos"
   ]
  },
  {
   "cell_type": "code",
   "execution_count": null,
   "id": "ab8af38c",
   "metadata": {},
   "outputs": [
    {
     "name": "stdout",
     "output_type": "stream",
     "text": [
      "Leyendo altaverapaz.csv con 294 centros educativos\n",
      "Leyendo bajaverapaz.csv con 94 centros educativos\n",
      "Leyendo chimaltenango.csv con 300 centros educativos\n",
      "Leyendo chiquimula.csv con 136 centros educativos\n",
      "Leyendo ciudadcapital.csv con 860 centros educativos\n",
      "Leyendo elprogreso.csv con 97 centros educativos\n",
      "Leyendo escuintla.csv con 393 centros educativos\n",
      "Leyendo guatemala.csv con 1036 centros educativos\n",
      "Leyendo huehuetenango.csv con 295 centros educativos\n",
      "Leyendo izabal.csv con 273 centros educativos\n",
      "Leyendo jalapa.csv con 121 centros educativos\n",
      "Leyendo jutiapa.csv con 296 centros educativos\n",
      "Leyendo peten.csv con 270 centros educativos\n",
      "Leyendo quetzaltenango.csv con 365 centros educativos\n",
      "Leyendo quiche.csv con 184 centros educativos\n",
      "Leyendo retalhuleu.csv con 272 centros educativos\n",
      "Leyendo sacatepequez.csv con 206 centros educativos\n",
      "Leyendo sanmarcos.csv con 431 centros educativos\n",
      "Leyendo santarosa.csv con 133 centros educativos\n",
      "Leyendo solola.csv con 111 centros educativos\n",
      "Leyendo suchitepequez.csv con 296 centros educativos\n",
      "Leyendo totonicapan.csv con 51 centros educativos\n",
      "Leyendo zacapa.csv con 70 centros educativos\n"
     ]
    }
   ],
   "source": [
    "import pandas as pd\n",
    "import os\n",
    "\n",
    "columnas = ['CODIGO', 'DISTRITO', 'DEPARTAMENTO', 'MUNICIPIO', 'ESTABLECIMIENTO', \n",
    "            'DIRECCION', 'TELEFONO', 'SUPERVISOR', 'DIRECTOR', 'NIVEL', 'SECTOR', \n",
    "            'AREA', 'STATUS', 'MODALIDAD', 'JORNADA', 'PLAN', 'DEPARTAMENTAL']\n",
    "\n",
    "carpeta = 'data/csv/'\n",
    "dfs = []\n",
    "\n",
    "for archivo in os.listdir(carpeta):\n",
    "    if archivo.endswith('.csv'):\n",
    "        ruta_completa = os.path.join(carpeta, archivo)\n",
    "        temp_df = pd.read_csv(ruta_completa)\n",
    "        print(f'Leyendo {archivo} con {temp_df.shape[0]} centros educativos')\n",
    "        dfs.append(pd.read_csv(ruta_completa))\n",
    "\n",
    "df = pd.concat(dfs, ignore_index=True)\n"
   ]
  },
  {
   "cell_type": "markdown",
   "id": "f5d66e63",
   "metadata": {},
   "source": [
    "### Obtener valores de columnas generales"
   ]
  },
  {
   "cell_type": "code",
   "execution_count": null,
   "id": "e35fec77",
   "metadata": {},
   "outputs": [
    {
     "name": "stdout",
     "output_type": "stream",
     "text": [
      "Datos únicos de la columna NIVEL:\n",
      "['DIVERSIFICADO']\n",
      "Datos únicos de la columna SECTOR:\n",
      "['PRIVADO' 'OFICIAL' 'MUNICIPAL' 'COOPERATIVA']\n",
      "Datos únicos de la columna AREA:\n",
      "['URBANA' 'RURAL' 'SIN ESPECIFICAR']\n",
      "Datos únicos de la columna STATUS:\n",
      "['ABIERTA']\n",
      "Datos únicos de la columna MODALIDAD:\n",
      "['MONOLINGUE' 'BILINGUE']\n",
      "Datos únicos de la columna JORNADA:\n",
      "['MATUTINA' 'VESPERTINA' 'DOBLE' 'NOCTURNA' 'SIN JORNADA' 'INTERMEDIA']\n",
      "Datos únicos de la columna PLAN:\n",
      "['DIARIO(REGULAR)' 'FIN DE SEMANA' 'A DISTANCIA' 'SEMIPRESENCIAL'\n",
      " 'SEMIPRESENCIAL (FIN DE SEMANA)' 'SEMIPRESENCIAL (UN DÍA A LA SEMANA)'\n",
      " 'VIRTUAL A DISTANCIA' 'SEMIPRESENCIAL (DOS DÍAS A LA SEMANA)' 'SABATINO'\n",
      " 'INTERCALADO' 'DOMINICAL' 'MIXTO']\n",
      "Datos únicos de la columna DEPARTAMENTAL:\n",
      "['ALTA VERAPAZ' 'BAJA VERAPAZ' 'CHIMALTENANGO' 'CHIQUIMULA'\n",
      " 'GUATEMALA NORTE' 'GUATEMALA ORIENTE' 'GUATEMALA OCCIDENTE'\n",
      " 'GUATEMALA SUR' 'EL PROGRESO' 'ESCUINTLA' 'HUEHUETENANGO' 'IZABAL'\n",
      " 'JALAPA' 'JUTIAPA' 'PETÉN' 'QUETZALTENANGO' 'QUICHÉ' 'QUICHÉ NORTE'\n",
      " 'RETALHULEU' 'SACATEPÉQUEZ' 'SAN MARCOS' 'SANTA ROSA' 'SOLOLÁ'\n",
      " 'SUCHITEPÉQUEZ' 'TOTONICAPÁN' 'ZACAPA']\n"
     ]
    }
   ],
   "source": [
    "for col in ['NIVEL', 'SECTOR', 'AREA', 'STATUS', 'MODALIDAD', 'JORNADA', 'PLAN', 'DEPARTAMENTAL']:\n",
    "    print(f'Datos únicos de la columna {col}:\\n{df[col].unique()}')"
   ]
  },
  {
   "cell_type": "code",
   "execution_count": null,
   "id": "533e1912",
   "metadata": {},
   "outputs": [
    {
     "data": {
      "text/plain": [
       "(6584, 17)"
      ]
     },
     "metadata": {},
     "output_type": "display_data"
    }
   ],
   "source": [
    "df.shape"
   ]
  },
  {
   "cell_type": "markdown",
   "id": "ce9f722b",
   "metadata": {},
   "source": [
    "## **1. Descripción general del dataset**"
   ]
  },
  {
   "cell_type": "markdown",
   "id": "f310057f",
   "metadata": {},
   "source": [
    "A continuación, se describen los datos obtenidos del sitio web del [Mineduc](https://www.mineduc.gob.gt/BUSCAESTABLECIMIENTO_GE/):\n",
    "\n",
    "Los datos corresponden a los **6584** centros educativos a nivel nacional que imparten **educación diversificada**. Están organizados en **23 archivos CSV**, uno por cada **departamento** de Guatemala. Cada archivo contiene **17 columnas** con información relevante sobre los establecimientos:\n",
    "\n",
    "\n",
    "* `CODIGO`: Identificador único del establecimiento, con el formato `XX-XX-XXXX-XX`.\n",
    "\n",
    "  * **Primer bloque (`XX`)**: Código del departamento (ej. `18` para Izabal).\n",
    "  * **Segundo bloque (`XX`)**: Código del municipio dentro del departamento.\n",
    "  * **Tercer bloque (`XXXX`)**: Identificador interno del centro educativo.\n",
    "  * **Cuarto bloque (`XX`)**: Es siempre `46`, posiblemente indica el nivel educativo (diversificado) o el sistema de codificación actual del Mineduc.\n",
    "\n",
    "* `DISTRITO`: Código del distrito escolar al que pertenece el establecimiento. Tiene el formato `XX-XXX`, donde el primer número corresponde al departamento, y los últimos tres identifican las zonas operativas o educativas regionales dentro del departamento. **Ejemplo:** `18-007` y `18-008` son distritos distintos dentro de Izabal.\n",
    "\n",
    "* `DEPARTAMENTO`: Nombre del departamento (ej. `IZABAL`).\n",
    "\n",
    "* `MUNICIPIO`: Municipio donde se ubica el establecimiento (ej. `PUERTO BARRIOS`).\n",
    "\n",
    "* `ESTABLECIMIENTO`: Nombre oficial del centro educativo. Puede incluir el tipo (`COLEGIO`, `ESCUELA`, `INSTITUTO`) y detalles como mixto, cristiano, etc.\n",
    "\n",
    "* `DIRECCION`: Ubicación del centro.\n",
    "\n",
    "* `TELEFONO`: Número telefónico del establecimiento, si está disponible.\n",
    "\n",
    "* `SUPERVISOR`: Nombre del supervisor distrital asignado al establecimiento.\n",
    "\n",
    "* `DIRECTOR`: Nombre del director o responsable del centro educativo.\n",
    "\n",
    "* `NIVEL`: Máximo nivel educativo ofrecido. En este caso todos son `DIVERSIFICADO`.\n",
    "\n",
    "* `SECTOR`: Define el sector del establecimiento, puede ser:\n",
    "    - **PRIVADO**\n",
    "    - **OFICIAL**\n",
    "    - **MUNICIPAL**\n",
    "    - **COOPERATIVA**\n",
    "\n",
    "* `AREA`: Área geográfica según categorización del Mineduc: **URBANA**, **RURAL** o **SIN ESPECIFICAR**.\n",
    "\n",
    "* `STATUS`: Estado de funcionamiento del centro educativo. En estos datos, el valor para todos es `ABIERTA`.\n",
    "\n",
    "* `MODALIDAD`: Tipo de modalidad educativa: `MONOLINGUE` o `BILINGUE`.\n",
    "\n",
    "* `JORNADA`: Jornada en que opera el centro: **MATUTINA**, **VESPERTINA**, **DOBLE**, **NOCTURNA**, **SIN JORNADA**, **INTERMEDIA**.\n",
    "\n",
    "* `PLAN`: Plan educativo implementado:\n",
    "    - **DIARIO(REGULAR)**\n",
    "    - **FIN DE SEMANA**\n",
    "    - **A DISTANCIA**\n",
    "    - **SEMIPRESENCIAL**\n",
    "    - **SEMIPRESENCIAL (FIN DE SEMANA)**\n",
    "    - **SEMIPRESENCIAL (UN DÍA A LA SEMANA)**\n",
    "    - **VIRTUAL A DISTANCIA**\n",
    "    - **SEMIPRESENCIAL (DOS DÍAS A LA SEMANA)**\n",
    "    - **SABATINO**\n",
    "    - **INTERCALADO**\n",
    "    - **DOMINICAL**\n",
    "    - **MIXTO**\n",
    "\n",
    "* `DEPARTAMENTAL`: Nombre del departamento al que pertenece el centro educativo. En algunos casos, describe subdivisiones regionales dentro de departamentos con alta densidad de establecimientos, como **GUATEMALA NORTE**, **GUATEMALA ORIENTE**, **GUATEMALA OCCIDENTE**, **GUATEMALA SUR**, o distinciones como **QUICHÉ** y **QUICHÉ NORTE**."
   ]
  },
  {
   "cell_type": "markdown",
   "id": "d4c9f33e",
   "metadata": {},
   "source": [
    "## 2. Variables que requieren limpieza\n",
    "\n",
    "<!-- Enlistar las variables que tienen datos inconsistentes, errores comunes, o problemas de formato. Comentar brevemente por qué requieren limpieza. -->\n",
    "\n",
    "Ejemplo:\n",
    "\n",
    "* `ESTABLECIMIENTO`: hay diferencias por uso de mayúsculas, comillas, acentos inconsistentes.\n",
    "* `DIRECCION`: muchas variaciones, errores ortográficos o campos incompletos.\n",
    "* `SUPERVISOR` y `DIRECTOR`: hay diferencias por uso de mayúsculas/minúsculas o nombres mal escritos.\n",
    "* `TELEFONO`: hay algunos vacíos, valores con caracteres no numéricos."
   ]
  },
  {
   "cell_type": "markdown",
   "id": "4492c494",
   "metadata": {},
   "source": [
    "## 3. Estrategia de limpieza\n",
    "\n",
    "<!-- Proponer pasos concretos para limpiar los datos. Puede variar por columna, indicando operaciones como normalización, eliminación de duplicados, corrección de errores, etc. -->\n",
    "\n",
    "### `ESTABLECIMIENTO`\n",
    "\n",
    "1. Convertir todos los nombres a mayúsculas.\n",
    "2. Eliminar espacios duplicados y caracteres especiales innecesarios.\n",
    "3. Corregir errores de escritura comunes (ej. \"COLEGO\" → \"COLEGIO\").\n",
    "4. Eliminar registros duplicados si el nombre y la dirección coinciden."
   ]
  },
  {
   "cell_type": "markdown",
   "id": "5594aa80",
   "metadata": {},
   "source": [
    "## 4. Consideraciones adicionales\n",
    "\n",
    "<!-- Comentar si se planea eliminar filas con datos faltantes, validar categorías de columnas como “MODALIDAD” o “PLAN”, o agregar nuevas columnas derivadas. -->\n",
    "\n",
    "Ejemplo:\n",
    "\n",
    "* Validar si todos los códigos `CODIGO` tienen un formato válido.\n",
    "* Revisar si hay centros educativos con la misma dirección pero diferentes nombres.\n",
    "* Agregar una columna `AÑO` si se desea filtrar por época de creación (si se infiere de alguna fuente externa).\n",
    "\n",
    "> Tomar en consideración que pueden haber centros educativos repetidos pero puede que sea porque tengan dos modalidades, como este de Quiché con códigos **14-14-0070-46** y **14-14-0083-46**, pero uno es **DOBLE**,**FIN DE SEMANA** y el otro es **VESPERTINA**,**DIARIO(REGULAR)**"
   ]
  }
 ],
 "metadata": {
  "kernelspec": {
   "display_name": "Python 3",
   "language": "python",
   "name": "python3"
  },
  "language_info": {
   "codemirror_mode": {
    "name": "ipython",
    "version": 3
   },
   "file_extension": ".py",
   "mimetype": "text/x-python",
   "name": "python",
   "nbconvert_exporter": "python",
   "pygments_lexer": "ipython3",
   "version": "3.13.3"
  }
 },
 "nbformat": 4,
 "nbformat_minor": 5
}
