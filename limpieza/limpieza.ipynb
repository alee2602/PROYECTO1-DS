{
 "cells": [
  {
   "cell_type": "markdown",
   "id": "c727d32b",
   "metadata": {},
   "source": [
    "# **Proyecto 1 - Data Science**\n",
    "## **Limpieza de datos**"
   ]
  },
  {
   "cell_type": "code",
   "execution_count": 1,
   "id": "16da6291",
   "metadata": {},
   "outputs": [],
   "source": [
    "import pandas as pd\n",
    "import unicodedata\n",
    "import re\n",
    "\n",
    "df = pd.read_csv(\"data_unificada.csv\")\n"
   ]
  },
  {
   "cell_type": "markdown",
   "id": "7881c130",
   "metadata": {},
   "source": [
    "### **Crear carpeta destino para alojar dataset limpio**"
   ]
  },
  {
   "cell_type": "code",
   "execution_count": 2,
   "id": "8372a453",
   "metadata": {},
   "outputs": [],
   "source": [
    "\n",
    "import os\n",
    "import shutil\n",
    "\n",
    "carpeta_destino = 'output'\n",
    "carpeta_destino_csv = os.path.join(carpeta_destino, 'csv')\n",
    "\n",
    "# Crear la carpeta si no existe\n",
    "if not os.path.exists(carpeta_destino):\n",
    "    os.makedirs(carpeta_destino)\n",
    "    print(f\"Carpeta '{carpeta_destino}' creada.\")"
   ]
  },
  {
   "cell_type": "markdown",
   "id": "a9f38503",
   "metadata": {},
   "source": [
    "### **Inspección inicial del estado de los datos**"
   ]
  },
  {
   "cell_type": "code",
   "execution_count": 3,
   "id": "636007ab",
   "metadata": {},
   "outputs": [
    {
     "name": "stdout",
     "output_type": "stream",
     "text": [
      "Dimensiones: (6584, 17)\n",
      "Columnas: ['CODIGO', 'DISTRITO', 'DEPARTAMENTO', 'MUNICIPIO', 'ESTABLECIMIENTO', 'DIRECCION', 'TELEFONO', 'SUPERVISOR', 'DIRECTOR', 'NIVEL', 'SECTOR', 'AREA', 'STATUS', 'MODALIDAD', 'JORNADA', 'PLAN', 'DEPARTAMENTAL']\n",
      "Valores nulos por columna:\n",
      " CODIGO              0\n",
      "DISTRITO            0\n",
      "DEPARTAMENTO        0\n",
      "MUNICIPIO           0\n",
      "ESTABLECIMIENTO     0\n",
      "DIRECCION           2\n",
      "TELEFONO           45\n",
      "SUPERVISOR          0\n",
      "DIRECTOR           23\n",
      "NIVEL               0\n",
      "SECTOR              0\n",
      "AREA                0\n",
      "STATUS              0\n",
      "MODALIDAD           0\n",
      "JORNADA             0\n",
      "PLAN                0\n",
      "DEPARTAMENTAL       0\n",
      "dtype: int64\n",
      "Tipos de datos:\n",
      " CODIGO             object\n",
      "DISTRITO           object\n",
      "DEPARTAMENTO       object\n",
      "MUNICIPIO          object\n",
      "ESTABLECIMIENTO    object\n",
      "DIRECCION          object\n",
      "TELEFONO           object\n",
      "SUPERVISOR         object\n",
      "DIRECTOR           object\n",
      "NIVEL              object\n",
      "SECTOR             object\n",
      "AREA               object\n",
      "STATUS             object\n",
      "MODALIDAD          object\n",
      "JORNADA            object\n",
      "PLAN               object\n",
      "DEPARTAMENTAL      object\n",
      "dtype: object\n"
     ]
    },
    {
     "data": {
      "text/html": [
       "<div>\n",
       "<style scoped>\n",
       "    .dataframe tbody tr th:only-of-type {\n",
       "        vertical-align: middle;\n",
       "    }\n",
       "\n",
       "    .dataframe tbody tr th {\n",
       "        vertical-align: top;\n",
       "    }\n",
       "\n",
       "    .dataframe thead th {\n",
       "        text-align: right;\n",
       "    }\n",
       "</style>\n",
       "<table border=\"1\" class=\"dataframe\">\n",
       "  <thead>\n",
       "    <tr style=\"text-align: right;\">\n",
       "      <th></th>\n",
       "      <th>CODIGO</th>\n",
       "      <th>DISTRITO</th>\n",
       "      <th>DEPARTAMENTO</th>\n",
       "      <th>MUNICIPIO</th>\n",
       "      <th>ESTABLECIMIENTO</th>\n",
       "      <th>DIRECCION</th>\n",
       "      <th>TELEFONO</th>\n",
       "      <th>SUPERVISOR</th>\n",
       "      <th>DIRECTOR</th>\n",
       "      <th>NIVEL</th>\n",
       "      <th>SECTOR</th>\n",
       "      <th>AREA</th>\n",
       "      <th>STATUS</th>\n",
       "      <th>MODALIDAD</th>\n",
       "      <th>JORNADA</th>\n",
       "      <th>PLAN</th>\n",
       "      <th>DEPARTAMENTAL</th>\n",
       "    </tr>\n",
       "  </thead>\n",
       "  <tbody>\n",
       "    <tr>\n",
       "      <th>5637</th>\n",
       "      <td>12-07-0216-46</td>\n",
       "      <td>12-073</td>\n",
       "      <td>SAN MARCOS</td>\n",
       "      <td>TACANA</td>\n",
       "      <td>INSTITUTO NACIONAL DE EDUCACIÓN DIVERSIFICADA</td>\n",
       "      <td>CANTÓN  CRUZ DE BARRANCAS</td>\n",
       "      <td>40183677.0</td>\n",
       "      <td>DUBEN HUMBERTO CIFUENTES GONZALEZ</td>\n",
       "      <td>ROXANA VERENISSE GONZÁLEZ RECINOS</td>\n",
       "      <td>DIVERSIFICADO</td>\n",
       "      <td>OFICIAL</td>\n",
       "      <td>RURAL</td>\n",
       "      <td>ABIERTA</td>\n",
       "      <td>MONOLINGUE</td>\n",
       "      <td>VESPERTINA</td>\n",
       "      <td>DIARIO(REGULAR)</td>\n",
       "      <td>SAN MARCOS</td>\n",
       "    </tr>\n",
       "    <tr>\n",
       "      <th>4835</th>\n",
       "      <td>14-01-0112-46</td>\n",
       "      <td>14-001</td>\n",
       "      <td>QUICHE</td>\n",
       "      <td>SANTA CRUZ DEL QUICHE</td>\n",
       "      <td>INSTITUTO NACIONAL DE EDUCACION DIVERSIFICADA</td>\n",
       "      <td>20 CALLE FINAL ZONA 4, COLONIA LOS CELAJES</td>\n",
       "      <td>77554630</td>\n",
       "      <td>JOSE OSCAR TIPAZ VELASQUEZ</td>\n",
       "      <td>JUSTO RUFINO PEREIRA GONZÁLEZ</td>\n",
       "      <td>DIVERSIFICADO</td>\n",
       "      <td>OFICIAL</td>\n",
       "      <td>URBANA</td>\n",
       "      <td>ABIERTA</td>\n",
       "      <td>MONOLINGUE</td>\n",
       "      <td>VESPERTINA</td>\n",
       "      <td>DIARIO(REGULAR)</td>\n",
       "      <td>QUICHÉ</td>\n",
       "    </tr>\n",
       "    <tr>\n",
       "      <th>4989</th>\n",
       "      <td>14-20-0184-46</td>\n",
       "      <td>14-054</td>\n",
       "      <td>QUICHE</td>\n",
       "      <td>IXCAN</td>\n",
       "      <td>COLEGIO AMERICANO MAYA QUICHE</td>\n",
       "      <td>LOTE 08 COLONIA BUENA VISTA, ENTRADA A SAN FRA...</td>\n",
       "      <td>77557616</td>\n",
       "      <td>JERONIMO COC JUAREZ</td>\n",
       "      <td>MAYLING PATRICIA PINEDA URIZAR</td>\n",
       "      <td>DIVERSIFICADO</td>\n",
       "      <td>PRIVADO</td>\n",
       "      <td>URBANA</td>\n",
       "      <td>ABIERTA</td>\n",
       "      <td>MONOLINGUE</td>\n",
       "      <td>SIN JORNADA</td>\n",
       "      <td>SEMIPRESENCIAL (FIN DE SEMANA)</td>\n",
       "      <td>QUICHÉ NORTE</td>\n",
       "    </tr>\n",
       "    <tr>\n",
       "      <th>5199</th>\n",
       "      <td>11-04-0033-46</td>\n",
       "      <td>11-017</td>\n",
       "      <td>RETALHULEU</td>\n",
       "      <td>SAN MARTIN ZAPOTITLAN</td>\n",
       "      <td>INSTITUTO MUNICIPAL DE EDUCACIÓN MEDIA Y BACHI...</td>\n",
       "      <td>0 AVENIDA ZONA 1</td>\n",
       "      <td>53271115.0</td>\n",
       "      <td>MIGUEL ANGEL ARMAS ROCHA</td>\n",
       "      <td>HÉCTOR ANÍBAL MALDONADO ALVARADO</td>\n",
       "      <td>DIVERSIFICADO</td>\n",
       "      <td>PRIVADO</td>\n",
       "      <td>URBANA</td>\n",
       "      <td>ABIERTA</td>\n",
       "      <td>MONOLINGUE</td>\n",
       "      <td>SIN JORNADA</td>\n",
       "      <td>SEMIPRESENCIAL (FIN DE SEMANA)</td>\n",
       "      <td>RETALHULEU</td>\n",
       "    </tr>\n",
       "    <tr>\n",
       "      <th>1424</th>\n",
       "      <td>00-12-0140-46</td>\n",
       "      <td>01-211</td>\n",
       "      <td>CIUDAD CAPITAL</td>\n",
       "      <td>ZONA 12</td>\n",
       "      <td>COLEGIO PARROQUIAL \"PADRE ELOY SUAREZ COBIAN\"</td>\n",
       "      <td>26 CALLE 7-10</td>\n",
       "      <td>24770712</td>\n",
       "      <td>ADRIANA FABIOLA BOLAÑOS ESTRADA</td>\n",
       "      <td>MASSIEL  ZAVALA CASTRO</td>\n",
       "      <td>DIVERSIFICADO</td>\n",
       "      <td>PRIVADO</td>\n",
       "      <td>URBANA</td>\n",
       "      <td>ABIERTA</td>\n",
       "      <td>MONOLINGUE</td>\n",
       "      <td>MATUTINA</td>\n",
       "      <td>DIARIO(REGULAR)</td>\n",
       "      <td>GUATEMALA SUR</td>\n",
       "    </tr>\n",
       "  </tbody>\n",
       "</table>\n",
       "</div>"
      ],
      "text/plain": [
       "             CODIGO DISTRITO    DEPARTAMENTO              MUNICIPIO  \\\n",
       "5637  12-07-0216-46   12-073      SAN MARCOS                 TACANA   \n",
       "4835  14-01-0112-46   14-001          QUICHE  SANTA CRUZ DEL QUICHE   \n",
       "4989  14-20-0184-46   14-054          QUICHE                  IXCAN   \n",
       "5199  11-04-0033-46   11-017      RETALHULEU  SAN MARTIN ZAPOTITLAN   \n",
       "1424  00-12-0140-46   01-211  CIUDAD CAPITAL                ZONA 12   \n",
       "\n",
       "                                        ESTABLECIMIENTO  \\\n",
       "5637      INSTITUTO NACIONAL DE EDUCACIÓN DIVERSIFICADA   \n",
       "4835      INSTITUTO NACIONAL DE EDUCACION DIVERSIFICADA   \n",
       "4989                      COLEGIO AMERICANO MAYA QUICHE   \n",
       "5199  INSTITUTO MUNICIPAL DE EDUCACIÓN MEDIA Y BACHI...   \n",
       "1424      COLEGIO PARROQUIAL \"PADRE ELOY SUAREZ COBIAN\"   \n",
       "\n",
       "                                              DIRECCION    TELEFONO  \\\n",
       "5637                          CANTÓN  CRUZ DE BARRANCAS  40183677.0   \n",
       "4835         20 CALLE FINAL ZONA 4, COLONIA LOS CELAJES    77554630   \n",
       "4989  LOTE 08 COLONIA BUENA VISTA, ENTRADA A SAN FRA...    77557616   \n",
       "5199                                   0 AVENIDA ZONA 1  53271115.0   \n",
       "1424                                      26 CALLE 7-10    24770712   \n",
       "\n",
       "                             SUPERVISOR                           DIRECTOR  \\\n",
       "5637  DUBEN HUMBERTO CIFUENTES GONZALEZ  ROXANA VERENISSE GONZÁLEZ RECINOS   \n",
       "4835         JOSE OSCAR TIPAZ VELASQUEZ      JUSTO RUFINO PEREIRA GONZÁLEZ   \n",
       "4989                JERONIMO COC JUAREZ     MAYLING PATRICIA PINEDA URIZAR   \n",
       "5199           MIGUEL ANGEL ARMAS ROCHA   HÉCTOR ANÍBAL MALDONADO ALVARADO   \n",
       "1424    ADRIANA FABIOLA BOLAÑOS ESTRADA             MASSIEL  ZAVALA CASTRO   \n",
       "\n",
       "              NIVEL   SECTOR    AREA   STATUS   MODALIDAD      JORNADA  \\\n",
       "5637  DIVERSIFICADO  OFICIAL   RURAL  ABIERTA  MONOLINGUE   VESPERTINA   \n",
       "4835  DIVERSIFICADO  OFICIAL  URBANA  ABIERTA  MONOLINGUE   VESPERTINA   \n",
       "4989  DIVERSIFICADO  PRIVADO  URBANA  ABIERTA  MONOLINGUE  SIN JORNADA   \n",
       "5199  DIVERSIFICADO  PRIVADO  URBANA  ABIERTA  MONOLINGUE  SIN JORNADA   \n",
       "1424  DIVERSIFICADO  PRIVADO  URBANA  ABIERTA  MONOLINGUE     MATUTINA   \n",
       "\n",
       "                                PLAN  DEPARTAMENTAL  \n",
       "5637                 DIARIO(REGULAR)     SAN MARCOS  \n",
       "4835                 DIARIO(REGULAR)         QUICHÉ  \n",
       "4989  SEMIPRESENCIAL (FIN DE SEMANA)   QUICHÉ NORTE  \n",
       "5199  SEMIPRESENCIAL (FIN DE SEMANA)     RETALHULEU  \n",
       "1424                 DIARIO(REGULAR)  GUATEMALA SUR  "
      ]
     },
     "execution_count": 3,
     "metadata": {},
     "output_type": "execute_result"
    }
   ],
   "source": [
    "# Tamaño y columnas\n",
    "print(\"Dimensiones:\", df.shape)\n",
    "print(\"Columnas:\", df.columns.tolist())\n",
    "\n",
    "# Revisar nulos\n",
    "print(\"Valores nulos por columna:\\n\", df.isnull().sum())\n",
    "\n",
    "# Tipos de datos\n",
    "print(\"Tipos de datos:\\n\", df.dtypes)\n",
    "\n",
    "df.sample(5)\n"
   ]
  },
  {
   "cell_type": "markdown",
   "id": "93ca7c3c",
   "metadata": {},
   "source": [
    "### **Limpiar columnas tipo texto: eliminar espacios extremos y convertir a mayúsculas**"
   ]
  },
  {
   "cell_type": "code",
   "execution_count": 4,
   "id": "10534366",
   "metadata": {},
   "outputs": [],
   "source": [
    "\n",
    "for col in df.select_dtypes(include=\"object\").columns:\n",
    "    df[col] = df[col].astype(str).str.strip().str.upper()\n"
   ]
  },
  {
   "cell_type": "markdown",
   "id": "e79ec589",
   "metadata": {},
   "source": [
    "En este paso se estandarizó todo el texto de las columnas tipo cadena. Esto se realizó con el propósito de evitar inconsistencias causadas por diferencias en mayúsculas y minúsculas, y por espacios innecesarios al inicio o final de los campos. Esta limpieza permite mejorar la detección de duplicados, corregir errores ortográficos y facilitar futuras agrupaciones."
   ]
  },
  {
   "cell_type": "markdown",
   "id": "7a9bf6b4",
   "metadata": {},
   "source": [
    "## **CÓDIGO**"
   ]
  },
  {
   "cell_type": "markdown",
   "id": "af941140",
   "metadata": {},
   "source": [
    "### **Ver ejemplos distintos de códigos (únicos)**"
   ]
  },
  {
   "cell_type": "code",
   "execution_count": 5,
   "id": "5ebff849",
   "metadata": {},
   "outputs": [
    {
     "data": {
      "text/plain": [
       "5161    11-01-1406-46\n",
       "2805    01-14-0187-46\n",
       "3327    13-04-0112-46\n",
       "3531    18-01-0320-46\n",
       "6333    10-08-0026-46\n",
       "3821    21-01-0417-46\n",
       "4152    22-14-0080-46\n",
       "1851    05-01-0459-46\n",
       "6414    10-15-0040-46\n",
       "4523    09-01-0384-46\n",
       "5442    03-09-0056-46\n",
       "1793    05-01-0253-46\n",
       "1584    00-18-0223-46\n",
       "1691    02-01-0062-46\n",
       "5891    12-29-0029-46\n",
       "3172    01-17-0315-46\n",
       "1988    05-05-0077-46\n",
       "4179    22-16-0031-46\n",
       "2851    01-15-0119-46\n",
       "552     04-03-0260-46\n",
       "Name: CODIGO, dtype: object"
      ]
     },
     "execution_count": 5,
     "metadata": {},
     "output_type": "execute_result"
    }
   ],
   "source": [
    "df[\"CODIGO\"].sample(20, random_state=1)"
   ]
  },
  {
   "cell_type": "markdown",
   "id": "d021e763",
   "metadata": {},
   "source": [
    "### **Ver longitud del identificador de cada establecimiento**"
   ]
  },
  {
   "cell_type": "code",
   "execution_count": 6,
   "id": "e4c6b37a",
   "metadata": {},
   "outputs": [
    {
     "data": {
      "text/plain": [
       "LARGO_CODIGO\n",
       "13    6584\n",
       "Name: count, dtype: int64"
      ]
     },
     "execution_count": 6,
     "metadata": {},
     "output_type": "execute_result"
    }
   ],
   "source": [
    "\n",
    "df[\"LARGO_CODIGO\"] = df[\"CODIGO\"].astype(str).str.len()\n",
    "df[\"LARGO_CODIGO\"].value_counts().sort_index()\n",
    "\n"
   ]
  },
  {
   "cell_type": "markdown",
   "id": "6fc5f9b7",
   "metadata": {},
   "source": [
    "Se evaluó la estructura de los códigos institucionales para garantizar su consistencia. Esto permitió detectar posibles errores de codificación o registros atípicos. No existen variaciones en el formato ni en la cantidad de dígitos en cada código."
   ]
  },
  {
   "cell_type": "code",
   "execution_count": 7,
   "id": "50e4ee0f",
   "metadata": {},
   "outputs": [],
   "source": [
    "df = df.drop(\"LARGO_CODIGO\", axis=1)"
   ]
  },
  {
   "cell_type": "markdown",
   "id": "20554ee6",
   "metadata": {},
   "source": [
    "## **DISTRITO**"
   ]
  },
  {
   "cell_type": "markdown",
   "id": "e09d6377",
   "metadata": {},
   "source": [
    "### **Ver ejemplos distintos de códigos de cada distrito (únicos)**"
   ]
  },
  {
   "cell_type": "code",
   "execution_count": 8,
   "id": "2ecf064d",
   "metadata": {},
   "outputs": [
    {
     "data": {
      "text/plain": [
       "5161    11-017\n",
       "2805    01-411\n",
       "3327    13-012\n",
       "3531    18-008\n",
       "6333    10-009\n",
       "3821    21-004\n",
       "4152    22-023\n",
       "1851    05-033\n",
       "6414    10-021\n",
       "4523    09-006\n",
       "5442    03-006\n",
       "1793    05-033\n",
       "1584    01-403\n",
       "1691    02-021\n",
       "5891    12-053\n",
       "3172    01-641\n",
       "1988    05-031\n",
       "4179    22-026\n",
       "2851    01-214\n",
       "552     04-033\n",
       "Name: DISTRITO, dtype: object"
      ]
     },
     "execution_count": 8,
     "metadata": {},
     "output_type": "execute_result"
    }
   ],
   "source": [
    "df[\"DISTRITO\"].sample(20, random_state=1)"
   ]
  },
  {
   "cell_type": "markdown",
   "id": "e210dfe6",
   "metadata": {},
   "source": [
    "### **Ver longitud del identificador de cada distrito**"
   ]
  },
  {
   "cell_type": "code",
   "execution_count": 9,
   "id": "c83bcd70",
   "metadata": {},
   "outputs": [
    {
     "data": {
      "text/plain": [
       "LARGO_DISTRITO\n",
       "6    6584\n",
       "Name: count, dtype: int64"
      ]
     },
     "execution_count": 9,
     "metadata": {},
     "output_type": "execute_result"
    }
   ],
   "source": [
    "df[\"LARGO_DISTRITO\"] = df[\"DISTRITO\"].astype(str).str.len()\n",
    "df[\"LARGO_DISTRITO\"].value_counts().sort_index()\n"
   ]
  },
  {
   "cell_type": "markdown",
   "id": "0a706cda",
   "metadata": {},
   "source": [
    "Se evaluó la estructura de los identificadores de cada distrito para garantizar su consistencia. Esto permitió detectar posibles errores de codificación o registros atípicos. No existen variaciones en el formato ni en la cantidad de dígitos en cada identificador del distrito"
   ]
  },
  {
   "cell_type": "code",
   "execution_count": 10,
   "id": "053844de",
   "metadata": {},
   "outputs": [],
   "source": [
    "df = df.drop(\"LARGO_DISTRITO\", axis=1)"
   ]
  },
  {
   "cell_type": "markdown",
   "id": "3d7d2fbb",
   "metadata": {},
   "source": [
    "## **DEPARTAMENTO**"
   ]
  },
  {
   "cell_type": "markdown",
   "id": "a1e93e2a",
   "metadata": {},
   "source": [
    "### **Eliminar espacios inconsistentes y cualquier acentuación**"
   ]
  },
  {
   "cell_type": "code",
   "execution_count": 11,
   "id": "fdc7522f",
   "metadata": {},
   "outputs": [],
   "source": [
    "def limpiar_departamento(nombre):\n",
    "    nombre = unicodedata.normalize(\"NFKD\", nombre)\n",
    "    nombre = ''.join(c for c in nombre if not unicodedata.combining(c))\n",
    "    return nombre\n",
    "\n",
    "df[\"DEPARTAMENTO\"] = df[\"DEPARTAMENTO\"].apply(limpiar_departamento)"
   ]
  },
  {
   "cell_type": "markdown",
   "id": "86e16346",
   "metadata": {},
   "source": [
    "### **Obtener los valores únicos**"
   ]
  },
  {
   "cell_type": "code",
   "execution_count": 12,
   "id": "2264e222",
   "metadata": {},
   "outputs": [
    {
     "name": "stdout",
     "output_type": "stream",
     "text": [
      "Departamentos únicos encontrados:\n",
      "['ALTA VERAPAZ' 'BAJA VERAPAZ' 'CHIMALTENANGO' 'CHIQUIMULA'\n",
      " 'CIUDAD CAPITAL' 'EL PROGRESO' 'ESCUINTLA' 'GUATEMALA' 'HUEHUETENANGO'\n",
      " 'IZABAL' 'JALAPA' 'JUTIAPA' 'PETEN' 'QUETZALTENANGO' 'QUICHE'\n",
      " 'RETALHULEU' 'SACATEPEQUEZ' 'SAN MARCOS' 'SANTA ROSA' 'SOLOLA'\n",
      " 'SUCHITEPEQUEZ' 'TOTONICAPAN' 'ZACAPA']\n"
     ]
    }
   ],
   "source": [
    "print(\"Departamentos únicos encontrados:\")\n",
    "print(df[\"DEPARTAMENTO\"].sort_values().unique())"
   ]
  },
  {
   "cell_type": "markdown",
   "id": "9e4af746",
   "metadata": {},
   "source": [
    "### **Validar contra la lista de departamentos**"
   ]
  },
  {
   "cell_type": "code",
   "execution_count": 13,
   "id": "aece823a",
   "metadata": {},
   "outputs": [
    {
     "name": "stdout",
     "output_type": "stream",
     "text": [
      " Departamentos no oficiales encontrados:\n",
      "set()\n"
     ]
    }
   ],
   "source": [
    "\n",
    "departamentos_oficiales = [\n",
    "    \"ALTA VERAPAZ\", \"BAJA VERAPAZ\", \"CHIMALTENANGO\", \"CHIQUIMULA\",\n",
    "    \"EL PROGRESO\", \"ESCUINTLA\", \"GUATEMALA\", \"HUEHUETENANGO\",\n",
    "    \"IZABAL\", \"JALAPA\", \"JUTIAPA\", \"PETEN\", \"QUETZALTENANGO\",\n",
    "    \"QUICHE\", \"RETALHULEU\", \"SACATEPEQUEZ\", \"SAN MARCOS\",\n",
    "    \"SANTA ROSA\", \"SOLOLA\", \"SUCHITEPEQUEZ\", \"TOTONICAPAN\", \"ZACAPA\",\n",
    "    \"CIUDAD CAPITAL\" \n",
    "]\n",
    "\n",
    "departamentos_encontrados = set(df[\"DEPARTAMENTO\"].unique())\n",
    "departamentos_invalidos = departamentos_encontrados - set(departamentos_oficiales)\n",
    "\n",
    "print(\" Departamentos no oficiales encontrados:\")\n",
    "print(departamentos_invalidos)\n"
   ]
  },
  {
   "cell_type": "markdown",
   "id": "3de8abe5",
   "metadata": {},
   "source": [
    "Se normalizó el campo `DEPARTAMENTO` mediante la conversión a mayúsculas, eliminación de espacios y tildes. Posteriormente, se comparó contra la lista oficial de departamentos de Guatemala para detectar valores inválidos. Los errores se corrigen si se deben a variantes tipográficas; si no, se analizan individualmente."
   ]
  },
  {
   "cell_type": "markdown",
   "id": "725c74a2",
   "metadata": {},
   "source": [
    "## **MUNICIPIO**"
   ]
  },
  {
   "cell_type": "markdown",
   "id": "488519bb",
   "metadata": {},
   "source": [
    "### **Eliminar espacios inconsistentes y cualquier acentuación**"
   ]
  },
  {
   "cell_type": "code",
   "execution_count": 14,
   "id": "f9270d33",
   "metadata": {},
   "outputs": [],
   "source": [
    "def limpiar_municipio(nombre):\n",
    "    nombre = unicodedata.normalize(\"NFKD\", nombre)\n",
    "    nombre = ''.join(c for c in nombre if not unicodedata.combining(c))\n",
    "    nombre = \" \".join(nombre.split())  \n",
    "    return nombre\n",
    "\n",
    "df[\"MUNICIPIO\"] = df[\"MUNICIPIO\"].apply(limpiar_municipio)"
   ]
  },
  {
   "cell_type": "markdown",
   "id": "43cfa3c0",
   "metadata": {},
   "source": [
    "### **Revisar valores únicos**"
   ]
  },
  {
   "cell_type": "code",
   "execution_count": 15,
   "id": "a4d29179",
   "metadata": {},
   "outputs": [
    {
     "name": "stdout",
     "output_type": "stream",
     "text": [
      "Cantidad de municipios distintos: 343\n",
      "['ACATENANGO' 'AGUA BLANCA' 'AGUACATAN' 'ALOTENANGO' 'AMATITLAN'\n",
      " 'ANTIGUA GUATEMALA' 'ASUNCION MITA' 'ATESCATEMPA' 'AYUTLA' 'BARBERENA'\n",
      " 'CABANAS' 'CABRICAN' 'CAJOLA' 'CAMOTAN' 'CANILLA' 'CANTEL' 'CASILLAS'\n",
      " 'CATARINA' 'CHAHAL' 'CHAJUL' 'CHAMPERICO' 'CHIANTLA' 'CHICACAO'\n",
      " 'CHICAMAN' 'CHICHE' 'CHIMALTENANGO' 'CHINAUTLA' 'CHINIQUE' 'CHIQUIMULA'\n",
      " 'CHIQUIMULILLA']\n"
     ]
    }
   ],
   "source": [
    "print(\"Cantidad de municipios distintos:\", df[\"MUNICIPIO\"].nunique())\n",
    "print(df[\"MUNICIPIO\"].sort_values().unique()[:30])  \n"
   ]
  },
  {
   "cell_type": "markdown",
   "id": "6aa26816",
   "metadata": {},
   "source": [
    "### **Ver municipios repetidos escritos diferente dentro de un mismo departamento**"
   ]
  },
  {
   "cell_type": "code",
   "execution_count": 16,
   "id": "3188f615",
   "metadata": {},
   "outputs": [
    {
     "name": "stdout",
     "output_type": "stream",
     "text": [
      "Total de combinaciones DEPARTAMENTO-MUNICIPIO: 348\n"
     ]
    }
   ],
   "source": [
    "# Agrupar por DEPARTAMENTO y MUNICIPIO\n",
    "municipios_por_depto = df.groupby([\"DEPARTAMENTO\", \"MUNICIPIO\"]).size().reset_index(name=\"conteo\")\n",
    "\n",
    "# Ver si hay municipios con nombres similares dentro del mismo departamento\n",
    "print(\"Total de combinaciones DEPARTAMENTO-MUNICIPIO:\", len(municipios_por_depto))\n"
   ]
  },
  {
   "cell_type": "markdown",
   "id": "e1c1f67f",
   "metadata": {},
   "source": [
    "Se normalizaron los municipios, eliminando tildes y espacios innecesarios. Esto permitió identificar errores ortográficos comunes y garantizar consistencia entre registros. En un análisis más avanzado, se puede validar que cada municipio pertenezca al departamento correcto con una tabla oficial de referencia."
   ]
  },
  {
   "cell_type": "markdown",
   "id": "4a518016",
   "metadata": {},
   "source": [
    "## **ESTABLECIMIENTO**"
   ]
  },
  {
   "cell_type": "markdown",
   "id": "3d3b2bd7",
   "metadata": {},
   "source": [
    "### **Crear una columna auxiliar ESTABLECIMIENTO_LIMPIO**\n",
    "\n",
    "Su objetivo es estandarizar nombres para facilitar detección de duplicados y variantes de una misma institución, colegio, entre otros."
   ]
  },
  {
   "cell_type": "code",
   "execution_count": 17,
   "id": "76e455d7",
   "metadata": {},
   "outputs": [
    {
     "name": "stdout",
     "output_type": "stream",
     "text": [
      "                                        ESTABLECIMIENTO  \\\n",
      "5061                COLEGIO EVANGÉLICO MIXTO \"SINAI\" II   \n",
      "3432  INSTITUTO NORMAL MIXTO POR COOPERATIVA ADSCRIT...   \n",
      "2783  INSTITUTO TÉCNICO VOCACIONAL PRIVADO AMATITLANECO   \n",
      "6208      INSTITUTO PRIVADO MIXTO \"JOSE ERNESTO MONZON\"   \n",
      "1131                     PROGRAMA MODALIDADES FLEXIBLES   \n",
      "5671                             INSTITUTO \"SAN CARLOS\"   \n",
      "6060  CENTRO EDUCATIVO DE FORMACIÓN PROFESIONAL -CEF...   \n",
      "1688  CENTRO MUNICIPAL DE EDUCACIÓN EXTRAESCOLAR -CEEX-   \n",
      "2842             CENTRO EDUCATIVO JOSE MILLA Y VIDAURRE   \n",
      "331            CENTRO EDUCATIVO TECNOLÓGICO EL NAZARENO   \n",
      "\n",
      "                                 ESTABLECIMIENTO_LIMPIO  \n",
      "5061                  COLEGIO EVANGÉLICO MIXTO SINAI II  \n",
      "3432  INSTITUTO NORMAL MIXTO POR COOPERATIVA ADSCRIT...  \n",
      "2783  INSTITUTO TÉCNICO VOCACIONAL PRIVADO AMATITLANECO  \n",
      "6208        INSTITUTO PRIVADO MIXTO JOSE ERNESTO MONZON  \n",
      "1131                     PROGRAMA MODALIDADES FLEXIBLES  \n",
      "5671                               INSTITUTO SAN CARLOS  \n",
      "6060  CENTRO EDUCATIVO DE FORMACIÓN PROFESIONAL -CEF...  \n",
      "1688  CENTRO MUNICIPAL DE EDUCACIÓN EXTRAESCOLAR -CEEX-  \n",
      "2842             CENTRO EDUCATIVO JOSE MILLA Y VIDAURRE  \n",
      "331            CENTRO EDUCATIVO TECNOLÓGICO EL NAZARENO  \n"
     ]
    }
   ],
   "source": [
    "\n",
    "def limpiar_nombre_establecimiento(nombre):\n",
    "    nombre = str(nombre).strip().upper()\n",
    "    \n",
    "    # Eliminar todas las comillas dobles y simples en cualquier parte\n",
    "    nombre = nombre.replace('\"', '').replace(\"'\", \"\")\n",
    "    \n",
    "    # Quitar espacios múltiples\n",
    "    nombre = \" \".join(nombre.split())\n",
    "    \n",
    "    return nombre\n",
    "\n",
    "df[\"ESTABLECIMIENTO_LIMPIO\"] = df[\"ESTABLECIMIENTO\"].apply(limpiar_nombre_establecimiento)\n",
    "\n",
    "print(df[[\"ESTABLECIMIENTO\", \"ESTABLECIMIENTO_LIMPIO\"]].drop_duplicates().sample(10))"
   ]
  },
  {
   "cell_type": "markdown",
   "id": "a3428418",
   "metadata": {},
   "source": [
    "### **Visualizar algunos ejemplos de variaciones en nombres de establecimientos para su estandarización**"
   ]
  },
  {
   "cell_type": "code",
   "execution_count": 18,
   "id": "1d771cb0",
   "metadata": {},
   "outputs": [],
   "source": [
    "#%pip install rapid fuzz"
   ]
  },
  {
   "cell_type": "code",
   "execution_count": 19,
   "id": "e9d46026",
   "metadata": {},
   "outputs": [
    {
     "name": "stdout",
     "output_type": "stream",
     "text": [
      "\n",
      "Grupo 1:\n",
      "→ Base: ESCUELA NACIONAL DE CIENCIAS COMERCIALES\n",
      "   - ESCUELA NACIONAL DE CIENCIAS COMERCIALES NO.2\n",
      "   - ESCUELA NACIONAL DE CIENCIAS COMERCIALES NO.5\n",
      "   - ESCUELA NACIONAL DE CIENCIAS COMERCIALES NO. 3\n",
      "   - ESCUELA NACIONAL CENTRAL DE CIENCIAS COMERCIALES\n",
      "   - ESCUELA NACIONAL DE CIENCIAS COMERCIALES AMERICA\n",
      "   - ESCUELA DE CIENCIAS COMERCIALES NOCTURNA\n",
      "\n",
      "Grupo 2:\n",
      "→ Base: INSTITUTO NACIONAL DE EDUCACION DIVERSIFICADA\n",
      "   - INSTITUTO NACIONAL DE EDUCACIÓN DIVERSIFICADA\n",
      "   - INSTITUTO NACIONAL DE EDUCACIÒN DIVERSIFICADA\n",
      "   - INSTITUTO NACIONAL DE EDUCACION DIVERSIFICADO\n",
      "   - INSTITUTO NACIONAL DE EDUCACIÓN DIVERSIFICADO\n",
      "   - INSTITUTO NACIONAL DE EDUCACION DIVERSIFICADA INED\n",
      "   - INSTITUTO NACIONAL DE EDUCACION DIVERSIFICADA, INED\n",
      "   - INSTITUTO NACIONAL DE EDUCACION DIVERSIFICADA ITZAPA\n",
      "   - INSTITUTO NACIONAL DE EDUCACION DIVERSIFICADA -INED-\n",
      "   - INSTITUTO NACIONAL DE EDUCACION DIVERSIFICADA PUENTE\n",
      "\n",
      "Grupo 3:\n",
      "→ Base: COLEGIO CRISTIANO BILINGUE VERBO\n",
      "   - COLEGIO CRISTIANO BILINGÜE VERBO\n",
      "\n",
      "Grupo 4:\n",
      "→ Base: INSTITUTO MIXTO DE EDUCACION BILINGUE INTERCULTURAL -IMEBI-\n",
      "   - INSTITUTO MIXTO DE EDUCACIÓN BILINGÜE INTERCULTURAL -IMEBI-\n",
      "\n",
      "Grupo 5:\n",
      "→ Base: COLEGIO PRIVADO MIXTO TECNOLÓGICO EN INFORMÁTICA\n",
      "   - COLEGIO PRIVADO MIXTO TECNOLÓGICO EN INFORMATICA\n",
      "   - COLEGIO PRIVADO MIXTO TECNOLOGICO EN INFORMATICA\n"
     ]
    }
   ],
   "source": [
    "from rapidfuzz import process, fuzz\n",
    "\n",
    "# Obtener todos los nombres únicos\n",
    "nombres_unicos = df[\"ESTABLECIMIENTO_LIMPIO\"].dropna().unique()\n",
    "\n",
    "# Diccionario para guardar grupos similares\n",
    "grupos_similares = {}\n",
    "\n",
    "# Umbral de similitud \n",
    "umbral = 90\n",
    "\n",
    "# Recorrer nombres y buscar similares\n",
    "for nombre in nombres_unicos:\n",
    "    similares = process.extract(nombre, nombres_unicos, scorer=fuzz.token_sort_ratio, limit=10)\n",
    "    # Filtrar solo los que superan el umbral y no sean el mismo nombre exacto\n",
    "    similares = [s for s, score, _ in similares if s != nombre and score >= umbral]\n",
    "    if similares:\n",
    "        grupos_similares[nombre] = similares\n",
    "\n",
    "# Mostrar ejemplos de grupos similares encontrados\n",
    "for i, (base, grupo) in enumerate(grupos_similares.items()):\n",
    "    print(f\"\\nGrupo {i+1}:\")\n",
    "    print(f\"→ Base: {base}\")\n",
    "    for g in grupo:\n",
    "        print(f\"   - {g}\")\n",
    "    if i == 4:  # Mostrar solo primeros 5 grupos\n",
    "        break\n",
    "\n"
   ]
  },
  {
   "cell_type": "markdown",
   "id": "29d57cc9",
   "metadata": {},
   "source": [
    "Como se puede observar, si hay algunos nombres de establecimientos que están escritos de diferente manera. Es decir, hay variaciones en cuanto a tíldes, espacios, uso de guiones, entre otros caracteres para representar a un mismo establecimiento, independientemente de si se encuentra en algún otro departamento o municipio. Por ende, se busca generar un csv para poder observar de cerca todas esas variaciones y estandarizar el nombre de los establecimientos."
   ]
  },
  {
   "cell_type": "code",
   "execution_count": 20,
   "id": "1b8e34b2",
   "metadata": {},
   "outputs": [
    {
     "name": "stdout",
     "output_type": "stream",
     "text": [
      "Archivo exportado como 'establecimientos_similares.csv'\n"
     ]
    }
   ],
   "source": [
    "# Convertir los grupos a lista de pares\n",
    "pares = []\n",
    "for base, similares in grupos_similares.items():\n",
    "    for s in similares:\n",
    "        pares.append((base, s))\n",
    "\n",
    "df_similares = pd.DataFrame(pares, columns=[\"Nombre_Base\", \"Nombre_Similar\"])\n",
    "df_similares.to_csv(\"establecimientos_similares.csv\", index=False)\n",
    "print(\"Archivo exportado como 'establecimientos_similares.csv'\")\n"
   ]
  },
  {
   "cell_type": "code",
   "execution_count": 21,
   "id": "e7e85609",
   "metadata": {},
   "outputs": [],
   "source": [
    "\n",
    "def estandarizar_establecimiento(nombre):\n",
    "    \n",
    "    # Reemplazar comillas, comas, guiones innecesarios\n",
    "    nombre = nombre.replace('\"', '').replace(\"'\", '')\n",
    "    nombre = nombre.replace(',', '').replace('–', '').replace('—', '').replace('-', ' ')\n",
    "    \n",
    "    # Corregir NO. separados: NO. 2 -> NO.2\n",
    "    nombre = re.sub(r\"NO\\.\\s+(\\d+)\", r\"NO.\\1\", nombre)\n",
    "    \n",
    "    # Eliminar espacios extra\n",
    "    nombre = re.sub(r'\\s+', ' ', nombre)\n",
    "\n",
    "    # Normalizar caracteres con tilde, diéresis, etc.\n",
    "    nombre = unicodedata.normalize('NFKD', nombre)\n",
    "    nombre = ''.join(c for c in nombre if not unicodedata.combining(c))\n",
    "\n",
    "    return nombre\n",
    "\n",
    "df[\"ESTABLECIMIENTO_LIMPIO\"] = df[\"ESTABLECIMIENTO\"].apply(estandarizar_establecimiento)"
   ]
  },
  {
   "cell_type": "markdown",
   "id": "2178f0a5",
   "metadata": {},
   "source": [
    "Con los patrones observados, se realizó lo siguiente:\n",
    "- Eliminar espacios extra entre palabras y ó números\n",
    "- Eliminar acentuación y diéresis para estandarizar nombres\n",
    "- Eliminar caractéres como \", ', -, entre otros"
   ]
  },
  {
   "cell_type": "markdown",
   "id": "e658ec2d",
   "metadata": {},
   "source": [
    "## **DIRECCIÓN**"
   ]
  },
  {
   "cell_type": "markdown",
   "id": "412b999d",
   "metadata": {},
   "source": [
    "### **Limpieza del campo y estandarización de abreviaturas**"
   ]
  },
  {
   "cell_type": "code",
   "execution_count": 22,
   "id": "2188a286",
   "metadata": {},
   "outputs": [],
   "source": [
    "def limpiar_direccion(texto):\n",
    "    if pd.isnull(texto):\n",
    "        return \"SIN INFORMACION\"\n",
    "    \n",
    "    texto = str(texto).strip().upper()\n",
    "    \n",
    "    texto = unicodedata.normalize('NFKD', texto)\n",
    "    texto = ''.join(c for c in texto if not unicodedata.combining(c))\n",
    "    \n",
    "    texto = texto.replace('\"', '').replace(\"'\", '').replace('–', '').replace('—', '')\n",
    "    texto = texto.replace(';', '').replace('.', '').replace(',', '')\n",
    "\n",
    "    texto = re.sub(r'\\bKM\\.?(\\d)', r'KM \\1', texto)\n",
    "\n",
    "    # Reemplazar abreviaturas comunes\n",
    "    texto = re.sub(r'\\bAV\\b|\\bAVENIDA\\b|\\bAVE\\b', 'AVENIDA', texto)\n",
    "    texto = re.sub(r'\\bZ\\b', 'ZONA', texto)\n",
    "    texto = re.sub(r'\\bCOL\\b', 'COLONIA', texto)\n",
    "    texto = re.sub(r'\\s+', ' ', texto)\n",
    "    \n",
    "    texto = re.sub(r'\\s+', ' ', texto)\n",
    "\n",
    "    return texto\n",
    "\n",
    "df[\"DIRECCION_LIMPIA\"] = df[\"DIRECCION\"].apply(limpiar_direccion)\n"
   ]
  },
  {
   "cell_type": "markdown",
   "id": "0f19973e",
   "metadata": {},
   "source": [
    "La columna `DIRECCION` representa una de las variables más susceptibles a inconsistencias en el formato, redacción y uso de caracteres especiales, ya que suele ser ingresada manualmente por distintas fuentes. Para garantizar la coherencia y la posibilidad de identificar direcciones duplicadas o similares, se aplicó un proceso de limpieza y estandarización conservador pero completo, implementado en una nueva columna llamada DIRECCION_LIMPIA."
   ]
  },
  {
   "cell_type": "markdown",
   "id": "4c5c6a3d",
   "metadata": {},
   "source": [
    "## **TELEFONO**"
   ]
  },
  {
   "cell_type": "markdown",
   "id": "5ec6fe47",
   "metadata": {},
   "source": [
    "### **Realizar una limpieza básica de los números telefónicos, tratar valores nulos y estandarizarlos**"
   ]
  },
  {
   "cell_type": "code",
   "execution_count": 23,
   "id": "53590264",
   "metadata": {},
   "outputs": [],
   "source": [
    "def estandarizar_telefono(telefono):\n",
    "    if pd.isna(telefono):\n",
    "        return \"NO DISPONIBLE\"\n",
    "    \n",
    "    # Convertir a texto y limpiar espacios\n",
    "    telefono = str(telefono).strip().upper()\n",
    "    \n",
    "    # Si contiene múltiples teléfonos separados por / o ,\n",
    "    telefono = re.split(r\"[\\/,]\", telefono)[0]\n",
    "    \n",
    "    # Eliminar todo lo que no sea dígito\n",
    "    solo_numeros = re.sub(r\"[^\\d]\", \"\", telefono)\n",
    "    \n",
    "    if not solo_numeros:\n",
    "        return \"NO DISPONIBLE\"\n",
    "    \n",
    "    if len(solo_numeros) == 8:\n",
    "        return solo_numeros\n",
    "    \n",
    "    if len(solo_numeros) < 8:\n",
    "        return \"FORMATO INCORRECTO: \" + telefono\n",
    "    \n",
    "    if len(solo_numeros) > 8:\n",
    "        return solo_numeros[-8:]  # Tomar los últimos 8\n",
    "    \n",
    "    return solo_numeros\n",
    "\n",
    "df[\"TELEFONO_LIMPIO\"] = df[\"TELEFONO\"].apply(estandarizar_telefono)\n",
    "\n"
   ]
  },
  {
   "cell_type": "markdown",
   "id": "9b61e649",
   "metadata": {},
   "source": [
    "Se estandarizó el campo `TELEFONO` eliminando todos los caracteres no numéricos y normalizando a un formato de 8 dígitos. \n",
    "En caso de múltiples teléfonos, se tomó el primero. Si el número tenía más de 8 dígitos, se conservaron los últimos 8. \n",
    "Los campos vacíos o inválidos fueron marcados como `\"NO DISPONIBLE\"` o `\"FORMATO INCORRECTO\"`."
   ]
  },
  {
   "cell_type": "markdown",
   "id": "d51bdb16",
   "metadata": {},
   "source": [
    "## **SUPERVISOR**"
   ]
  },
  {
   "cell_type": "markdown",
   "id": "0832b770",
   "metadata": {},
   "source": [
    "### **Limpieza de espacios y acentuaciones en el nombre de los supervisores, además de una validación de posibles valores nulos**"
   ]
  },
  {
   "cell_type": "code",
   "execution_count": 24,
   "id": "d58e0085",
   "metadata": {},
   "outputs": [],
   "source": [
    "def limpiar_supervisor(nombre):\n",
    "    if pd.isnull(nombre):\n",
    "        return \"NO REGISTRADO\"\n",
    "    \n",
    "    \n",
    "    # Eliminar tildes y caracteres especiales\n",
    "    nombre = unicodedata.normalize('NFKD', nombre)\n",
    "    nombre = ''.join(c for c in nombre if not unicodedata.combining(c))\n",
    "    \n",
    "    nombre = re.sub(r'\\s+', ' ', nombre)\n",
    "\n",
    "    return nombre\n",
    "\n",
    "df[\"SUPERVISOR_LIMPIO\"] = df[\"SUPERVISOR\"].apply(limpiar_supervisor)\n"
   ]
  },
  {
   "cell_type": "markdown",
   "id": "e1efc0e9",
   "metadata": {},
   "source": [
    "### **Obtener nombres únicos de cada supervisor**"
   ]
  },
  {
   "cell_type": "code",
   "execution_count": 25,
   "id": "c19711fe",
   "metadata": {},
   "outputs": [
    {
     "name": "stdout",
     "output_type": "stream",
     "text": [
      "Supervisores distintos: 590\n"
     ]
    },
    {
     "data": {
      "text/plain": [
       "SUPERVISOR_LIMPIO\n",
       "MIGUEL ANGEL ARMAS ROCHA                          190\n",
       "CARLOS HUMBERTO GONZALEZ DE LEON                  171\n",
       "JUAN ENRIQUE MARTINEZ SOLANO                      106\n",
       "REMY ARTURO SINAY GUDIEL                           94\n",
       "ELSA YADIRA MARTINEZ PEREZ                         84\n",
       "MILTON ALONSO ALVAREZ FUENTES                      81\n",
       "IDALIA DEL ROSARIO LOPEZ SANDOVAL DE PAIZ          81\n",
       "ELENA ELIZABETH SUCHITE GARNICA DE QUINTANILLA     78\n",
       "LUDVIN RICARDO URRUTIA LORENTI                     77\n",
       "JUAN FRANCISCO GODOY DAVILA                        74\n",
       "Name: count, dtype: int64"
      ]
     },
     "execution_count": 25,
     "metadata": {},
     "output_type": "execute_result"
    }
   ],
   "source": [
    "print(\"Supervisores distintos:\", df[\"SUPERVISOR_LIMPIO\"].nunique())\n",
    "df[\"SUPERVISOR_LIMPIO\"].value_counts().head(10)\n"
   ]
  },
  {
   "cell_type": "markdown",
   "id": "a67f577a",
   "metadata": {},
   "source": [
    "### **Aplicar Fuzzy matching para detectar nombres parfecidos y descartar errores tipográficos**"
   ]
  },
  {
   "cell_type": "code",
   "execution_count": 26,
   "id": "56b58386",
   "metadata": {},
   "outputs": [],
   "source": [
    "\n",
    "nombres_unicos = df[\"SUPERVISOR_LIMPIO\"].dropna().unique()\n",
    "\n",
    "grupos_similares = []\n",
    "\n",
    "for nombre in nombres_unicos:\n",
    "    similares = process.extract(nombre, nombres_unicos, scorer=fuzz.token_sort_ratio, limit=10)\n",
    "    for s, score, _ in similares:\n",
    "        if s != nombre and score >= 90:\n",
    "            grupos_similares.append((nombre, s, score))\n",
    "\n",
    "df_fuzzy_supervisores = pd.DataFrame(grupos_similares, columns=[\"SUPERVISOR_BASE\", \"SUPERVISOR_SIMILAR\", \"SIMILITUD\"])\n",
    "df_fuzzy_supervisores = df_fuzzy_supervisores.drop_duplicates(subset=[\"SUPERVISOR_BASE\", \"SUPERVISOR_SIMILAR\"])\n"
   ]
  },
  {
   "cell_type": "code",
   "execution_count": 27,
   "id": "14559afe",
   "metadata": {},
   "outputs": [
    {
     "name": "stdout",
     "output_type": "stream",
     "text": [
      "Archivo exportado como 'supervisores_similares.csv'\n"
     ]
    }
   ],
   "source": [
    "df_fuzzy_supervisores.to_csv(\"supervisores_similares.csv\", index=False)\n",
    "print(\"Archivo exportado como 'supervisores_similares.csv'\")\n"
   ]
  },
  {
   "cell_type": "code",
   "execution_count": 28,
   "id": "801f603a",
   "metadata": {},
   "outputs": [],
   "source": [
    "reemplazos_supervisor = {\n",
    "    \"ROERICO DE LA CRUZ ICAL\": \"RODERICO DE LA CRUZ ICAL\"\n",
    "}\n",
    "\n",
    "df[\"SUPERVISOR_LIMPIO\"] = df[\"SUPERVISOR_LIMPIO\"].replace(reemplazos_supervisor)\n"
   ]
  },
  {
   "cell_type": "markdown",
   "id": "43c07578",
   "metadata": {},
   "source": [
    "Se creó una nueva columna `SUPERVISOR_LIMPIO` para estandarizar los nombres. Se eliminaron tildes, se convirtió a mayúsculas, y se eliminaron espacios múltiples. Posteriormente se aplicó fuzzy matching para detectar nombres similares escritos de forma distinta \n",
    "(por ejemplo: \"MARÍA LÓPEZ\" vs \"MARIA LOPEZ\"). Se identificó el nombre de uno de los supervisores con errores tipográficos mediante fuzzy matching. Por ejemplo, ROERICO DE LA CRUZ ICAL tenía una similitud del 97.87% con RODERICO DE LA CRUZ ICAL. Por tanto, se estandarizó utilizando un diccionario de reemplazo."
   ]
  },
  {
   "cell_type": "code",
   "execution_count": 29,
   "id": "a41779f6",
   "metadata": {},
   "outputs": [
    {
     "data": {
      "text/html": [
       "<div>\n",
       "<style scoped>\n",
       "    .dataframe tbody tr th:only-of-type {\n",
       "        vertical-align: middle;\n",
       "    }\n",
       "\n",
       "    .dataframe tbody tr th {\n",
       "        vertical-align: top;\n",
       "    }\n",
       "\n",
       "    .dataframe thead th {\n",
       "        text-align: right;\n",
       "    }\n",
       "</style>\n",
       "<table border=\"1\" class=\"dataframe\">\n",
       "  <thead>\n",
       "    <tr style=\"text-align: right;\">\n",
       "      <th></th>\n",
       "      <th>CODIGO</th>\n",
       "      <th>DISTRITO</th>\n",
       "      <th>DEPARTAMENTO</th>\n",
       "      <th>MUNICIPIO</th>\n",
       "      <th>ESTABLECIMIENTO</th>\n",
       "      <th>DIRECCION</th>\n",
       "      <th>TELEFONO</th>\n",
       "      <th>SUPERVISOR</th>\n",
       "      <th>DIRECTOR</th>\n",
       "      <th>NIVEL</th>\n",
       "      <th>...</th>\n",
       "      <th>AREA</th>\n",
       "      <th>STATUS</th>\n",
       "      <th>MODALIDAD</th>\n",
       "      <th>JORNADA</th>\n",
       "      <th>PLAN</th>\n",
       "      <th>DEPARTAMENTAL</th>\n",
       "      <th>ESTABLECIMIENTO_LIMPIO</th>\n",
       "      <th>DIRECCION_LIMPIA</th>\n",
       "      <th>TELEFONO_LIMPIO</th>\n",
       "      <th>SUPERVISOR_LIMPIO</th>\n",
       "    </tr>\n",
       "  </thead>\n",
       "  <tbody>\n",
       "    <tr>\n",
       "      <th>0</th>\n",
       "      <td>16-01-0138-46</td>\n",
       "      <td>16-031</td>\n",
       "      <td>ALTA VERAPAZ</td>\n",
       "      <td>COBAN</td>\n",
       "      <td>COLEGIO  COBAN</td>\n",
       "      <td>KM.2 SALIDA A SAN JUAN CHAMELCO ZONA 8</td>\n",
       "      <td>77945104</td>\n",
       "      <td>PATRICIO NAJARRO ASENCIO</td>\n",
       "      <td>GUSTAVO ADOLFO SIERRA POP</td>\n",
       "      <td>DIVERSIFICADO</td>\n",
       "      <td>...</td>\n",
       "      <td>URBANA</td>\n",
       "      <td>ABIERTA</td>\n",
       "      <td>MONOLINGUE</td>\n",
       "      <td>MATUTINA</td>\n",
       "      <td>DIARIO(REGULAR)</td>\n",
       "      <td>ALTA VERAPAZ</td>\n",
       "      <td>COLEGIO COBAN</td>\n",
       "      <td>KM 2 SALIDA A SAN JUAN CHAMELCO ZONA 8</td>\n",
       "      <td>77945104</td>\n",
       "      <td>PATRICIO NAJARRO ASENCIO</td>\n",
       "    </tr>\n",
       "    <tr>\n",
       "      <th>1</th>\n",
       "      <td>16-01-0139-46</td>\n",
       "      <td>16-031</td>\n",
       "      <td>ALTA VERAPAZ</td>\n",
       "      <td>COBAN</td>\n",
       "      <td>COLEGIO PARTICULAR MIXTO  VERAPAZ</td>\n",
       "      <td>KM 209.5 ENTRADA A LA CIUDAD</td>\n",
       "      <td>77367402</td>\n",
       "      <td>PATRICIO NAJARRO ASENCIO</td>\n",
       "      <td>GILMA DOLORES GUAY PAZ DE LEAL</td>\n",
       "      <td>DIVERSIFICADO</td>\n",
       "      <td>...</td>\n",
       "      <td>URBANA</td>\n",
       "      <td>ABIERTA</td>\n",
       "      <td>MONOLINGUE</td>\n",
       "      <td>MATUTINA</td>\n",
       "      <td>DIARIO(REGULAR)</td>\n",
       "      <td>ALTA VERAPAZ</td>\n",
       "      <td>COLEGIO PARTICULAR MIXTO VERAPAZ</td>\n",
       "      <td>KM 2095 ENTRADA A LA CIUDAD</td>\n",
       "      <td>77367402</td>\n",
       "      <td>PATRICIO NAJARRO ASENCIO</td>\n",
       "    </tr>\n",
       "    <tr>\n",
       "      <th>2</th>\n",
       "      <td>16-01-0140-46</td>\n",
       "      <td>16-031</td>\n",
       "      <td>ALTA VERAPAZ</td>\n",
       "      <td>COBAN</td>\n",
       "      <td>COLEGIO \"LA INMACULADA\"</td>\n",
       "      <td>7A. AVENIDA 11-109 ZONA 6</td>\n",
       "      <td>78232301</td>\n",
       "      <td>PATRICIO NAJARRO ASENCIO</td>\n",
       "      <td>VIRGINIA  SOLANO SERRANO</td>\n",
       "      <td>DIVERSIFICADO</td>\n",
       "      <td>...</td>\n",
       "      <td>URBANA</td>\n",
       "      <td>ABIERTA</td>\n",
       "      <td>MONOLINGUE</td>\n",
       "      <td>MATUTINA</td>\n",
       "      <td>DIARIO(REGULAR)</td>\n",
       "      <td>ALTA VERAPAZ</td>\n",
       "      <td>COLEGIO LA INMACULADA</td>\n",
       "      <td>7A AVENIDA 11-109 ZONA 6</td>\n",
       "      <td>78232301</td>\n",
       "      <td>PATRICIO NAJARRO ASENCIO</td>\n",
       "    </tr>\n",
       "    <tr>\n",
       "      <th>3</th>\n",
       "      <td>16-01-0141-46</td>\n",
       "      <td>16-005</td>\n",
       "      <td>ALTA VERAPAZ</td>\n",
       "      <td>COBAN</td>\n",
       "      <td>ESCUELA NACIONAL DE CIENCIAS COMERCIALES</td>\n",
       "      <td>2A CALLE 11-10 ZONA 2</td>\n",
       "      <td>79514215</td>\n",
       "      <td>NORA LILIANA FIGUEROA HERNÁNDEZ</td>\n",
       "      <td>HÉCTOR ROLANDO CHUN POOU</td>\n",
       "      <td>DIVERSIFICADO</td>\n",
       "      <td>...</td>\n",
       "      <td>URBANA</td>\n",
       "      <td>ABIERTA</td>\n",
       "      <td>MONOLINGUE</td>\n",
       "      <td>MATUTINA</td>\n",
       "      <td>DIARIO(REGULAR)</td>\n",
       "      <td>ALTA VERAPAZ</td>\n",
       "      <td>ESCUELA NACIONAL DE CIENCIAS COMERCIALES</td>\n",
       "      <td>2A CALLE 11-10 ZONA 2</td>\n",
       "      <td>79514215</td>\n",
       "      <td>NORA LILIANA FIGUEROA HERNANDEZ</td>\n",
       "    </tr>\n",
       "    <tr>\n",
       "      <th>4</th>\n",
       "      <td>16-01-0142-46</td>\n",
       "      <td>16-005</td>\n",
       "      <td>ALTA VERAPAZ</td>\n",
       "      <td>COBAN</td>\n",
       "      <td>INSTITUTO NORMAL MIXTO DEL NORTE 'EMILIO ROSAL...</td>\n",
       "      <td>3A AVE 6-23 ZONA 11</td>\n",
       "      <td>79521468</td>\n",
       "      <td>NORA LILIANA FIGUEROA HERNÁNDEZ</td>\n",
       "      <td>VICTOR HUGO DOMÍNGUEZ REYES</td>\n",
       "      <td>DIVERSIFICADO</td>\n",
       "      <td>...</td>\n",
       "      <td>URBANA</td>\n",
       "      <td>ABIERTA</td>\n",
       "      <td>BILINGUE</td>\n",
       "      <td>VESPERTINA</td>\n",
       "      <td>DIARIO(REGULAR)</td>\n",
       "      <td>ALTA VERAPAZ</td>\n",
       "      <td>INSTITUTO NORMAL MIXTO DEL NORTE EMILIO ROSALE...</td>\n",
       "      <td>3A AVENIDA 6-23 ZONA 11</td>\n",
       "      <td>79521468</td>\n",
       "      <td>NORA LILIANA FIGUEROA HERNANDEZ</td>\n",
       "    </tr>\n",
       "  </tbody>\n",
       "</table>\n",
       "<p>5 rows × 21 columns</p>\n",
       "</div>"
      ],
      "text/plain": [
       "          CODIGO DISTRITO  DEPARTAMENTO MUNICIPIO  \\\n",
       "0  16-01-0138-46   16-031  ALTA VERAPAZ     COBAN   \n",
       "1  16-01-0139-46   16-031  ALTA VERAPAZ     COBAN   \n",
       "2  16-01-0140-46   16-031  ALTA VERAPAZ     COBAN   \n",
       "3  16-01-0141-46   16-005  ALTA VERAPAZ     COBAN   \n",
       "4  16-01-0142-46   16-005  ALTA VERAPAZ     COBAN   \n",
       "\n",
       "                                     ESTABLECIMIENTO  \\\n",
       "0                                     COLEGIO  COBAN   \n",
       "1                  COLEGIO PARTICULAR MIXTO  VERAPAZ   \n",
       "2                            COLEGIO \"LA INMACULADA\"   \n",
       "3           ESCUELA NACIONAL DE CIENCIAS COMERCIALES   \n",
       "4  INSTITUTO NORMAL MIXTO DEL NORTE 'EMILIO ROSAL...   \n",
       "\n",
       "                                DIRECCION  TELEFONO  \\\n",
       "0  KM.2 SALIDA A SAN JUAN CHAMELCO ZONA 8  77945104   \n",
       "1            KM 209.5 ENTRADA A LA CIUDAD  77367402   \n",
       "2               7A. AVENIDA 11-109 ZONA 6  78232301   \n",
       "3                   2A CALLE 11-10 ZONA 2  79514215   \n",
       "4                     3A AVE 6-23 ZONA 11  79521468   \n",
       "\n",
       "                        SUPERVISOR                        DIRECTOR  \\\n",
       "0         PATRICIO NAJARRO ASENCIO       GUSTAVO ADOLFO SIERRA POP   \n",
       "1         PATRICIO NAJARRO ASENCIO  GILMA DOLORES GUAY PAZ DE LEAL   \n",
       "2         PATRICIO NAJARRO ASENCIO        VIRGINIA  SOLANO SERRANO   \n",
       "3  NORA LILIANA FIGUEROA HERNÁNDEZ        HÉCTOR ROLANDO CHUN POOU   \n",
       "4  NORA LILIANA FIGUEROA HERNÁNDEZ     VICTOR HUGO DOMÍNGUEZ REYES   \n",
       "\n",
       "           NIVEL  ...    AREA   STATUS   MODALIDAD     JORNADA  \\\n",
       "0  DIVERSIFICADO  ...  URBANA  ABIERTA  MONOLINGUE    MATUTINA   \n",
       "1  DIVERSIFICADO  ...  URBANA  ABIERTA  MONOLINGUE    MATUTINA   \n",
       "2  DIVERSIFICADO  ...  URBANA  ABIERTA  MONOLINGUE    MATUTINA   \n",
       "3  DIVERSIFICADO  ...  URBANA  ABIERTA  MONOLINGUE    MATUTINA   \n",
       "4  DIVERSIFICADO  ...  URBANA  ABIERTA    BILINGUE  VESPERTINA   \n",
       "\n",
       "              PLAN DEPARTAMENTAL  \\\n",
       "0  DIARIO(REGULAR)  ALTA VERAPAZ   \n",
       "1  DIARIO(REGULAR)  ALTA VERAPAZ   \n",
       "2  DIARIO(REGULAR)  ALTA VERAPAZ   \n",
       "3  DIARIO(REGULAR)  ALTA VERAPAZ   \n",
       "4  DIARIO(REGULAR)  ALTA VERAPAZ   \n",
       "\n",
       "                              ESTABLECIMIENTO_LIMPIO  \\\n",
       "0                                      COLEGIO COBAN   \n",
       "1                   COLEGIO PARTICULAR MIXTO VERAPAZ   \n",
       "2                              COLEGIO LA INMACULADA   \n",
       "3           ESCUELA NACIONAL DE CIENCIAS COMERCIALES   \n",
       "4  INSTITUTO NORMAL MIXTO DEL NORTE EMILIO ROSALE...   \n",
       "\n",
       "                         DIRECCION_LIMPIA TELEFONO_LIMPIO  \\\n",
       "0  KM 2 SALIDA A SAN JUAN CHAMELCO ZONA 8        77945104   \n",
       "1             KM 2095 ENTRADA A LA CIUDAD        77367402   \n",
       "2                7A AVENIDA 11-109 ZONA 6        78232301   \n",
       "3                   2A CALLE 11-10 ZONA 2        79514215   \n",
       "4                 3A AVENIDA 6-23 ZONA 11        79521468   \n",
       "\n",
       "                 SUPERVISOR_LIMPIO  \n",
       "0         PATRICIO NAJARRO ASENCIO  \n",
       "1         PATRICIO NAJARRO ASENCIO  \n",
       "2         PATRICIO NAJARRO ASENCIO  \n",
       "3  NORA LILIANA FIGUEROA HERNANDEZ  \n",
       "4  NORA LILIANA FIGUEROA HERNANDEZ  \n",
       "\n",
       "[5 rows x 21 columns]"
      ]
     },
     "execution_count": 29,
     "metadata": {},
     "output_type": "execute_result"
    }
   ],
   "source": [
    "df.head()"
   ]
  },
  {
   "cell_type": "markdown",
   "id": "a9d9e147",
   "metadata": {},
   "source": [
    "## **DIRECTOR**"
   ]
  }
 ],
 "metadata": {
  "kernelspec": {
   "display_name": "Python 3",
   "language": "python",
   "name": "python3"
  },
  "language_info": {
   "codemirror_mode": {
    "name": "ipython",
    "version": 3
   },
   "file_extension": ".py",
   "mimetype": "text/x-python",
   "name": "python",
   "nbconvert_exporter": "python",
   "pygments_lexer": "ipython3",
   "version": "3.10.11"
  }
 },
 "nbformat": 4,
 "nbformat_minor": 5
}
