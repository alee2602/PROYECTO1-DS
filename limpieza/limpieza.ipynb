{
 "cells": [
  {
   "cell_type": "markdown",
   "id": "08c34b86",
   "metadata": {},
   "source": [
    "# **Proyecto 1 - Data Science**<br>**Preparación y Limpieza de datos**\n",
    "\n",
    "- Paula Barillas - 22764\n",
    "- Derek Arreaga - 22537\n",
    "- Mónica Salvatierra - 22249\n",
    "\n",
    "Link del repositorio: https://github.com/alee2602/PROYECTO1-DS\n"
   ]
  },
  {
   "cell_type": "markdown",
   "id": "82cac785",
   "metadata": {},
   "source": [
    "Este cuaderno es la continuación del [**Análisis de Datos**](../analisis.ipynb) realizado anteriormente sobre el conjunto de datos obtenidos del sitio web del [Mineduc](https://www.mineduc.gob.gt/BUSCAESTABLECIMIENTO_GE/), los cuales describen un grupo de centros de educación en Guatemala.\n",
    "\n",
    "Cada paso esta acompañado de la referencia donde se analizó cierto aspecto del conjunto de datos."
   ]
  },
  {
   "cell_type": "markdown",
   "id": "20252290",
   "metadata": {},
   "source": [
    "## **Preparación de Ambiente**"
   ]
  },
  {
   "cell_type": "markdown",
   "id": "f24e0f5d",
   "metadata": {},
   "source": [
    "**Unión e importación de datos**"
   ]
  },
  {
   "cell_type": "markdown",
   "id": "d4af976f",
   "metadata": {},
   "source": [
    "Se realizó un script [union_datos.py](../scripts/union_datos.py) que une todos los datasets de los distintos departamentos en uno solo, esto para facilitar el manejo de datos."
   ]
  },
  {
   "cell_type": "code",
   "execution_count": 70,
   "id": "7ab2750f",
   "metadata": {},
   "outputs": [
    {
     "name": "stdout",
     "output_type": "stream",
     "text": [
      "CSV combinado guardado en: .\\data_unificada.csv\n"
     ]
    }
   ],
   "source": [
    "import pandas as pd\n",
    "import unicodedata\n",
    "import sys\n",
    "import re\n",
    "import os\n",
    "\n",
    "sys.path.append(os.path.abspath(\"../scripts\"))\n",
    "from union_datos import unir_dataframes\n",
    "\n",
    "# Generar el DataFrame unificado\n",
    "unir_dataframes()\n",
    "\n",
    "# Importar el DataFrame generado\n",
    "df = pd.read_csv(\"data_unificada.csv\")"
   ]
  },
  {
   "cell_type": "markdown",
   "id": "7881c130",
   "metadata": {},
   "source": [
    "**Crear carpeta destino para alojar dataset limpio**"
   ]
  },
  {
   "cell_type": "code",
   "execution_count": 71,
   "id": "8372a453",
   "metadata": {},
   "outputs": [],
   "source": [
    "\n",
    "import os\n",
    "import shutil\n",
    "\n",
    "carpeta_destino = 'output'\n",
    "carpeta_destino_csv = os.path.join(carpeta_destino, 'csv')\n",
    "\n",
    "# Crear la carpeta si no existe\n",
    "if not os.path.exists(carpeta_destino):\n",
    "    os.makedirs(carpeta_destino)\n",
    "    print(f\"Carpeta '{carpeta_destino}' creada.\")"
   ]
  },
  {
   "cell_type": "markdown",
   "id": "29b4089d",
   "metadata": {},
   "source": [
    "**Duplicación de columnas para aplicarles la limpieza**"
   ]
  },
  {
   "cell_type": "code",
   "execution_count": 72,
   "id": "ade59d78",
   "metadata": {},
   "outputs": [],
   "source": [
    "for col in df.columns:\n",
    "    new_name = col + \"_LIMPIO\"\n",
    "    df[new_name] = df[col]"
   ]
  },
  {
   "cell_type": "markdown",
   "id": "93ca7c3c",
   "metadata": {},
   "source": [
    "**Limpiar columnas tipo texto: eliminar espacios extremos y convertir a mayúsculas**"
   ]
  },
  {
   "cell_type": "code",
   "execution_count": 73,
   "id": "10534366",
   "metadata": {},
   "outputs": [],
   "source": [
    "\n",
    "for col in df.select_dtypes(include=\"object\").columns:\n",
    "    if col.endswith(\"_LIMPIO\"):\n",
    "        df[col] = df[col].astype(str).str.strip().str.upper()\n"
   ]
  },
  {
   "cell_type": "markdown",
   "id": "e79ec589",
   "metadata": {},
   "source": [
    "En este paso se estandarizó todo el texto de las columnas tipo cadena. Esto se realizó con el propósito de evitar inconsistencias causadas por diferencias en mayúsculas y minúsculas, y por espacios innecesarios al inicio o final de los campos. Esta limpieza permite mejorar la detección de duplicados, corregir errores ortográficos y facilitar futuras agrupaciones."
   ]
  },
  {
   "cell_type": "markdown",
   "id": "1f43d379",
   "metadata": {},
   "source": [
    "## **Limpieza de columnas**"
   ]
  },
  {
   "cell_type": "markdown",
   "id": "3d7d2fbb",
   "metadata": {},
   "source": [
    "### **DEPARTAMENTO**"
   ]
  },
  {
   "cell_type": "markdown",
   "id": "a1e93e2a",
   "metadata": {},
   "source": [
    "**Eliminar espacios inconsistentes y cualquier acentuación**"
   ]
  },
  {
   "cell_type": "code",
   "execution_count": 74,
   "id": "fdc7522f",
   "metadata": {},
   "outputs": [],
   "source": [
    "def limpiar_departamento(nombre):\n",
    "    nombre = unicodedata.normalize(\"NFKD\", nombre)\n",
    "    nombre = ''.join(c for c in nombre if not unicodedata.combining(c))\n",
    "    return nombre\n",
    "\n",
    "df[\"DEPARTAMENTO_LIMPIO\"] = df[\"DEPARTAMENTO_LIMPIO\"].apply(limpiar_departamento)"
   ]
  },
  {
   "cell_type": "markdown",
   "id": "725c74a2",
   "metadata": {},
   "source": [
    "### **MUNICIPIO**"
   ]
  },
  {
   "cell_type": "markdown",
   "id": "488519bb",
   "metadata": {},
   "source": [
    "**Eliminar espacios inconsistentes y cualquier acentuación**"
   ]
  },
  {
   "cell_type": "code",
   "execution_count": 75,
   "id": "f9270d33",
   "metadata": {},
   "outputs": [],
   "source": [
    "def limpiar_municipio(nombre):\n",
    "    nombre = unicodedata.normalize(\"NFKD\", nombre)\n",
    "    nombre = ''.join(c for c in nombre if not unicodedata.combining(c))\n",
    "    nombre = \" \".join(nombre.split())  \n",
    "    return nombre\n",
    "\n",
    "df[\"MUNICIPIO_LIMPIO\"] = df[\"MUNICIPIO_LIMPIO\"].apply(limpiar_municipio)"
   ]
  },
  {
   "cell_type": "markdown",
   "id": "43cfa3c0",
   "metadata": {},
   "source": [
    "**Modificar los nombres de departamentos necesarios**"
   ]
  },
  {
   "cell_type": "markdown",
   "id": "936688b6",
   "metadata": {},
   "source": [
    "Al comparar los municipios del resultado con los del listado oficial, se encontró que es debido a faltas otrográficas o por ser la versión corta del nombre del municipio:\n",
    "\n",
    "| Valor encontrado | Valor Real |\n",
    "| --- | --- |\n",
    "| PETATAN | SANTIAGO PETATAN |\n",
    "| LA TINTA | SANTA CATALINA LA TINTA |\n",
    "| PACHALUN | PACHALUM |\n",
    "\n",
    "\n",
    "Por lo que se van a reemplazar dichos departamentos por el nombre completo para mantener información oficial valiosa."
   ]
  },
  {
   "cell_type": "code",
   "execution_count": 76,
   "id": "a4d29179",
   "metadata": {},
   "outputs": [],
   "source": [
    "correcciones_municipios = {\n",
    "    \"PETATAN\": \"SANTIAGO PETATAN\",\n",
    "    \"LA TINTA\": \"SANTA CATALINA LA TINTA\",\n",
    "    \"PACHALUN\": \"PACHALUM\"\n",
    "}\n",
    "\n",
    "df[\"MUNICIPIO_LIMPIO\"] = df[\"MUNICIPIO_LIMPIO\"].replace(correcciones_municipios)"
   ]
  },
  {
   "cell_type": "markdown",
   "id": "4a518016",
   "metadata": {},
   "source": [
    "### **ESTABLECIMIENTO**"
   ]
  },
  {
   "cell_type": "markdown",
   "id": "baae1fee",
   "metadata": {},
   "source": [
    "En el [análisis](../analisis.ipynb#Visualizar-algunos-ejemplos-de-variaciones-en-nombres-de-establecimientos-para-su-estandarización) se encontrraron nombres de algunos establecimientos que estaban escritos de manera distinta, por eso se busca estandarizar todos los nombres y así evitar variaciones."
   ]
  },
  {
   "cell_type": "code",
   "execution_count": 77,
   "id": "e7e85609",
   "metadata": {},
   "outputs": [],
   "source": [
    "import re\n",
    "import unicodedata\n",
    "import pandas as pd\n",
    "\n",
    "def estandarizar_establecimiento(nombre):\n",
    "    if pd.isnull(nombre):\n",
    "        return \"NO REGISTRADO\"\n",
    "\n",
    "    # Quitar comillas, comas, guiones (incluso guiones largos Unicode)\n",
    "    nombre = nombre.replace('\"', '').replace(\"'\", '')\n",
    "    nombre = re.sub(r\"[,\\–—-]\", \" \", nombre)\n",
    "\n",
    "    # Corregir NO. separados (NO. 2 → NO.2)\n",
    "    nombre = re.sub(r\"NO\\.\\s+(\\d+)\", r\"NO.\\1\", nombre)\n",
    "\n",
    "    # Eliminar tildes, diéresis y signos diacríticos\n",
    "    nombre = unicodedata.normalize('NFKD', nombre)\n",
    "    nombre = ''.join(c for c in nombre if not unicodedata.combining(c))\n",
    "\n",
    "    # Eliminar tildes inversas, backticks y otros símbolos raros\n",
    "    nombre = re.sub(r\"[`\\u0300-\\u036f]\", \"\", nombre)\n",
    "\n",
    "    # Eliminar múltiples espacios y dejar uno solo\n",
    "    nombre = re.sub(r\"\\s+\", \" \", nombre).strip()\n",
    "\n",
    "    # Convertir a mayúsculas\n",
    "    nombre = nombre.upper()\n",
    "\n",
    "    # Correcciones específicas\n",
    "    nombre = nombre.replace(\"EDCACION\", \"EDUCACION\") \\\n",
    "                   .replace(\"NACIONA \", \"NACIONAL \") \\\n",
    "                   .replace(\"COLEGO \", \"COLEGIO \")\n",
    "\n",
    "    # Eliminar punto final si existe\n",
    "    nombre = re.sub(r\"\\.$\", \"\", nombre)\n",
    "    # ELiminar espacio al final si existe\n",
    "    nombre = re.sub(r\"\\s+$\",\"\",nombre)\n",
    "\n",
    "    return nombre\n",
    "\n",
    "# Aplicar función al DataFrame\n",
    "df[\"ESTABLECIMIENTO_LIMPIO\"] = df[\"ESTABLECIMIENTO_LIMPIO\"].apply(estandarizar_establecimiento)\n"
   ]
  },
  {
   "cell_type": "markdown",
   "id": "2178f0a5",
   "metadata": {},
   "source": [
    "Con los patrones observados, se realizó lo siguiente:\n",
    "- Eliminar espacios extra entre palabras y ó números\n",
    "- Eliminar acentuación y diéresis para estandarizar nombres\n",
    "- Eliminar caractéres como `\"`, `'`, `-`, entre otros\n",
    "- Eliminar puntos y espacios al final\n",
    "- Corregir faltas comunes de ortografía"
   ]
  },
  {
   "cell_type": "markdown",
   "id": "e658ec2d",
   "metadata": {},
   "source": [
    "### **DIRECCIÓN**"
   ]
  },
  {
   "cell_type": "markdown",
   "id": "412b999d",
   "metadata": {},
   "source": [
    "**Limpieza del campo y estandarización de abreviaturas**"
   ]
  },
  {
   "cell_type": "code",
   "execution_count": 78,
   "id": "2188a286",
   "metadata": {},
   "outputs": [],
   "source": [
    "def limpiar_direccion(texto):\n",
    "    if pd.isnull(texto):\n",
    "        return \"SIN INFORMACION\"\n",
    "    \n",
    "    texto = str(texto).strip().upper()\n",
    "    \n",
    "    texto = unicodedata.normalize('NFKD', texto)\n",
    "    texto = ''.join(c for c in texto if not unicodedata.combining(c))\n",
    "    \n",
    "    texto = texto.replace('\"', '').replace(\"'\", '').replace('–', '').replace('—', '')\n",
    "    texto = texto.replace(';', '').replace('.', '').replace(',', '')\n",
    "\n",
    "    texto = re.sub(r'\\bKM\\.?(\\d)', r'KM \\1', texto)\n",
    "\n",
    "    # Reemplazar abreviaturas comunes\n",
    "    texto = re.sub(r'\\bAV\\b|\\bAVENIDA\\b|\\bAVE\\b', 'AVENIDA', texto)\n",
    "    texto = re.sub(r'\\bZ\\b', 'ZONA', texto)\n",
    "    texto = re.sub(r'\\bCOL\\b', 'COLONIA', texto)\n",
    "    texto = re.sub(r'\\s+', ' ', texto)\n",
    "    \n",
    "    texto = re.sub(r'\\s+', ' ', texto)\n",
    "\n",
    "    return texto\n",
    "\n",
    "df[\"DIRECCION_LIMPIA\"] = df[\"DIRECCION\"].apply(limpiar_direccion)\n"
   ]
  },
  {
   "cell_type": "markdown",
   "id": "0f19973e",
   "metadata": {},
   "source": [
    "La columna `DIRECCION` representa una de las variables más susceptibles a inconsistencias en el formato, redacción y uso de caracteres especiales, ya que suele ser ingresada manualmente por distintas fuentes. Para garantizar la coherencia y la posibilidad de identificar direcciones duplicadas o similares, se aplicó un proceso de limpieza y estandarización conservador pero completo, implementado en una nueva columna llamada DIRECCION_LIMPIA."
   ]
  },
  {
   "cell_type": "markdown",
   "id": "4c5c6a3d",
   "metadata": {},
   "source": [
    "### **TELEFONO**"
   ]
  },
  {
   "cell_type": "markdown",
   "id": "5ec6fe47",
   "metadata": {},
   "source": [
    "**Realizar una limpieza básica de los números telefónicos, tratar valores nulos y estandarizarlos**"
   ]
  },
  {
   "cell_type": "code",
   "execution_count": 79,
   "id": "53590264",
   "metadata": {},
   "outputs": [],
   "source": [
    "def limpiar_y_validar(numero):\n",
    "    # Quitar todo lo que no sea número\n",
    "    solo_numeros = re.sub(r\"[^\\d]\", \"\", str(numero))\n",
    "\n",
    "    if not solo_numeros:\n",
    "        return None\n",
    "\n",
    "    if len(solo_numeros) == 8:\n",
    "        return solo_numeros\n",
    "\n",
    "    # Si es más largo, asumimos que el número está al final\n",
    "    if len(solo_numeros) > 8:\n",
    "        posible = solo_numeros[-8:]\n",
    "        return posible if len(posible) == 8 else None\n",
    "\n",
    "    return None\n",
    "\n",
    "def estandarizar_telefonos(valor):\n",
    "    if pd.isna(valor) or str(valor).strip().upper() in {\"NAN\", \"\", \"NO DISPONIBLE\"}:\n",
    "        return \"NO DISPONIBLE\", \"NO DISPONIBLE\", \"NO DISPONIBLE\"\n",
    "\n",
    "    partes = re.split(r\"[\\/,\\-]\", str(valor))\n",
    "\n",
    "    telefonos_validos = []\n",
    "    for parte in partes:\n",
    "        numero = limpiar_y_validar(parte)\n",
    "        if numero:\n",
    "            telefonos_validos.append(numero)\n",
    "\n",
    "    # Rellenar hasta 3\n",
    "    telefonos_validos += [\"NO DISPONIBLE\"] * (3 - len(telefonos_validos))\n",
    "\n",
    "    return tuple(telefonos_validos[:3])\n",
    "\n",
    "# Aplicar la función y asignar dos columnas\n",
    "df[[\"TELEFONO_LIMPIO\", \"TELEFONO_2_LIMPIO\", \"TELEFONO_3_LIMPIO\"]] = df[\"TELEFONO\"].apply(\n",
    "    lambda x: pd.Series(estandarizar_telefonos(x))\n",
    ")\n"
   ]
  },
  {
   "cell_type": "code",
   "execution_count": 80,
   "id": "2621864f",
   "metadata": {},
   "outputs": [
    {
     "data": {
      "text/plain": [
       "TELEFONOS_VALIDOS\n",
       "0      63\n",
       "1    6488\n",
       "2      32\n",
       "3       1\n",
       "Name: count, dtype: int64"
      ]
     },
     "execution_count": 80,
     "metadata": {},
     "output_type": "execute_result"
    }
   ],
   "source": [
    "df[\"TELEFONOS_VALIDOS\"] = df[[\"TELEFONO_LIMPIO\", \"TELEFONO_2_LIMPIO\", \"TELEFONO_3_LIMPIO\"]].apply(\n",
    "    lambda row: sum(tel != \"NO DISPONIBLE\" for tel in row), axis=1\n",
    ")\n",
    "\n",
    "df[\"TELEFONOS_VALIDOS\"].value_counts().sort_index()\n"
   ]
  },
  {
   "cell_type": "markdown",
   "id": "9b61e649",
   "metadata": {},
   "source": [
    "Se estandarizó el campo `TELEFONO` eliminando todos los caracteres no numéricos y normalizando los valores a un formato de 8 dígitos.  \n",
    "En caso de que un registro contuviera múltiples números separados por `/`, `,` o `-`, se extrajeron hasta tres números válidos y se asignaron a las columnas `TELEFONO_LIMPIO`, `TELEFONO_2_LIMPIO` y `TELEFONO_3_LIMPIO`.  \n",
    "Cuando un número tenía más de 8 dígitos, se conservaron los últimos 8 bajo el supuesto de que correspondían al número principal.  \n",
    "Si no se encontró ningún valor válido, se asignó `\"NO DISPONIBLE\"` en cada una de las columnas correspondientes.\n"
   ]
  },
  {
   "cell_type": "markdown",
   "id": "d51bdb16",
   "metadata": {},
   "source": [
    "### **SUPERVISOR**"
   ]
  },
  {
   "cell_type": "markdown",
   "id": "0832b770",
   "metadata": {},
   "source": [
    "**Limpieza de espacios y acentuaciones en el nombre de los supervisores, además de una validación de posibles valores nulos**"
   ]
  },
  {
   "cell_type": "code",
   "execution_count": 81,
   "id": "d58e0085",
   "metadata": {},
   "outputs": [],
   "source": [
    "def limpiar_supervisor(nombre):\n",
    "    if pd.isnull(nombre):\n",
    "        return \"NO REGISTRADO\"\n",
    "    \n",
    "    \n",
    "    # Eliminar tildes y caracteres especiales\n",
    "    nombre = unicodedata.normalize('NFKD', nombre)\n",
    "    nombre = ''.join(c for c in nombre if not unicodedata.combining(c))\n",
    "    \n",
    "    nombre = re.sub(r'\\s+', ' ', nombre)\n",
    "\n",
    "    return nombre\n",
    "\n",
    "df[\"SUPERVISOR_LIMPIO\"] = df[\"SUPERVISOR\"].apply(limpiar_supervisor)\n"
   ]
  },
  {
   "cell_type": "markdown",
   "id": "2c12af55",
   "metadata": {},
   "source": [
    "Reemplazar los nombres mal escritos por los valores correctos"
   ]
  },
  {
   "cell_type": "code",
   "execution_count": 82,
   "id": "801f603a",
   "metadata": {},
   "outputs": [],
   "source": [
    "reemplazos_supervisor = {\n",
    "    \"ROERICO DE LA CRUZ ICAL\": \"RODERICO DE LA CRUZ ICAL\"\n",
    "}\n",
    "\n",
    "df[\"SUPERVISOR_LIMPIO\"] = df[\"SUPERVISOR_LIMPIO\"].replace(reemplazos_supervisor)\n"
   ]
  },
  {
   "cell_type": "markdown",
   "id": "43c07578",
   "metadata": {},
   "source": [
    "Se eliminaron tildes, se convirtió a mayúsculas, y se eliminaron espacios múltiples. Posteriormente se aplicó fuzzy matching para detectar nombres similares escritos de forma distinta \n",
    "(por ejemplo: \"MARÍA LÓPEZ\" vs \"MARIA LOPEZ\"). Se identificó el nombre de uno de los supervisores con errores tipográficos mediante fuzzy matching. Por ejemplo, ROERICO DE LA CRUZ ICAL tenía una similitud del 97.87% con RODERICO DE LA CRUZ ICAL. Por tanto, se estandarizó utilizando un diccionario de reemplazo."
   ]
  },
  {
   "cell_type": "markdown",
   "id": "a9d9e147",
   "metadata": {},
   "source": [
    "### **DIRECTOR**"
   ]
  },
  {
   "cell_type": "markdown",
   "id": "c1844df1",
   "metadata": {},
   "source": [
    "**Limpieza de espacios y acentuaciones en el nombre de los directores, además de una validación de posibles valores nulos**"
   ]
  },
  {
   "cell_type": "code",
   "execution_count": 83,
   "id": "05c7bc89",
   "metadata": {},
   "outputs": [],
   "source": [
    "def limpiar_director(nombre):\n",
    "    if pd.isnull(nombre):\n",
    "        return \"NO REGISTRADO\"\n",
    "    \n",
    "    \n",
    "    # Eliminar tildes y caracteres especiales\n",
    "    nombre = unicodedata.normalize('NFKD', nombre)\n",
    "    nombre = ''.join(c for c in nombre if not unicodedata.combining(c))\n",
    "    \n",
    "    nombre = re.sub(r'\\s+', ' ', nombre)\n",
    "\n",
    "    return nombre\n",
    "\n",
    "df[\"DIRECTOR_LIMPIO\"] = df[\"DIRECTOR\"].apply(limpiar_director)\n"
   ]
  },
  {
   "cell_type": "markdown",
   "id": "9b3a5a77",
   "metadata": {},
   "source": [
    "Reemplazar los nombres mal escritos por su valor correcto"
   ]
  },
  {
   "cell_type": "code",
   "execution_count": 84,
   "id": "3f82859d",
   "metadata": {},
   "outputs": [],
   "source": [
    "reemplazos_director = {\n",
    "    \"BRAYAN ONELL GAITAN RODRIGUEZ\" : \"BRYAN O'NELL GAITAN RODRIGUEZ\",\n",
    "    \"MARTA NOREIGA\" : \"MARTA NORIEGA\",\n",
    "    \"JULIO ENRIQUE JAREZ SILVESTRE\" : \"JULIO ENRIQUE JUAREZ SILVESTRE\",\n",
    "    \"FREDY ANTONIO CUELLAR RODRUIGUEZ\" : \"FREDY ANTONIO CUELLAR RODRIGUEZ\",\n",
    "    \"FRANCISCO CASTELLANOS MATUS\" : \"RAMON FRANCISCO CASTELLANOS MATUS\",\n",
    "    \"MIGUEL ANGEL PISQUY QUIXTAN\" : \"MIGUEL ANGEL PISQUIY QUIXTAN\",\n",
    "    \"VICTOR DENIEL VASQUEZ GOMEZ\" : \"VICTOR DANIEL VASQUEZ GOMEZ\",\n",
    "    \"ARGELIA EDTIH MARROQUIN LOPEZ\" : \"ARGELIA EDITH MARROQUIN LOPEZ\",\n",
    "}\n",
    "\n",
    "df[\"DIRECTOR_LIMPIO\"] = df[\"DIRECTOR_LIMPIO\"].replace(reemplazos_director)\n"
   ]
  },
  {
   "cell_type": "markdown",
   "id": "ea097d57",
   "metadata": {},
   "source": [
    "Primero se estandarizaron los nombres eliminano los espacios dobles, eliminando las tildes y reemplazando posibles signos que podían causar problemas como las comillas(`\"`) entre nombres o incluso la comilla inversa  ``` ` ```.\n",
    "\n",
    "Posteriormente se aplicó fuzzy matching para detectar nombres similares escritos de forma distinta \n",
    "(por ejemplo: \"MARÍA LÓPEZ\" vs \"MARIA LOPEZ\"). Se identificó el nombre de varios directores con errores tipográficos mediante fuzzy matching. Por ejemplo,MARTA NOREIGA tenía una similitud del 92.31% con MARTA NORIEGA. \n",
    "\n",
    "Por tanto, se estandarizó utilizando un diccionario de reemplazo para cada director con el fin de mantener los nombres con una única forma de escribir."
   ]
  },
  {
   "cell_type": "markdown",
   "id": "09b36029",
   "metadata": {},
   "source": [
    "## **Exportación del Dataset limpio**"
   ]
  },
  {
   "cell_type": "markdown",
   "id": "803db7fe",
   "metadata": {},
   "source": [
    "Ahora que se ha realizado la limpieza y estandarización de los valores, se utilizarán las columnas procesadas (originalmente marcadas con el sufijo `_LIMPIO`) para generar una nueva versión del conjunto de datos.\n",
    "\n",
    "Este nuevo archivo contendrá únicamente los campos ya preparados para análisis, y se exportará en la dirección [`limpieza/output/datos_limpios.csv`](/limpieza/output/datos_limpios.csv)."
   ]
  },
  {
   "cell_type": "code",
   "execution_count": 85,
   "id": "8cb5eb6d",
   "metadata": {},
   "outputs": [],
   "source": [
    "# Seleccionar columnas limpias\n",
    "columnas_limpias = [col for col in df.columns if col.endswith(\"_LIMPIO\")]\n",
    "df_limpio = df[columnas_limpias].copy()\n",
    "\n",
    "# Renombrar columnas eliminando el sufijo _LIMPIO\n",
    "df_limpio.columns = [col.replace(\"_LIMPIO\", \"\") for col in columnas_limpias]\n",
    "\n",
    "# Reordenar columnas de teléfono: TELEFONO, TELEFONO_2, TELEFONO_3\n",
    "cols = list(df_limpio.columns)\n",
    "tel_cols = [\"TELEFONO_3\",\"TELEFONO_2\"]\n",
    "\n",
    "for col in tel_cols:\n",
    "    if col in cols:\n",
    "        cols.remove(col)\n",
    "        tel_index = cols.index(\"TELEFONO\")\n",
    "        cols.insert(tel_index + 1, col)\n",
    "\n",
    "df_limpio = df_limpio[cols]\n",
    "\n",
    "# Guardar CSV limpio\n",
    "os.makedirs(\"../limpieza/output\", exist_ok=True)\n",
    "df_limpio.to_csv(\"../limpieza/output/datos_limpios.csv\", index=False, encoding=\"utf-8-sig\")"
   ]
  },
  {
   "cell_type": "markdown",
   "id": "6cbfa8ba",
   "metadata": {},
   "source": [
    "Así es como finalmente se concluye el proceso de limpieza, se estandarizaron todas las columnas del dataset original.\n",
    "\n",
    "1. Se unificaron los datasets con el script [union_datos.py](../scripts/union_datos.py).\n",
    "\n",
    "2. Se duplicaron las columnas para aplicarles la limpieza\n",
    "\n",
    "3. Se limpiaron las columnas de texto eliminando espacios extremos y convirtieron a mayúsculas\n",
    "Se verificó el `DEPARTAMENTO` y `MUNICIPIO` de cada centro educativo comparando los valores con datos oficiales extraídos del [Instituto Nacional de Estadística Guatemala](https://www.ine.gob.gt).\n",
    "\n",
    "4. Para los nombres de los `ESTABLECIMIENTOS` se eliminaron caracteres especiales como `\"`, `'`, `-`. Además de corregir faltas ortográficas en las palabras más comunes.\n",
    "\n",
    "5. Para las `DIRECCIONES`, al ser una de las variables más susceptibles a inconsistencias en el formato, se aplicó un proceso de estandarización conservador. Se mantuvo un estándar para nombrar las calles o avenidas.\n",
    "\n",
    "6. Para los `TELEFONOS` se encontraron varios valores con más de 8 dígitos, por lo que se aplicaron diversas reglas o condiciones para incluso agregar números extra para el caso de **17** y **26** dígitos. Además, los números inválidos se reemplazaron por **`NO DISPONIBLE`**.\n",
    "\n",
    "7. Tanto para `SUPERVISOR` como para `DIRECTOR`, se estandarizaron los valores eliminando tildes y espacios múltiples. Además que, se corregiecon las inconsistencias de nombres mal escritos.\n",
    "\n",
    "8. Finalmente se exporta el dataset limpio en la siguiente dirección: [`limpieza/output/datos_limpios.csv`](/limpieza/output/datos_limpios.csv)."
   ]
  }
 ],
 "metadata": {
  "kernelspec": {
   "display_name": "Python 3",
   "language": "python",
   "name": "python3"
  },
  "language_info": {
   "codemirror_mode": {
    "name": "ipython",
    "version": 3
   },
   "file_extension": ".py",
   "mimetype": "text/x-python",
   "name": "python",
   "nbconvert_exporter": "python",
   "pygments_lexer": "ipython3",
   "version": "3.13.3"
  }
 },
 "nbformat": 4,
 "nbformat_minor": 5
}
